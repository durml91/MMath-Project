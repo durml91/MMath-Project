{
  "nbformat": 4,
  "nbformat_minor": 0,
  "metadata": {
    "colab": {
      "provenance": [],
      "authorship_tag": "ABX9TyOp8rQ2+Ipq6/1Nr4Itws2V",
      "include_colab_link": true
    },
    "kernelspec": {
      "name": "python3",
      "display_name": "Python 3"
    },
    "language_info": {
      "name": "python"
    },
    "gpuClass": "standard",
    "accelerator": "GPU"
  },
  "cells": [
    {
      "cell_type": "markdown",
      "metadata": {
        "id": "view-in-github",
        "colab_type": "text"
      },
      "source": [
        "<a href=\"https://colab.research.google.com/github/durml91/MMath-Project/blob/duo-branch/Diffusion_RL/new_diff_QL.ipynb\" target=\"_parent\"><img src=\"https://colab.research.google.com/assets/colab-badge.svg\" alt=\"Open In Colab\"/></a>"
      ]
    },
    {
      "cell_type": "code",
      "execution_count": 1,
      "metadata": {
        "colab": {
          "base_uri": "https://localhost:8080/"
        },
        "id": "fnhxhm6KFUIM",
        "outputId": "7d0b385d-fb2a-419b-c083-b4c41f3ace78"
      },
      "outputs": [
        {
          "output_type": "stream",
          "name": "stdout",
          "text": [
            "Looking in indexes: https://pypi.org/simple, https://us-python.pkg.dev/colab-wheels/public/simple/\n",
            "Collecting einops\n",
            "  Downloading einops-0.6.0-py3-none-any.whl (41 kB)\n",
            "\u001b[2K     \u001b[90m━━━━━━━━━━━━━━━━━━━━━━━━━━━━━━━━━━━━━━━\u001b[0m \u001b[32m41.6/41.6 KB\u001b[0m \u001b[31m381.1 kB/s\u001b[0m eta \u001b[36m0:00:00\u001b[0m\n",
            "\u001b[?25hInstalling collected packages: einops\n",
            "Successfully installed einops-0.6.0\n",
            "Looking in indexes: https://pypi.org/simple, https://us-python.pkg.dev/colab-wheels/public/simple/\n",
            "Collecting equinox\n",
            "  Downloading equinox-0.10.1-py3-none-any.whl (108 kB)\n",
            "\u001b[2K     \u001b[90m━━━━━━━━━━━━━━━━━━━━━━━━━━━━━━━━━━━━━━━\u001b[0m \u001b[32m108.7/108.7 KB\u001b[0m \u001b[31m2.0 MB/s\u001b[0m eta \u001b[36m0:00:00\u001b[0m\n",
            "\u001b[?25hRequirement already satisfied: jax>=0.4.3 in /usr/local/lib/python3.8/dist-packages (from equinox) (0.4.4)\n",
            "Collecting jaxtyping>=0.2.12\n",
            "  Downloading jaxtyping-0.2.14-py3-none-any.whl (20 kB)\n",
            "Requirement already satisfied: scipy>=1.5 in /usr/local/lib/python3.8/dist-packages (from jax>=0.4.3->equinox) (1.10.1)\n",
            "Requirement already satisfied: opt-einsum in /usr/local/lib/python3.8/dist-packages (from jax>=0.4.3->equinox) (3.3.0)\n",
            "Requirement already satisfied: numpy>=1.20 in /usr/local/lib/python3.8/dist-packages (from jax>=0.4.3->equinox) (1.22.4)\n",
            "Collecting typeguard>=2.13.3\n",
            "  Downloading typeguard-2.13.3-py3-none-any.whl (17 kB)\n",
            "Requirement already satisfied: typing-extensions>=3.7.4.1 in /usr/local/lib/python3.8/dist-packages (from jaxtyping>=0.2.12->equinox) (4.5.0)\n",
            "Installing collected packages: typeguard, jaxtyping, equinox\n",
            "  Attempting uninstall: typeguard\n",
            "    Found existing installation: typeguard 2.7.1\n",
            "    Uninstalling typeguard-2.7.1:\n",
            "      Successfully uninstalled typeguard-2.7.1\n",
            "Successfully installed equinox-0.10.1 jaxtyping-0.2.14 typeguard-2.13.3\n",
            "Looking in indexes: https://pypi.org/simple, https://us-python.pkg.dev/colab-wheels/public/simple/\n",
            "Collecting optax\n",
            "  Downloading optax-0.1.4-py3-none-any.whl (154 kB)\n",
            "\u001b[2K     \u001b[90m━━━━━━━━━━━━━━━━━━━━━━━━━━━━━━━━━━━━━━\u001b[0m \u001b[32m154.9/154.9 KB\u001b[0m \u001b[31m13.1 MB/s\u001b[0m eta \u001b[36m0:00:00\u001b[0m\n",
            "\u001b[?25hRequirement already satisfied: numpy>=1.18.0 in /usr/local/lib/python3.8/dist-packages (from optax) (1.22.4)\n",
            "Requirement already satisfied: absl-py>=0.7.1 in /usr/local/lib/python3.8/dist-packages (from optax) (1.4.0)\n",
            "Collecting chex>=0.1.5\n",
            "  Downloading chex-0.1.6-py3-none-any.whl (87 kB)\n",
            "\u001b[2K     \u001b[90m━━━━━━━━━━━━━━━━━━━━━━━━━━━━━━━━━━━━━━━━\u001b[0m \u001b[32m87.9/87.9 KB\u001b[0m \u001b[31m11.3 MB/s\u001b[0m eta \u001b[36m0:00:00\u001b[0m\n",
            "\u001b[?25hRequirement already satisfied: jax>=0.1.55 in /usr/local/lib/python3.8/dist-packages (from optax) (0.4.4)\n",
            "Requirement already satisfied: jaxlib>=0.1.37 in /usr/local/lib/python3.8/dist-packages (from optax) (0.4.4+cuda11.cudnn82)\n",
            "Requirement already satisfied: typing-extensions>=3.10.0 in /usr/local/lib/python3.8/dist-packages (from optax) (4.5.0)\n",
            "Requirement already satisfied: toolz>=0.9.0 in /usr/local/lib/python3.8/dist-packages (from chex>=0.1.5->optax) (0.12.0)\n",
            "Requirement already satisfied: dm-tree>=0.1.5 in /usr/local/lib/python3.8/dist-packages (from chex>=0.1.5->optax) (0.1.8)\n",
            "Requirement already satisfied: scipy>=1.5 in /usr/local/lib/python3.8/dist-packages (from jax>=0.1.55->optax) (1.10.1)\n",
            "Requirement already satisfied: opt-einsum in /usr/local/lib/python3.8/dist-packages (from jax>=0.1.55->optax) (3.3.0)\n",
            "Installing collected packages: chex, optax\n",
            "Successfully installed chex-0.1.6 optax-0.1.4\n",
            "Looking in indexes: https://pypi.org/simple, https://us-python.pkg.dev/colab-wheels/public/simple/\n",
            "Collecting diffrax\n",
            "  Downloading diffrax-0.3.1-py3-none-any.whl (140 kB)\n",
            "\u001b[2K     \u001b[90m━━━━━━━━━━━━━━━━━━━━━━━━━━━━━━━━━━━━━━\u001b[0m \u001b[32m140.4/140.4 KB\u001b[0m \u001b[31m13.7 MB/s\u001b[0m eta \u001b[36m0:00:00\u001b[0m\n",
            "\u001b[?25hRequirement already satisfied: equinox>=0.10.0 in /usr/local/lib/python3.8/dist-packages (from diffrax) (0.10.1)\n",
            "Requirement already satisfied: jax>=0.4.3 in /usr/local/lib/python3.8/dist-packages (from diffrax) (0.4.4)\n",
            "Requirement already satisfied: jaxtyping>=0.2.12 in /usr/local/lib/python3.8/dist-packages (from equinox>=0.10.0->diffrax) (0.2.14)\n",
            "Requirement already satisfied: scipy>=1.5 in /usr/local/lib/python3.8/dist-packages (from jax>=0.4.3->diffrax) (1.10.1)\n",
            "Requirement already satisfied: numpy>=1.20 in /usr/local/lib/python3.8/dist-packages (from jax>=0.4.3->diffrax) (1.22.4)\n",
            "Requirement already satisfied: opt-einsum in /usr/local/lib/python3.8/dist-packages (from jax>=0.4.3->diffrax) (3.3.0)\n",
            "Requirement already satisfied: typeguard>=2.13.3 in /usr/local/lib/python3.8/dist-packages (from jaxtyping>=0.2.12->equinox>=0.10.0->diffrax) (2.13.3)\n",
            "Requirement already satisfied: typing-extensions>=3.7.4.1 in /usr/local/lib/python3.8/dist-packages (from jaxtyping>=0.2.12->equinox>=0.10.0->diffrax) (4.5.0)\n",
            "Installing collected packages: diffrax\n",
            "Successfully installed diffrax-0.3.1\n"
          ]
        }
      ],
      "source": [
        "!pip install einops\n",
        "!pip install equinox\n",
        "!pip install optax\n",
        "!pip install diffrax"
      ]
    },
    {
      "cell_type": "code",
      "source": [
        "import array\n",
        "import functools as ft\n",
        "import gzip\n",
        "import os\n",
        "import struct\n",
        "import urllib.request\n",
        "\n",
        "import diffrax as dfx  # https://github.com/patrick-kidger/diffrax\n",
        "import einops  # https://github.com/arogozhnikov/einops\n",
        "import jax\n",
        "import jax.numpy as jnp\n",
        "import jax.random as jr\n",
        "import matplotlib.pyplot as plt\n",
        "import optax  # https://github.com/deepmind/optax\n",
        "\n",
        "import equinox as eqx\n",
        "import numpy as np"
      ],
      "metadata": {
        "id": "VSTRqk-UJiwN"
      },
      "execution_count": 2,
      "outputs": []
    },
    {
      "cell_type": "code",
      "source": [
        "key = jr.PRNGKey(2023)"
      ],
      "metadata": {
        "id": "31bgPb4SF6Tv"
      },
      "execution_count": 3,
      "outputs": []
    },
    {
      "cell_type": "markdown",
      "source": [
        "Data generation"
      ],
      "metadata": {
        "id": "If4ROMDkGPe3"
      }
    },
    {
      "cell_type": "code",
      "source": [
        "def Gaussian(N, mu, sigma, key):\n",
        "    sg = jr.normal(key, shape=(N,2))\n",
        "    g = mu + sigma * sg\n",
        "    return g"
      ],
      "metadata": {
        "id": "Xog5Tp-qGOSG"
      },
      "execution_count": 4,
      "outputs": []
    },
    {
      "cell_type": "code",
      "source": [
        "mean1 = jnp.array((0.0, 0.8))\n",
        "mean2 = jnp.array((0.0, -0.8))\n",
        "mean3 = jnp.array((0.8, 0.0))\n",
        "mean4 = jnp.array((-0.8, 0.0))\n",
        "std = jnp.array((0.05, 0.05))"
      ],
      "metadata": {
        "id": "YDD_MXpZHMMF"
      },
      "execution_count": 5,
      "outputs": []
    },
    {
      "cell_type": "code",
      "source": [
        "s1 = Gaussian(2500, mean1, std, key)\n",
        "s2 = Gaussian(2500, mean2, std, key)\n",
        "s3 = Gaussian(2500, mean3, std, key)\n",
        "s4 = Gaussian(2500, mean4, std, key)"
      ],
      "metadata": {
        "id": "HXdrsi6wG2PQ"
      },
      "execution_count": 6,
      "outputs": []
    },
    {
      "cell_type": "code",
      "source": [
        "samples = jnp.concatenate([s1, s2, s3, s4], axis=0)"
      ],
      "metadata": {
        "id": "rYdXG6mLIhul"
      },
      "execution_count": 7,
      "outputs": []
    },
    {
      "cell_type": "code",
      "source": [
        "import matplotlib.pyplot as plt"
      ],
      "metadata": {
        "id": "u_57GzdwIvDe"
      },
      "execution_count": null,
      "outputs": []
    },
    {
      "cell_type": "code",
      "source": [
        "plt.figure().add_subplot(111).set_aspect(\"equal\", adjustable=\"box\")\n",
        "plt.scatter(samples[:, 0], samples[:, 1], alpha=0.1) #plot 1st row as x values and 2nd row as y values on the plot\n",
        "plt.xticks([-2, 0, 2])\n",
        "plt.yticks([-2, 0, 2])\n",
        "plt.show()"
      ],
      "metadata": {
        "colab": {
          "base_uri": "https://localhost:8080/",
          "height": 269
        },
        "id": "xVO8q3RtINQ-",
        "outputId": "6eee6b6f-8cd5-4834-d84a-f5eebdf8056e"
      },
      "execution_count": null,
      "outputs": [
        {
          "output_type": "display_data",
          "data": {
            "text/plain": [
              "<Figure size 432x288 with 1 Axes>"
            ],
            "image/png": "[encoded data removed]"
          },
          "metadata": {
            "needs_background": "light"
          }
        }
      ]
    },
    {
      "cell_type": "markdown",
      "source": [
        "Add reward"
      ],
      "metadata": {
        "id": "HigwlJ9rPOpd"
      }
    },
    {
      "cell_type": "code",
      "source": [
        "def rewGau(N, mu, sigma, key):\n",
        "    sg = jr.normal(key, shape=(N,1))\n",
        "    g = mu + sigma * sg\n",
        "    return g"
      ],
      "metadata": {
        "id": "iJfsPgc6PZhH"
      },
      "execution_count": 8,
      "outputs": []
    },
    {
      "cell_type": "code",
      "source": [
        "r1 = rewGau(2500, 3.0, 0.5, key)\n",
        "r2 = rewGau(2500, 5.0, 0.5, key)\n",
        "r3 = rewGau(2500, 1.5, 0.5, key)\n",
        "r4 = rewGau(2500, 0.0, 0.5, key)"
      ],
      "metadata": {
        "id": "TN8QHVolPPnh"
      },
      "execution_count": 9,
      "outputs": []
    },
    {
      "cell_type": "code",
      "source": [
        "rewards = jnp.concatenate([r1, r2, r3, r4], axis=0)"
      ],
      "metadata": {
        "id": "KOIVi_ZNP5w9"
      },
      "execution_count": 10,
      "outputs": []
    },
    {
      "cell_type": "code",
      "source": [
        "rewards.shape"
      ],
      "metadata": {
        "colab": {
          "base_uri": "https://localhost:8080/"
        },
        "id": "YKfv3fwIP-O6",
        "outputId": "73a6aade-d03a-4c1b-bc90-b105e4eff826"
      },
      "execution_count": null,
      "outputs": [
        {
          "output_type": "execute_result",
          "data": {
            "text/plain": [
              "(10000, 1)"
            ]
          },
          "metadata": {},
          "execution_count": 54
        }
      ]
    },
    {
      "cell_type": "markdown",
      "source": [
        "Join actions and rewards"
      ],
      "metadata": {
        "id": "cPTtJSmLQWES"
      }
    },
    {
      "cell_type": "code",
      "source": [
        "comb = jnp.concatenate([samples, rewards], axis=1)"
      ],
      "metadata": {
        "id": "18Dr8v4kQGdp"
      },
      "execution_count": 11,
      "outputs": []
    },
    {
      "cell_type": "code",
      "source": [
        "comb[0]"
      ],
      "metadata": {
        "colab": {
          "base_uri": "https://localhost:8080/"
        },
        "id": "IZTx_fDlNXcD",
        "outputId": "593fc66e-b394-4d68-a3bb-41466e27ab65"
      },
      "execution_count": null,
      "outputs": [
        {
          "output_type": "execute_result",
          "data": {
            "text/plain": [
              "Array([0.0330051, 0.7809029, 2.9173243], dtype=float32)"
            ]
          },
          "metadata": {},
          "execution_count": 15
        }
      ]
    },
    {
      "cell_type": "code",
      "source": [
        "rewards[:,0]"
      ],
      "metadata": {
        "colab": {
          "base_uri": "https://localhost:8080/"
        },
        "id": "VsM-3TqQNdXk",
        "outputId": "6cce1529-1a0d-4568-808a-98fef7891b08"
      },
      "execution_count": null,
      "outputs": [
        {
          "output_type": "execute_result",
          "data": {
            "text/plain": [
              "(10000,)"
            ]
          },
          "metadata": {},
          "execution_count": 21
        }
      ]
    },
    {
      "cell_type": "code",
      "source": [
        "points = plt.scatter(samples[:, 0], samples[:, 1], c=rewards[:,0 ],cmap=\"jet\", lw=0)\n",
        "plt.colorbar(points)"
      ],
      "metadata": {
        "colab": {
          "base_uri": "https://localhost:8080/",
          "height": 282
        },
        "id": "0_Z4cmdjuZGn",
        "outputId": "f32b81ad-973b-48d4-9576-6e9550a73f4b"
      },
      "execution_count": 12,
      "outputs": [
        {
          "output_type": "execute_result",
          "data": {
            "text/plain": [
              "<matplotlib.colorbar.Colorbar at 0x7fe608213700>"
            ]
          },
          "metadata": {},
          "execution_count": 12
        },
        {
          "output_type": "display_data",
          "data": {
            "text/plain": [
              "<Figure size 432x288 with 2 Axes>"
            ],
            "image/png": "[encoded data removed]"
          },
          "metadata": {
            "needs_background": "light"
          }
        }
      ]
    },
    {
      "cell_type": "markdown",
      "source": [
        "Helper Functions"
      ],
      "metadata": {
        "id": "P87ftcYQQlWp"
      }
    },
    {
      "cell_type": "code",
      "source": [
        "from typing import Callable\n",
        "\n",
        "class Lambda1(eqx.Module):\n",
        "    fn: Callable\n",
        "    \n",
        "    def __call__(self, x, *, key=None):\n",
        "        return x * jnp.tanh(self.fn(x))"
      ],
      "metadata": {
        "id": "VhMrMVg9Q-Nh"
      },
      "execution_count": 13,
      "outputs": []
    },
    {
      "cell_type": "code",
      "source": [
        "# class SinusoidalTimEmb(eqx.Module):\n",
        "#     dim: int\n",
        "#     def __init__ (self, dim):\n",
        "#         self.dim = dim\n",
        "\n",
        "#     def __call__ (self, x):\n",
        "#           half_dim = self.dim // 2\n",
        "#           emb = jnp.log(10000) / (half_dim - 1)\n",
        "#           emb = jnp.exp(jnp.arange(half_dim) * - emb)\n",
        "#           emb = x[:, None] * emb[None, :]\n",
        "#           emb = jnp.concatenate([jnp.sin(emb), jnp.cos(emb)], axis=-1)\n",
        "#           return emb"
      ],
      "metadata": {
        "id": "yuXK5aKwgvym"
      },
      "execution_count": null,
      "outputs": []
    },
    {
      "cell_type": "markdown",
      "source": [
        "Networks"
      ],
      "metadata": {
        "id": "bUBEz8cInq2N"
      }
    },
    {
      "cell_type": "code",
      "source": [
        "class ActorNet(eqx.Module):\n",
        "  main_net: eqx.nn.MLP\n",
        "  t1: float\n",
        "\n",
        "  def __init__(self, in_size, out_size, hidden_size, depth, key):\n",
        "    (rng,) = jr.split(key, 1)\n",
        "    self.main_net = eqx.nn.MLP(in_size, out_size , hidden_size, depth, key = rng)\n",
        "    self.t1 = t1\n",
        "\n",
        "  def __call__(self, t, y):\n",
        "    t = t / self.t1\n",
        "    t = einops.repeat(t, \"-> 2\")\n",
        "    y = jnp.concatenate([y, t]) #axis =1\n",
        "    \n",
        "    y = self.main_net(y)\n",
        "    return y"
      ],
      "metadata": {
        "id": "_D4UlPIx9Xt7"
      },
      "execution_count": 35,
      "outputs": []
    },
    {
      "cell_type": "code",
      "source": [
        "class Critic1Net(eqx.Module):\n",
        "    Mlp: eqx.nn.MLP\n",
        "\n",
        "    def __init__(self, in_size, out_size, depth, hidden_size, key):\n",
        "        self.Mlp = eqx.nn.MLP(in_size, out_size, hidden_size, depth, key=key)\n",
        "\n",
        "    def __call__(self, x):\n",
        "      return self.Mlp(x)"
      ],
      "metadata": {
        "id": "CFTkkmKe3YeY"
      },
      "execution_count": 13,
      "outputs": []
    },
    {
      "cell_type": "code",
      "source": [
        "class Critic2Net(eqx.Module):\n",
        "    Mlp: eqx.nn.MLP\n",
        "\n",
        "    def __init__(self, in_size, out_size, depth, hidden_size, key):\n",
        "        self.Mlp = eqx.nn.MLP(in_size, out_size, hidden_size, depth, key=key)\n",
        "\n",
        "    def __call__(self, x):\n",
        "      return self.Mlp(x)"
      ],
      "metadata": {
        "id": "irrgLAAs44V1"
      },
      "execution_count": 14,
      "outputs": []
    },
    {
      "cell_type": "code",
      "source": [
        "# class ActorNet(eqx.Module):\n",
        "\n",
        "#     time_mlp: eqx.nn.Sequential\n",
        "#     mid_layer: eqx.nn.Sequential\n",
        "#     final_layer: eqx.nn.Linear\n",
        "#     t_dim: int = 16\n",
        "#     t1: float\n",
        "#     t_embed: eqx.Module\n",
        "\n",
        "#     def __init__ (self, *, key,):\n",
        "\n",
        "#         keya, keyb, keyc, keyd, keye, keyf = jr.split(key, 6)\n",
        " \n",
        "#         t_dim = self.t_dim\n",
        "#         self.t_embed = SinusoidalTimEmb(t_dim)\n",
        "#         self.time_mlp = eqx.nn.Sequential([\n",
        "#             eqx.nn.Linear(t_dim, t_dim *2, key=keya),\n",
        "#             Lambda1(jax.nn.softplus),\n",
        "#             eqx.nn.Linear(t_dim * 2, t_dim, key=keyb)   \n",
        "#         ])\n",
        "        \n",
        "#         input_dim = 2 + t_dim\n",
        "\n",
        "#         self.mid_layer = eqx.nn.Sequential([\n",
        "#             eqx.nn.Linear(input_dim ,256, key=keyc),\n",
        "#             Lambda1(jax.nn.softplus),\n",
        "#             eqx.nn.Linear(256, 256, key=keyd),\n",
        "#             Lambda1(jax.nn.softplus),\n",
        "#             eqx.nn.Linear(256, 256, key=keye),\n",
        "#             Lambda1(jax.nn.softplus)\n",
        "#         ])\n",
        "\n",
        "#         self.final_layer = eqx.nn.Linear(256, 2, key=keyf)\n",
        "\n",
        "#         self.t1 = t1\n",
        "\n",
        "#     def __call__(self, t, x):\n",
        "#         t = jnp.array([t])\n",
        "#         new_t = t/self.t1\n",
        "#         input = self.t_embed(new_t)\n",
        "#         input = jnp.squeeze(input)\n",
        "#         t = self.time_mlp(input)\n",
        "#         x = jnp.concatenate([x, t], axis=-1)\n",
        "#         x = self.mid_layer(x)\n",
        "\n",
        "#         return self.final_layer(x)"
      ],
      "metadata": {
        "id": "gwW_9v_ggS1C"
      },
      "execution_count": null,
      "outputs": []
    },
    {
      "cell_type": "code",
      "source": [
        "class Critic1Net(eqx.Module):\n",
        "  mlp: eqx.nn.Sequential\n",
        "\n",
        "  def __init__(self, in_size, out_size, hidden_size, key):  #hidden_size = 256\n",
        "    keya, keyb, keyc, keyd = jr.split(key, 4)\n",
        "    self.mlp = eqx.nn.Sequential([eqx.nn.Linear(in_size, hidden_size, key=keya),\n",
        "                                  Lambda1(jax.nn.softplus),\n",
        "                                  eqx.nn.Linear(hidden_size, hidden_size, key=keyb),\n",
        "                                  Lambda1(jax.nn.softplus),\n",
        "                                  eqx.nn.Linear(hidden_size, hidden_size, key=keyc),\n",
        "                                  Lambda1(jax.nn.softplus),\n",
        "                                  eqx.nn.Linear(hidden_size, out_size, key=keyd)])\n",
        "  def __call__(self, x):\n",
        "    return self.mlp(x)"
      ],
      "metadata": {
        "id": "yaMwaqWlQk5p"
      },
      "execution_count": 34,
      "outputs": []
    },
    {
      "cell_type": "code",
      "source": [
        "class Critic2Net(eqx.Module):\n",
        "  mlp: eqx.nn.Sequential\n",
        "\n",
        "  def __init__(self, in_size, out_size, hidden_size, key):  #hidden_size = 256\n",
        "    keya, keyb, keyc, keyd = jr.split(key, 4)\n",
        "    self.mlp = eqx.nn.Sequential([eqx.nn.Linear(in_size, hidden_size, key=keya),\n",
        "                                  Lambda1(jax.nn.softplus),\n",
        "                                  eqx.nn.Linear(hidden_size, hidden_size, key=keyb),\n",
        "                                  Lambda1(jax.nn.softplus),\n",
        "                                  eqx.nn.Linear(hidden_size, hidden_size, key=keyc),\n",
        "                                  Lambda1(jax.nn.softplus),\n",
        "                                  eqx.nn.Linear(hidden_size, out_size, key=keyd)])\n",
        "  def __call__(self, x):\n",
        "    return self.mlp(x)"
      ],
      "metadata": {
        "id": "DN2D_Wn6Uu_9"
      },
      "execution_count": 14,
      "outputs": []
    },
    {
      "cell_type": "markdown",
      "source": [
        "Target Functions"
      ],
      "metadata": {
        "id": "gD5mf-cNnw47"
      }
    },
    {
      "cell_type": "code",
      "source": [
        "def ema(new_weight: jax.Array, target_weight: jax.Array, beta: float) -> jax.Array:\n",
        "  update_w = target_weight * beta + (1 - beta)* new_weight\n",
        "  return update_w\n",
        "\n",
        "\n",
        "def EMA_w_update(current_model, target_model, init_fn, beta):\n",
        "  is_linear = lambda x: isinstance(x, eqx.nn.Linear)\n",
        "  \n",
        "  get_weights = lambda m: [x.weight\n",
        "                           for x in jax.tree_util.tree_leaves(m, is_leaf=is_linear)\n",
        "                           if is_linear(x)]\n",
        "  new_weights = get_weights(current_model)\n",
        "\n",
        "  target_weights = get_weights(target_model)\n",
        "\n",
        "  updated_weights = [init_fn(n_weight, t_weight, beta) for n_weight, t_weight in zip(new_weights, target_weights)]\n",
        "  new_model = eqx.tree_at(get_weights, target_model, updated_weights)\n",
        "\n",
        "  return new_model\n",
        "\n",
        "\n",
        "def EMA_b_update(current_model, target_model, init_fn, beta):\n",
        "  is_linear = lambda x: isinstance(x, eqx.nn.Linear)\n",
        "  get_biases = lambda m: [x.bias\n",
        "                          for x in jax.tree_util.tree_leaves(m, is_leaf=is_linear)\n",
        "                          if is_linear(x)]\n",
        "  new_biases = get_biases(current_model)\n",
        "  target_biases = get_biases(target_model)\n",
        "  updated_biases = [init_fn(c_bias, t_bias, beta) for c_bias, t_bias in zip(new_biases, target_biases)]\n",
        "  new_model = eqx.tree_at(get_biases, target_model, updated_biases)\n",
        "\n",
        "  return new_model"
      ],
      "metadata": {
        "id": "IyM7pJfEVY1w"
      },
      "execution_count": 16,
      "outputs": []
    },
    {
      "cell_type": "code",
      "source": [
        "def single_loss_fn(model, weight, int_beta, data, t, key):\n",
        "    mean = data * jnp.exp(-0.5 * int_beta(t))\n",
        "    var = jnp.maximum(1 - jnp.exp(-int_beta(t)), 1e-5)\n",
        "    std = jnp.sqrt(var)\n",
        "    noise = jr.normal(key, data.shape)\n",
        "    y = mean + std * noise\n",
        "    pred = model(t, y)\n",
        "    return weight(t) * jnp.mean((pred + noise / std) ** 2)"
      ],
      "metadata": {
        "id": "fyw2nKug0gBu"
      },
      "execution_count": 36,
      "outputs": []
    },
    {
      "cell_type": "code",
      "source": [
        "def batch_loss_fn(model, weight, int_beta, data, t1, key):\n",
        "    batch_size = data.shape[0]\n",
        "    tkey, losskey = jr.split(key)\n",
        "    losskey = jr.split(losskey, batch_size)\n",
        "    # Low-discrepancy sampling over t to reduce variance\n",
        "    t = jr.uniform(tkey, (batch_size,), minval=0, maxval=t1 / batch_size)\n",
        "    t = t + (t1 / batch_size) * jnp.arange(batch_size)\n",
        "    loss_fn = ft.partial(single_loss_fn, model, weight, int_beta)\n",
        "    loss_fn = jax.vmap(loss_fn)\n",
        "    return jnp.mean(loss_fn(data, t, losskey))"
      ],
      "metadata": {
        "id": "DTE48Lks0gr9"
      },
      "execution_count": 37,
      "outputs": []
    },
    {
      "cell_type": "code",
      "source": [
        "@eqx.filter_jit\n",
        "def single_sample_fn(model, int_beta, data_shape, dt0, t1, key):\n",
        "    def drift(t, y, args):\n",
        "        _, beta = jax.jvp(int_beta, (t,), (jnp.ones_like(t),))\n",
        "        return -0.5 * beta * (y + model(t, y))\n",
        "\n",
        "    term = dfx.ODETerm(drift)\n",
        "    solver = dfx.Tsit5()\n",
        "    t0 = 0\n",
        "    y1 = jr.normal(key, data_shape)\n",
        "    # reverse time, solve from t1 to t0\n",
        "    sol = dfx.diffeqsolve(term, solver, t1, t0, -dt0, y1)\n",
        "    return sol.ys[0]"
      ],
      "metadata": {
        "id": "ATKzJr7w0g0M"
      },
      "execution_count": 38,
      "outputs": []
    },
    {
      "cell_type": "markdown",
      "source": [
        "Parameters"
      ],
      "metadata": {
        "id": "15uVluT7bPry"
      }
    },
    {
      "cell_type": "code",
      "source": [
        "iterations = 20_000  #100\n",
        "data = comb\n",
        "batch_size = 256\n",
        "t1 = 10.0\n",
        "dt0 = 0.1\n",
        "data_shape  = (2,)\n",
        "discount = 0.99\n",
        "lr = 3e-4\n",
        "eta = 1.0  #q learning weight\n",
        "grad_norm = 1.0\n",
        "update_ema_every = 5\n",
        "step_start_ema = 1000\n",
        "beta = 0.995  #update policy network parameter\n",
        "#tau = 0.005   #update critic network parameter"
      ],
      "metadata": {
        "id": "yrYvRAajbQtz"
      },
      "execution_count": 81,
      "outputs": []
    },
    {
      "cell_type": "code",
      "source": [
        "int_beta = lambda t: t\n",
        "weight = lambda t: 1 - jnp.exp(-int_beta(t))  "
      ],
      "metadata": {
        "id": "XL4q5iNCl8zt"
      },
      "execution_count": 40,
      "outputs": []
    },
    {
      "cell_type": "markdown",
      "source": [
        "Initilialisations"
      ],
      "metadata": {
        "id": "xLFw-8ezgJl4"
      }
    },
    {
      "cell_type": "code",
      "source": [
        "key1, key2, key3 = jr.split(key, 3)"
      ],
      "metadata": {
        "id": "cJQfNeRIkDKR"
      },
      "execution_count": 41,
      "outputs": []
    },
    {
      "cell_type": "code",
      "source": [
        "c_Q1 = Critic1Net(2, 1, 256, key1)\n",
        "t_Q1 = Critic1Net(2, 1, 256, key1)\n",
        "\n",
        "\n",
        "c_Q2 = Critic2Net(2, 1, 256, key2)\n",
        "t_Q2 = Critic2Net(2, 1, 256, key2)"
      ],
      "metadata": {
        "id": "NBj9KytQBGBD"
      },
      "execution_count": 74,
      "outputs": []
    },
    {
      "cell_type": "code",
      "source": [
        "c_pi = ActorNet(4, 2, 256, 4, key=key3)\n",
        "t_pi = ActorNet(4, 2, 256, 4, key=key3)"
      ],
      "metadata": {
        "id": "KVS-KUcW-QK4"
      },
      "execution_count": 75,
      "outputs": []
    },
    {
      "cell_type": "code",
      "source": [
        "# clip = optax.clip_by_global_norm(1.0)\n",
        "\n",
        "# a_opt = optax.adabelief(lr)\n",
        "# Q_opt= optax.chain(clip, a_opt)\n",
        "\n",
        "# opt_state_cQ1 = Q_opt.init(eqx.filter(c_Q1, eqx.is_inexact_array))\n",
        "\n",
        "# opt_state_cQ2 = Q_opt.init(eqx.filter(c_Q2, eqx.is_inexact_array))\n",
        "\n",
        "\n",
        "\n",
        "# b_opt = optax.adabelief(lr)\n",
        "# pi_opt= optax.chain(clip, b_opt)\n",
        "\n",
        "# opt_state_pi = pi_opt.init(eqx.filter(c_pi, eqx.is_inexact_array))"
      ],
      "metadata": {
        "id": "Y3EGSJTYl-F3"
      },
      "execution_count": 82,
      "outputs": []
    },
    {
      "cell_type": "code",
      "source": [
        "scheduler = optax.cosine_decay_schedule(init_value = lr, decay_steps = iterations)\n",
        "\n",
        "Q_opt = optax.chain(\n",
        "    optax.clip_by_global_norm(1.0), \n",
        "    optax.scale_by_adam(),\n",
        "    optax.scale_by_schedule(scheduler),\n",
        "    optax.scale(-1.0)\n",
        ")\n",
        "\n",
        "\n",
        "opt_state_cQ1 = Q_opt.init(eqx.filter(c_Q1, eqx.is_inexact_array))\n",
        "\n",
        "opt_state_cQ2 = Q_opt.init(eqx.filter(c_Q2, eqx.is_inexact_array))\n",
        "\n",
        "\n",
        "\n",
        "pi_opt = optax.chain(\n",
        "    optax.clip_by_global_norm(1.0), \n",
        "    optax.scale_by_adam(),\n",
        "    optax.scale_by_schedule(scheduler) ,\n",
        "    optax.scale(-1.0) \n",
        ")\n",
        "\n",
        "\n",
        "opt_state_pi = pi_opt.init(eqx.filter(c_pi, eqx.is_inexact_array))"
      ],
      "metadata": {
        "id": "dfwf8lrzA1fA"
      },
      "execution_count": 76,
      "outputs": []
    },
    {
      "cell_type": "markdown",
      "source": [
        "Train"
      ],
      "metadata": {
        "id": "JrdLqt5vbMJS"
      }
    },
    {
      "cell_type": "code",
      "source": [
        "def critic_loss(c_Qa, c_Qb, t_pi, t_Q1, t_Q2, action, reward, n_act_key):\n",
        "    current_qa = jax.vmap(c_Qa)(action)\n",
        "    current_qb = jax.vmap(c_Qb)(action)\n",
        "    \n",
        "    alpha_key = jr.split(n_act_key, batch_size)\n",
        "    sample_fn = ft.partial(single_sample_fn, t_pi, int_beta, data_shape , dt0, t1)\n",
        "    next_action = jax.vmap(sample_fn)(alpha_key)\n",
        "\n",
        "    t_1 = jax.vmap(t_Q1)(next_action)\n",
        "    t_2 = jax.vmap(t_Q2)(next_action)\n",
        "  \n",
        "    target_q = jnp.minimum(t_1, t_2)\n",
        "    \n",
        "    #target_q = jax.lax.stop_gradient(reward + (discount * target_q))\n",
        "    target_q = reward + (discount * target_q)\n",
        "    \n",
        "    return jnp.mean( ( current_qa - target_q )**2) + jnp.mean( ( current_qb - target_q )**2)"
      ],
      "metadata": {
        "id": "5KvL4TGNijFa"
      },
      "execution_count": 77,
      "outputs": []
    },
    {
      "cell_type": "code",
      "source": [
        "def critic_update(c_Q1, c_Q2, t_pi, t_Q1, t_Q2, action, reward, n_act_key, opt_state_1, opt_state_2):\n",
        "    loss_fn = eqx.filter_value_and_grad(critic_loss)\n",
        "    \n",
        "    loss1, grads1 = loss_fn(c_Q1, c_Q2, t_pi, t_Q1, t_Q2, action, reward, n_act_key)\n",
        "    loss2, grads2 = loss_fn(c_Q2, c_Q1, t_pi, t_Q1, t_Q2, action, reward, n_act_key)\n",
        "\n",
        "    updates1, opt_state_1 = Q_opt.update(grads1, opt_state_1)\n",
        "\n",
        "    updates2, opt_state_2 = Q_opt.update(grads2, opt_state_2)\n",
        "    \n",
        "    c_Q1 = eqx.apply_updates(c_Q1, updates1)\n",
        "    c_Q2 = eqx.apply_updates(c_Q2, updates2)\n",
        "\n",
        "    n_act_key = jr.split(n_act_key, 1)[0]\n",
        "\n",
        "    return loss1, loss2, c_Q1, c_Q2, n_act_key, opt_state_1, opt_state_2"
      ],
      "metadata": {
        "id": "GjBxyhH7HaPV"
      },
      "execution_count": 63,
      "outputs": []
    },
    {
      "cell_type": "code",
      "source": [
        "def actor_loss(c_pi, c_Q1, c_Q2, action, u_key, p_act_key, actor_key):\n",
        "    beta_key = jr.split(p_act_key, batch_size)\n",
        "    sample_fn = ft.partial(single_sample_fn, c_pi, int_beta, data_shape , dt0, t1)\n",
        "    new_action = jax.vmap(sample_fn)(beta_key)\n",
        "\n",
        "    new_q1_action = jax.vmap(c_Q1)(new_action)\n",
        "    new_q2_action = jax.vmap(c_Q2)(new_action)\n",
        "\n",
        "    if jr.uniform(u_key, shape = ()) > 0.5:\n",
        "        q_loss = - jnp.mean(new_q1_action) / jnp.mean(jnp.absolute(new_q2_action))\n",
        "    else:\n",
        "        q_loss = - jnp.mean(new_q2_action) / jnp.mean(jnp.absolute(new_q1_action))\n",
        "\n",
        "\n",
        "    bc_loss = batch_loss_fn(c_pi, weight, int_beta, action, t1, actor_key)\n",
        "    \n",
        "    return bc_loss + (eta * q_loss)\n",
        "    \n",
        "    #bc_loss + (eta * jax.lax.stop_gradient(q_loss))"
      ],
      "metadata": {
        "id": "pDaTrQjwijmS"
      },
      "execution_count": 78,
      "outputs": []
    },
    {
      "cell_type": "code",
      "source": [
        "def actor_update(c_pi, c_Q1, c_Q2, action, u_key, p_act_key, actor_key, opt_state_cpi):\n",
        "    \n",
        "    loss_fn = eqx.filter_value_and_grad(actor_loss)\n",
        "    \n",
        "    loss, grads = loss_fn(c_pi, c_Q1, c_Q2, action, u_key, p_act_key, actor_key)\n",
        "    \n",
        "    updates, opt_state_cpi = pi_opt.update(grads, opt_state_cpi)\n",
        "    \n",
        "    \n",
        "    c_pi = eqx.apply_updates(c_pi, updates)\n",
        "    \n",
        "    \n",
        "    actor_key = jr.split(actor_key, 1)[0]\n",
        "    u_key = jr.split(u_key, 1)[0]\n",
        "    p_act_key = jr.split(p_act_key, 1)[0]\n",
        "\n",
        "    return loss, c_pi, opt_state_cpi, actor_key, u_key, p_act_key"
      ],
      "metadata": {
        "id": "sN6EbMmBHuYh"
      },
      "execution_count": 62,
      "outputs": []
    },
    {
      "cell_type": "code",
      "source": [
        "def dataloader(data, batch_size, *, key):\n",
        "    dataset_size = data.shape[0]\n",
        "    indices = jnp.arange(dataset_size)\n",
        "    while True:\n",
        "        perm = jr.permutation(key, indices)\n",
        "        (key,) = jr.split(key, 1)\n",
        "        start = 0\n",
        "        end = batch_size\n",
        "        while end < dataset_size:\n",
        "            batch_perm = perm[start:end]\n",
        "            yield data[batch_perm]\n",
        "            start = end\n",
        "            end = start + batch_size"
      ],
      "metadata": {
        "id": "nvzfVS4jJfaN"
      },
      "execution_count": 51,
      "outputs": []
    },
    {
      "cell_type": "code",
      "source": [
        "perm_key, n_act_key, p_act_key, u_key, actor_key, loader_key = jr.split(key, 6)"
      ],
      "metadata": {
        "id": "OzIY7VhvysVo"
      },
      "execution_count": 79,
      "outputs": []
    },
    {
      "cell_type": "code",
      "source": [
        "data=comb\n",
        "loader_key = jr.split(loader_key, 1)[0]\n",
        "step_start_ema=1000"
      ],
      "metadata": {
        "id": "B1N6AbzhdEDv"
      },
      "execution_count": 88,
      "outputs": []
    },
    {
      "cell_type": "code",
      "source": [
        "print_every = 10"
      ],
      "metadata": {
        "id": "UycjGZn00aHJ"
      },
      "execution_count": 61,
      "outputs": []
    },
    {
      "cell_type": "code",
      "source": [
        "total_value_pi = 0\n",
        "total_value_Q = 0\n",
        "total_size = 0\n",
        "for step, data in zip(range(iterations), dataloader(data, batch_size, key=loader_key)):\n",
        "    \n",
        "    action, reward = jnp.split(data, [2], axis=1)\n",
        "    \n",
        "    loss1, loss2, c_Q1, c_Q2, n_act_key, opt_state1, opt_state2 = critic_update(c_Q1, c_Q2, t_pi, t_Q1, t_Q2, action, reward, n_act_key, opt_state_cQ1, opt_state_cQ2)\n",
        "\n",
        "    loss, c_pi, opt_state_cpi, actor_key, u_key, p_act_key = actor_update(c_pi, c_Q1, c_Q2, action, u_key, p_act_key, actor_key, opt_state_pi)\n",
        "    \n",
        "\n",
        "    if step > step_start_ema:\n",
        "\n",
        "        if (step % update_ema_every) == 0:\n",
        "        \n",
        "            t_Q1 = EMA_w_update(c_Q1, t_Q1, ema, beta)\n",
        "            t_Q2 = EMA_w_update(c_Q2, t_Q2, ema, beta)\n",
        "            \n",
        "            t_Q1 = EMA_b_update(c_Q1, t_Q1, ema, beta)\n",
        "            t_Q2 = EMA_b_update(c_Q2, t_Q2, ema, beta)\n",
        "            \n",
        "            t_pi = EMA_w_update(c_pi, t_pi, ema, beta)\n",
        "            t_pi = EMA_b_update(c_pi, t_pi, ema, beta)\n",
        "\n",
        "    \n",
        "    \n",
        "    total_value_pi += loss.item()\n",
        "    total_value_Q += (jnp.mean(loss1 + loss2)).item()\n",
        "    total_size += 1\n",
        "    if (step % print_every) == 0 or step == iterations - 1:\n",
        "        print(f\"Step={step} Policy_Loss={total_value_pi / total_size}\")\n",
        "        print(f\"Step={step} Critic_Loss={total_value_Q / total_size}\")\n",
        "        total_value = 0\n",
        "        total_size = 0"
      ],
      "metadata": {
        "colab": {
          "base_uri": "https://localhost:8080/"
        },
        "id": "uPLq1wfNJjVa",
        "outputId": "82a2a63f-2c02-41a5-ed35-0cb36d68da3a"
      },
      "execution_count": null,
      "outputs": [
        {
          "output_type": "stream",
          "name": "stdout",
          "text": [
            "Step=0 Policy_Loss=2.3385603427886963\n",
            "Step=0 Critic_Loss=46.81221389770508\n",
            "Step=10 Policy_Loss=1.6466519236564636\n",
            "Step=10 Critic_Loss=53.76293830871582\n",
            "Step=20 Policy_Loss=1.5249270856380464\n",
            "Step=20 Critic_Loss=99.28775672912597\n",
            "Step=30 Policy_Loss=0.9294054090976716\n",
            "Step=30 Critic_Loss=141.58807411193848\n",
            "Step=40 Policy_Loss=0.26941242516040803\n",
            "Step=40 Critic_Loss=182.78392868041993\n",
            "Step=50 Policy_Loss=-0.4898608088493347\n",
            "Step=50 Critic_Loss=224.11243133544923\n",
            "Step=60 Policy_Loss=-1.2226424753665923\n",
            "Step=60 Critic_Loss=260.76583404541014\n",
            "Step=70 Policy_Loss=-1.912962731719017\n",
            "Step=70 Critic_Loss=299.23815574645994\n",
            "Step=80 Policy_Loss=-2.8080221593379973\n",
            "Step=80 Critic_Loss=335.1345729827881\n",
            "Step=90 Policy_Loss=-3.5446999937295915\n",
            "Step=90 Critic_Loss=369.33355197906496\n",
            "Step=100 Policy_Loss=-4.536559246480465\n",
            "Step=100 Critic_Loss=403.83046474456785\n",
            "Step=110 Policy_Loss=-5.300127199292183\n",
            "Step=110 Critic_Loss=438.5631345748901\n",
            "Step=120 Policy_Loss=-6.235039529204369\n",
            "Step=120 Critic_Loss=469.80121555328367\n",
            "Step=130 Policy_Loss=-7.49805223941803\n",
            "Step=130 Critic_Loss=504.9701196670532\n",
            "Step=140 Policy_Loss=-8.378046406805515\n",
            "Step=140 Critic_Loss=537.0568695068359\n",
            "Step=150 Policy_Loss=-9.588863788545131\n",
            "Step=150 Critic_Loss=572.8417415618896\n",
            "Step=160 Policy_Loss=-10.654750074446202\n",
            "Step=160 Critic_Loss=606.6176866531372\n",
            "Step=170 Policy_Loss=-12.091153977811336\n",
            "Step=170 Critic_Loss=639.5963191986084\n",
            "Step=180 Policy_Loss=-16.10670669078827\n",
            "Step=180 Critic_Loss=673.7674962997437\n",
            "Step=190 Policy_Loss=-16.782378236949445\n",
            "Step=190 Critic_Loss=707.9151586532593\n",
            "Step=200 Policy_Loss=-17.60828846246004\n",
            "Step=200 Critic_Loss=741.8560335159302\n",
            "Step=210 Policy_Loss=-18.546605749428274\n",
            "Step=210 Critic_Loss=777.022664642334\n",
            "Step=220 Policy_Loss=-19.32308415323496\n",
            "Step=220 Critic_Loss=813.0041679382324\n",
            "Step=230 Policy_Loss=-20.225104649364948\n",
            "Step=230 Critic_Loss=847.786710357666\n",
            "Step=240 Policy_Loss=-21.12391526848078\n",
            "Step=240 Critic_Loss=882.6385534286499\n",
            "Step=250 Policy_Loss=-22.056949569284917\n",
            "Step=250 Critic_Loss=914.4092184066773\n",
            "Step=260 Policy_Loss=-22.977184514701367\n",
            "Step=260 Critic_Loss=948.3406679153443\n",
            "Step=270 Policy_Loss=-24.0512708440423\n",
            "Step=270 Critic_Loss=983.2066011428833\n",
            "Step=280 Policy_Loss=-24.881013572216034\n",
            "Step=280 Critic_Loss=1015.6561235427856\n",
            "Step=290 Policy_Loss=-26.122089906036855\n",
            "Step=290 Critic_Loss=1050.357883834839\n",
            "Step=300 Policy_Loss=-28.265781576931477\n",
            "Step=300 Critic_Loss=1084.1849418640136\n",
            "Step=310 Policy_Loss=-29.336366222053766\n",
            "Step=310 Critic_Loss=1117.891103363037\n",
            "Step=320 Policy_Loss=-30.631663414090873\n",
            "Step=320 Critic_Loss=1151.9160177230835\n",
            "Step=330 Policy_Loss=-33.43230286687613\n",
            "Step=330 Critic_Loss=1187.6984424591064\n",
            "Step=340 Policy_Loss=-44.55570633560419\n",
            "Step=340 Critic_Loss=1219.559552383423\n",
            "Step=350 Policy_Loss=-47.82317823767662\n",
            "Step=350 Critic_Loss=1254.8585041046142\n",
            "Step=360 Policy_Loss=-48.741132479906085\n",
            "Step=360 Critic_Loss=1292.1867059707643\n",
            "Step=370 Policy_Loss=-49.61380544304848\n",
            "Step=370 Critic_Loss=1326.5936811447143\n",
            "Step=380 Policy_Loss=-50.47685956954956\n",
            "Step=380 Critic_Loss=1361.9772996902466\n",
            "Step=390 Policy_Loss=-51.48816251456738\n",
            "Step=390 Critic_Loss=1397.2728153228759\n",
            "Step=400 Policy_Loss=-53.68874351680279\n",
            "Step=400 Critic_Loss=1431.1600032806396\n",
            "Step=410 Policy_Loss=-54.62594275176525\n",
            "Step=410 Critic_Loss=1464.7669324874878\n",
            "Step=420 Policy_Loss=-55.64955025613308\n",
            "Step=420 Critic_Loss=1499.1896959304809\n",
            "Step=430 Policy_Loss=-57.75566208511591\n",
            "Step=430 Critic_Loss=1534.1986906051636\n",
            "Step=440 Policy_Loss=-58.5146807178855\n",
            "Step=440 Critic_Loss=1568.257974243164\n",
            "Step=450 Policy_Loss=-59.640393522381785\n",
            "Step=450 Critic_Loss=1602.7211229324341\n",
            "Step=460 Policy_Loss=-60.7658982925117\n",
            "Step=460 Critic_Loss=1635.674882888794\n",
            "Step=470 Policy_Loss=-62.55879602357745\n",
            "Step=470 Critic_Loss=1670.2184343338013\n",
            "Step=480 Policy_Loss=-69.115866959095\n",
            "Step=480 Critic_Loss=1704.6926988601685\n",
            "Step=490 Policy_Loss=-108.8711574934423\n",
            "Step=490 Critic_Loss=1739.7800174713134\n",
            "Step=500 Policy_Loss=-111.79652920290827\n",
            "Step=500 Critic_Loss=1776.0626338958741\n",
            "Step=510 Policy_Loss=-122.4431833177805\n",
            "Step=510 Critic_Loss=1811.1977437973023\n",
            "Step=520 Policy_Loss=-124.64877992644907\n",
            "Step=520 Critic_Loss=1847.421040916443\n",
            "Step=530 Policy_Loss=-125.70332305803895\n",
            "Step=530 Critic_Loss=1883.477414703369\n",
            "Step=540 Policy_Loss=-127.10941031351686\n",
            "Step=540 Critic_Loss=1917.219535446167\n"
          ]
        }
      ]
    },
    {
      "cell_type": "markdown",
      "source": [
        "Even newer sample"
      ],
      "metadata": {
        "id": "AMqQQ46f3DGO"
      }
    },
    {
      "cell_type": "code",
      "source": [
        "(new_key,) = jr.split(key, 1)"
      ],
      "metadata": {
        "id": "pzg2hHQ43Gpw"
      },
      "execution_count": 32,
      "outputs": []
    },
    {
      "cell_type": "code",
      "source": [
        "s_key = jr.split(new_key, 500)\n",
        "sample_fn = ft.partial(single_sample_fn, c_pi, int_beta, data_shape, dt0, t1)\n",
        "sample = jax.vmap(sample_fn)(s_key)"
      ],
      "metadata": {
        "id": "PYQLLec33H0W"
      },
      "execution_count": 33,
      "outputs": []
    },
    {
      "cell_type": "code",
      "source": [
        "new_s = jnp.clip(sample, -2.0, 2.0)"
      ],
      "metadata": {
        "id": "EGgLkoU_3I4r"
      },
      "execution_count": 34,
      "outputs": []
    },
    {
      "cell_type": "code",
      "source": [
        "plt.figure().add_subplot(111).set_aspect(\"equal\", adjustable=\"box\")\n",
        "plt.scatter(new_s[:, 0], new_s[:, 1], alpha=0.1) #plot 1st row as x values and 2nd row as y values on the plot\n",
        "plt.xticks([-2, 0, 2])\n",
        "plt.yticks([-2, 0, 2])\n",
        "plt.show()"
      ],
      "metadata": {
        "colab": {
          "base_uri": "https://localhost:8080/",
          "height": 268
        },
        "id": "M8NGze-J3KLX",
        "outputId": "dc59867f-0063-4913-f26e-5d502e0845bc"
      },
      "execution_count": 35,
      "outputs": [
        {
          "output_type": "display_data",
          "data": {
            "text/plain": [
              "<Figure size 432x288 with 1 Axes>"
            ],
            "image/png": "[encoded data removed]"
          },
          "metadata": {
            "needs_background": "light"
          }
        }
      ]
    },
    {
      "cell_type": "code",
      "source": [
        "t_Q1(jnp.array([0.0, 0.8]))"
      ],
      "metadata": {
        "colab": {
          "base_uri": "https://localhost:8080/"
        },
        "id": "PdpWfYy89W56",
        "outputId": "00dc2011-85d8-44d6-b8f4-c27281e2c106"
      },
      "execution_count": 36,
      "outputs": [
        {
          "output_type": "execute_result",
          "data": {
            "text/plain": [
              "Array([121.29007], dtype=float32)"
            ]
          },
          "metadata": {},
          "execution_count": 36
        }
      ]
    },
    {
      "cell_type": "code",
      "source": [
        "c_Q1(jnp.array([0.0, 0.8]))"
      ],
      "metadata": {
        "colab": {
          "base_uri": "https://localhost:8080/"
        },
        "id": "GsC9xTC79uqH",
        "outputId": "f60bf10b-1d9c-4c4d-8f64-84323b45d678"
      },
      "execution_count": 37,
      "outputs": [
        {
          "output_type": "execute_result",
          "data": {
            "text/plain": [
              "Array([126.47822], dtype=float32)"
            ]
          },
          "metadata": {},
          "execution_count": 37
        }
      ]
    },
    {
      "cell_type": "code",
      "source": [
        "t_Q2(jnp.array([0.0, 0.8]))"
      ],
      "metadata": {
        "colab": {
          "base_uri": "https://localhost:8080/"
        },
        "id": "kEr75tO3-JKc",
        "outputId": "67a7c045-3833-4836-f81d-6b035a1af887"
      },
      "execution_count": 38,
      "outputs": [
        {
          "output_type": "execute_result",
          "data": {
            "text/plain": [
              "Array([121.62565], dtype=float32)"
            ]
          },
          "metadata": {},
          "execution_count": 38
        }
      ]
    },
    {
      "cell_type": "code",
      "source": [
        "c_Q2(jnp.array([0.0, 0.8]))"
      ],
      "metadata": {
        "colab": {
          "base_uri": "https://localhost:8080/"
        },
        "id": "6H90sp-X-e-J",
        "outputId": "40f3f63d-d5df-4ade-ff1d-79c76a7432e6"
      },
      "execution_count": 39,
      "outputs": [
        {
          "output_type": "execute_result",
          "data": {
            "text/plain": [
              "Array([126.5516], dtype=float32)"
            ]
          },
          "metadata": {},
          "execution_count": 39
        }
      ]
    },
    {
      "cell_type": "code",
      "source": [
        "t_Q1(jnp.array([0.8, 0.0]))"
      ],
      "metadata": {
        "colab": {
          "base_uri": "https://localhost:8080/"
        },
        "id": "M9MfOBwR0TFb",
        "outputId": "cd765e7b-e4b2-4fa8-fc3c-36a3b842e884"
      },
      "execution_count": null,
      "outputs": [
        {
          "output_type": "execute_result",
          "data": {
            "text/plain": [
              "Array([261.67404], dtype=float32)"
            ]
          },
          "metadata": {},
          "execution_count": 101
        }
      ]
    },
    {
      "cell_type": "code",
      "source": [
        "c_Q1(jnp.array([0.8, 0.0]))"
      ],
      "metadata": {
        "colab": {
          "base_uri": "https://localhost:8080/"
        },
        "id": "hftF_i2Q0TTB",
        "outputId": "51b58bdb-e1bc-4423-854f-d7e51b13f665"
      },
      "execution_count": null,
      "outputs": [
        {
          "output_type": "execute_result",
          "data": {
            "text/plain": [
              "Array([267.49957], dtype=float32)"
            ]
          },
          "metadata": {},
          "execution_count": 102
        }
      ]
    },
    {
      "cell_type": "code",
      "source": [
        "t_Q2(jnp.array([0.8, 0.0]))"
      ],
      "metadata": {
        "colab": {
          "base_uri": "https://localhost:8080/"
        },
        "id": "MhPn0R4O0gHF",
        "outputId": "a55e2132-2ef6-44b1-ed49-54dd45b0688e"
      },
      "execution_count": null,
      "outputs": [
        {
          "output_type": "execute_result",
          "data": {
            "text/plain": [
              "Array([441.79007], dtype=float32)"
            ]
          },
          "metadata": {},
          "execution_count": 103
        }
      ]
    },
    {
      "cell_type": "code",
      "source": [
        "c_Q1(jnp.array([0.8, 0.0]))"
      ],
      "metadata": {
        "colab": {
          "base_uri": "https://localhost:8080/"
        },
        "id": "FR4xzI-O0h7n",
        "outputId": "41d24ad5-60c4-4e4a-ee20-cf021518deb0"
      },
      "execution_count": null,
      "outputs": [
        {
          "output_type": "execute_result",
          "data": {
            "text/plain": [
              "Array([267.49957], dtype=float32)"
            ]
          },
          "metadata": {},
          "execution_count": 104
        }
      ]
    },
    {
      "cell_type": "code",
      "source": [
        "t_Q1(jnp.array([0.0, -0.8]))"
      ],
      "metadata": {
        "id": "k2lamGoDyvIV",
        "outputId": "e55cd240-2a23-4a62-9c32-24b1ea72c0cf",
        "colab": {
          "base_uri": "https://localhost:8080/"
        }
      },
      "execution_count": 40,
      "outputs": [
        {
          "output_type": "execute_result",
          "data": {
            "text/plain": [
              "Array([126.46584], dtype=float32)"
            ]
          },
          "metadata": {},
          "execution_count": 40
        }
      ]
    },
    {
      "cell_type": "code",
      "source": [
        "c_Q1(jnp.array([0.0, -0.8]))"
      ],
      "metadata": {
        "id": "YKY_atGayw0n",
        "outputId": "7e493567-8b48-4afd-967e-49d7158a5722",
        "colab": {
          "base_uri": "https://localhost:8080/"
        }
      },
      "execution_count": 41,
      "outputs": [
        {
          "output_type": "execute_result",
          "data": {
            "text/plain": [
              "Array([132.29317], dtype=float32)"
            ]
          },
          "metadata": {},
          "execution_count": 41
        }
      ]
    },
    {
      "cell_type": "code",
      "source": [
        "t_Q2(jnp.array([0.0, -0.8]))"
      ],
      "metadata": {
        "id": "EJgsFIt1yyQA",
        "outputId": "27aedfff-c4ef-4139-e787-106e75cb55b8",
        "colab": {
          "base_uri": "https://localhost:8080/"
        }
      },
      "execution_count": 42,
      "outputs": [
        {
          "output_type": "execute_result",
          "data": {
            "text/plain": [
              "Array([126.20641], dtype=float32)"
            ]
          },
          "metadata": {},
          "execution_count": 42
        }
      ]
    },
    {
      "cell_type": "code",
      "source": [
        "c_Q2(jnp.array([0.0, -0.8]))"
      ],
      "metadata": {
        "id": "kskTAsFly05M",
        "outputId": "617072c6-5f60-479c-c09d-78543558739a",
        "colab": {
          "base_uri": "https://localhost:8080/"
        }
      },
      "execution_count": 43,
      "outputs": [
        {
          "output_type": "execute_result",
          "data": {
            "text/plain": [
              "Array([132.31494], dtype=float32)"
            ]
          },
          "metadata": {},
          "execution_count": 43
        }
      ]
    }
  ]
}