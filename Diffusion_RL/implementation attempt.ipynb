{
  "nbformat": 4,
  "nbformat_minor": 0,
  "metadata": {
    "colab": {
      "provenance": [],
      "authorship_tag": "ABX9TyPqq4UWUu+GhVDh0vOdzjtN",
      "include_colab_link": true
    },
    "kernelspec": {
      "name": "python3",
      "display_name": "Python 3"
    },
    "language_info": {
      "name": "python"
    },
    "gpuClass": "standard"
  },
  "cells": [
    {
      "cell_type": "markdown",
      "metadata": {
        "id": "view-in-github",
        "colab_type": "text"
      },
      "source": [
        "<a href=\"https://colab.research.google.com/github/durml91/MMath-Project/blob/duo-branch/Diffusion_RL/implementation%20attempt.ipynb\" target=\"_parent\"><img src=\"https://colab.research.google.com/assets/colab-badge.svg\" alt=\"Open In Colab\"/></a>"
      ]
    },
    {
      "cell_type": "code",
      "execution_count": 1,
      "metadata": {
        "colab": {
          "base_uri": "https://localhost:8080/"
        },
        "id": "fnhxhm6KFUIM",
        "outputId": "3fac8df6-dd82-47ef-f82a-424ebcacdb32"
      },
      "outputs": [
        {
          "output_type": "stream",
          "name": "stdout",
          "text": [
            "Looking in indexes: https://pypi.org/simple, https://us-python.pkg.dev/colab-wheels/public/simple/\n",
            "Collecting einops\n",
            "  Downloading einops-0.6.0-py3-none-any.whl (41 kB)\n",
            "\u001b[2K     \u001b[90m━━━━━━━━━━━━━━━━━━━━━━━━━━━━━━━━━━━━━━━\u001b[0m \u001b[32m41.6/41.6 KB\u001b[0m \u001b[31m962.1 kB/s\u001b[0m eta \u001b[36m0:00:00\u001b[0m\n",
            "\u001b[?25hInstalling collected packages: einops\n",
            "Successfully installed einops-0.6.0\n",
            "Looking in indexes: https://pypi.org/simple, https://us-python.pkg.dev/colab-wheels/public/simple/\n",
            "Collecting equinox\n",
            "  Downloading equinox-0.10.1-py3-none-any.whl (108 kB)\n",
            "\u001b[2K     \u001b[90m━━━━━━━━━━━━━━━━━━━━━━━━━━━━━━━━━━━━━━━\u001b[0m \u001b[32m108.7/108.7 KB\u001b[0m \u001b[31m2.2 MB/s\u001b[0m eta \u001b[36m0:00:00\u001b[0m\n",
            "\u001b[?25hRequirement already satisfied: jax>=0.4.3 in /usr/local/lib/python3.8/dist-packages (from equinox) (0.4.4)\n",
            "Collecting jaxtyping>=0.2.12\n",
            "  Downloading jaxtyping-0.2.13-py3-none-any.whl (19 kB)\n",
            "Requirement already satisfied: opt-einsum in /usr/local/lib/python3.8/dist-packages (from jax>=0.4.3->equinox) (3.3.0)\n",
            "Requirement already satisfied: numpy>=1.20 in /usr/local/lib/python3.8/dist-packages (from jax>=0.4.3->equinox) (1.22.4)\n",
            "Requirement already satisfied: scipy>=1.5 in /usr/local/lib/python3.8/dist-packages (from jax>=0.4.3->equinox) (1.10.1)\n",
            "Collecting typeguard>=2.13.3\n",
            "  Downloading typeguard-2.13.3-py3-none-any.whl (17 kB)\n",
            "Requirement already satisfied: typing-extensions>=3.7.4.1 in /usr/local/lib/python3.8/dist-packages (from jaxtyping>=0.2.12->equinox) (4.5.0)\n",
            "Installing collected packages: typeguard, jaxtyping, equinox\n",
            "  Attempting uninstall: typeguard\n",
            "    Found existing installation: typeguard 2.7.1\n",
            "    Uninstalling typeguard-2.7.1:\n",
            "      Successfully uninstalled typeguard-2.7.1\n",
            "Successfully installed equinox-0.10.1 jaxtyping-0.2.13 typeguard-2.13.3\n",
            "Looking in indexes: https://pypi.org/simple, https://us-python.pkg.dev/colab-wheels/public/simple/\n",
            "Collecting optax\n",
            "  Downloading optax-0.1.4-py3-none-any.whl (154 kB)\n",
            "\u001b[2K     \u001b[90m━━━━━━━━━━━━━━━━━━━━━━━━━━━━━━━━━━━━━━━\u001b[0m \u001b[32m154.9/154.9 KB\u001b[0m \u001b[31m2.3 MB/s\u001b[0m eta \u001b[36m0:00:00\u001b[0m\n",
            "\u001b[?25hRequirement already satisfied: absl-py>=0.7.1 in /usr/local/lib/python3.8/dist-packages (from optax) (1.4.0)\n",
            "Requirement already satisfied: numpy>=1.18.0 in /usr/local/lib/python3.8/dist-packages (from optax) (1.22.4)\n",
            "Requirement already satisfied: typing-extensions>=3.10.0 in /usr/local/lib/python3.8/dist-packages (from optax) (4.5.0)\n",
            "Collecting chex>=0.1.5\n",
            "  Downloading chex-0.1.6-py3-none-any.whl (87 kB)\n",
            "\u001b[2K     \u001b[90m━━━━━━━━━━━━━━━━━━━━━━━━━━━━━━━━━━━━━━━━\u001b[0m \u001b[32m87.9/87.9 KB\u001b[0m \u001b[31m3.9 MB/s\u001b[0m eta \u001b[36m0:00:00\u001b[0m\n",
            "\u001b[?25hRequirement already satisfied: jaxlib>=0.1.37 in /usr/local/lib/python3.8/dist-packages (from optax) (0.4.4+cuda11.cudnn82)\n",
            "Requirement already satisfied: jax>=0.1.55 in /usr/local/lib/python3.8/dist-packages (from optax) (0.4.4)\n",
            "Requirement already satisfied: dm-tree>=0.1.5 in /usr/local/lib/python3.8/dist-packages (from chex>=0.1.5->optax) (0.1.8)\n",
            "Requirement already satisfied: toolz>=0.9.0 in /usr/local/lib/python3.8/dist-packages (from chex>=0.1.5->optax) (0.12.0)\n",
            "Requirement already satisfied: opt-einsum in /usr/local/lib/python3.8/dist-packages (from jax>=0.1.55->optax) (3.3.0)\n",
            "Requirement already satisfied: scipy>=1.5 in /usr/local/lib/python3.8/dist-packages (from jax>=0.1.55->optax) (1.10.1)\n",
            "Installing collected packages: chex, optax\n",
            "Successfully installed chex-0.1.6 optax-0.1.4\n",
            "Looking in indexes: https://pypi.org/simple, https://us-python.pkg.dev/colab-wheels/public/simple/\n",
            "Collecting diffrax\n",
            "  Downloading diffrax-0.3.1-py3-none-any.whl (140 kB)\n",
            "\u001b[2K     \u001b[90m━━━━━━━━━━━━━━━━━━━━━━━━━━━━━━━━━━━━━━━\u001b[0m \u001b[32m140.4/140.4 KB\u001b[0m \u001b[31m3.7 MB/s\u001b[0m eta \u001b[36m0:00:00\u001b[0m\n",
            "\u001b[?25hRequirement already satisfied: jax>=0.4.3 in /usr/local/lib/python3.8/dist-packages (from diffrax) (0.4.4)\n",
            "Requirement already satisfied: equinox>=0.10.0 in /usr/local/lib/python3.8/dist-packages (from diffrax) (0.10.1)\n",
            "Requirement already satisfied: jaxtyping>=0.2.12 in /usr/local/lib/python3.8/dist-packages (from equinox>=0.10.0->diffrax) (0.2.13)\n",
            "Requirement already satisfied: scipy>=1.5 in /usr/local/lib/python3.8/dist-packages (from jax>=0.4.3->diffrax) (1.10.1)\n",
            "Requirement already satisfied: numpy>=1.20 in /usr/local/lib/python3.8/dist-packages (from jax>=0.4.3->diffrax) (1.22.4)\n",
            "Requirement already satisfied: opt-einsum in /usr/local/lib/python3.8/dist-packages (from jax>=0.4.3->diffrax) (3.3.0)\n",
            "Requirement already satisfied: typing-extensions>=3.7.4.1 in /usr/local/lib/python3.8/dist-packages (from jaxtyping>=0.2.12->equinox>=0.10.0->diffrax) (4.5.0)\n",
            "Requirement already satisfied: typeguard>=2.13.3 in /usr/local/lib/python3.8/dist-packages (from jaxtyping>=0.2.12->equinox>=0.10.0->diffrax) (2.13.3)\n",
            "Installing collected packages: diffrax\n",
            "Successfully installed diffrax-0.3.1\n"
          ]
        }
      ],
      "source": [
        "!pip install einops\n",
        "!pip install equinox\n",
        "!pip install optax\n",
        "!pip install diffrax"
      ]
    },
    {
      "cell_type": "code",
      "source": [
        "import array\n",
        "import functools as ft\n",
        "import gzip\n",
        "import os\n",
        "import struct\n",
        "import urllib.request\n",
        "\n",
        "import diffrax as dfx  # https://github.com/patrick-kidger/diffrax\n",
        "import einops  # https://github.com/arogozhnikov/einops\n",
        "import jax\n",
        "import jax.numpy as jnp\n",
        "import jax.random as jr\n",
        "import matplotlib.pyplot as plt\n",
        "import optax  # https://github.com/deepmind/optax\n",
        "\n",
        "import equinox as eqx\n",
        "import numpy as np"
      ],
      "metadata": {
        "id": "VSTRqk-UJiwN"
      },
      "execution_count": 2,
      "outputs": []
    },
    {
      "cell_type": "code",
      "source": [
        "key = jr.PRNGKey(2023)"
      ],
      "metadata": {
        "id": "31bgPb4SF6Tv"
      },
      "execution_count": 26,
      "outputs": []
    },
    {
      "cell_type": "markdown",
      "source": [
        "Data generation"
      ],
      "metadata": {
        "id": "If4ROMDkGPe3"
      }
    },
    {
      "cell_type": "code",
      "source": [
        "def Gaussian(N, mu, sigma, key):\n",
        "    sg = jr.normal(key, shape=(N,2))\n",
        "    g = mu + sigma * sg\n",
        "    return g"
      ],
      "metadata": {
        "id": "Xog5Tp-qGOSG"
      },
      "execution_count": 104,
      "outputs": []
    },
    {
      "cell_type": "code",
      "source": [
        "mean1 = jnp.array((0.0, 0.8))\n",
        "mean2 = jnp.array((0.0, -0.8))\n",
        "mean3 = jnp.array((0.8, 0.0))\n",
        "mean4 = jnp.array((-0.8, 0.0))\n",
        "std = jnp.array((0.05, 0.05))"
      ],
      "metadata": {
        "id": "YDD_MXpZHMMF"
      },
      "execution_count": 105,
      "outputs": []
    },
    {
      "cell_type": "code",
      "source": [
        "s1 = Gaussian(2500, mean1, std, key)\n",
        "s2 = Gaussian(2500, mean2, std, key)\n",
        "s3 = Gaussian(2500, mean3, std, key)\n",
        "s4 = Gaussian(2500, mean4, std, key)"
      ],
      "metadata": {
        "id": "HXdrsi6wG2PQ"
      },
      "execution_count": 106,
      "outputs": []
    },
    {
      "cell_type": "code",
      "source": [
        "samples = jnp.concatenate([s1, s2, s3, s4], axis=0)"
      ],
      "metadata": {
        "id": "rYdXG6mLIhul"
      },
      "execution_count": 107,
      "outputs": []
    },
    {
      "cell_type": "code",
      "source": [
        "import matplotlib.pyplot as plt"
      ],
      "metadata": {
        "id": "u_57GzdwIvDe"
      },
      "execution_count": 108,
      "outputs": []
    },
    {
      "cell_type": "code",
      "source": [
        "plt.figure().add_subplot(111).set_aspect(\"equal\", adjustable=\"box\")\n",
        "plt.scatter(samples[:, 0], samples[:, 1], alpha=0.1) #plot 1st row as x values and 2nd row as y values on the plot\n",
        "plt.xticks([-2, 0, 2])\n",
        "plt.yticks([-2, 0, 2])\n",
        "plt.show()"
      ],
      "metadata": {
        "colab": {
          "base_uri": "https://localhost:8080/",
          "height": 269
        },
        "id": "xVO8q3RtINQ-",
        "outputId": "cc1dc746-d654-4ca8-a647-bdeb23431670"
      },
      "execution_count": 109,
      "outputs": [
        {
          "output_type": "display_data",
          "data": {
            "text/plain": [
              "<Figure size 432x288 with 1 Axes>"
            ],
            "image/png": "[encoded data removed]"
          },
          "metadata": {
            "needs_background": "light"
          }
        }
      ]
    },
    {
      "cell_type": "markdown",
      "source": [
        "Add reward"
      ],
      "metadata": {
        "id": "HigwlJ9rPOpd"
      }
    },
    {
      "cell_type": "code",
      "source": [
        "def rewGau(N, mu, sigma, key):\n",
        "    sg = jr.normal(key, shape=(N,1))\n",
        "    g = mu + sigma * sg\n",
        "    return g"
      ],
      "metadata": {
        "id": "iJfsPgc6PZhH"
      },
      "execution_count": 110,
      "outputs": []
    },
    {
      "cell_type": "code",
      "source": [
        "r1 = rewGau(2500, 3.0, 0.5, key)\n",
        "r2 = rewGau(2500, 5.0, 0.5, key)\n",
        "r3 = rewGau(2500, 1.5, 0.5, key)\n",
        "r4 = rewGau(2500, 0.0, 0.5, key)"
      ],
      "metadata": {
        "id": "TN8QHVolPPnh"
      },
      "execution_count": 111,
      "outputs": []
    },
    {
      "cell_type": "code",
      "source": [
        "rewards = jnp.concatenate([r1, r2, r3, r4], axis=0)"
      ],
      "metadata": {
        "id": "KOIVi_ZNP5w9"
      },
      "execution_count": 112,
      "outputs": []
    },
    {
      "cell_type": "code",
      "source": [
        "rewards.shape"
      ],
      "metadata": {
        "colab": {
          "base_uri": "https://localhost:8080/"
        },
        "id": "YKfv3fwIP-O6",
        "outputId": "9ec0cec7-89f5-448f-a6e4-d7122dc8c299"
      },
      "execution_count": 113,
      "outputs": [
        {
          "output_type": "execute_result",
          "data": {
            "text/plain": [
              "(10000, 1)"
            ]
          },
          "metadata": {},
          "execution_count": 113
        }
      ]
    },
    {
      "cell_type": "markdown",
      "source": [
        "Join actions and rewards"
      ],
      "metadata": {
        "id": "cPTtJSmLQWES"
      }
    },
    {
      "cell_type": "code",
      "source": [
        "comb = jnp.concatenate([samples, rewards], axis=1)"
      ],
      "metadata": {
        "id": "18Dr8v4kQGdp"
      },
      "execution_count": 114,
      "outputs": []
    },
    {
      "cell_type": "markdown",
      "source": [
        "BC-Diffusion"
      ],
      "metadata": {
        "id": "ah-WVOA6Jx6Z"
      }
    },
    {
      "cell_type": "code",
      "source": [
        "class NeuralNet(eqx.Module):\n",
        "  main_net: eqx.nn.MLP\n",
        "  t1: float\n",
        "\n",
        "  def __init__(self, in_size, out_size, hidden_size, depth, key):\n",
        "    (rng,) = jr.split(key, 1)\n",
        "    self.main_net = eqx.nn.MLP(in_size, out_size , hidden_size, depth, key = rng)\n",
        "    self.t1 = t1\n",
        "\n",
        "  def __call__(self, t, y):\n",
        "    t = t / self.t1\n",
        "    t = einops.repeat(t, \"-> 2\")\n",
        "    y = jnp.concatenate([y, t]) #axis =1\n",
        "    \n",
        "    y = self.main_net(y)\n",
        "    return y"
      ],
      "metadata": {
        "id": "Ff-hxd03Jz21"
      },
      "execution_count": 201,
      "outputs": []
    },
    {
      "cell_type": "code",
      "source": [
        "def single_loss_fn(model, weight, int_beta, data, t, key):\n",
        "    mean = data * jnp.exp(-0.5 * int_beta(t))\n",
        "    var = jnp.maximum(1 - jnp.exp(-int_beta(t)), 1e-5)\n",
        "    std = jnp.sqrt(var)\n",
        "    noise = jr.normal(key, data.shape)\n",
        "    y = mean + std * noise\n",
        "    pred = model(t, y)\n",
        "    return weight(t) * jnp.mean((pred + noise / std) ** 2)"
      ],
      "metadata": {
        "id": "Ny1vsfHiJ3-t"
      },
      "execution_count": 185,
      "outputs": []
    },
    {
      "cell_type": "code",
      "source": [
        "def batch_loss_fn(model, weight, int_beta, data, t1, key):\n",
        "    batch_size = data.shape[0]\n",
        "    tkey, losskey = jr.split(key)\n",
        "    losskey = jr.split(losskey, batch_size)\n",
        "    # Low-discrepancy sampling over t to reduce variance\n",
        "    t = jr.uniform(tkey, (batch_size,), minval=0, maxval=t1 / batch_size)\n",
        "    t = t + (t1 / batch_size) * jnp.arange(batch_size)\n",
        "    loss_fn = ft.partial(single_loss_fn, model, weight, int_beta)\n",
        "    loss_fn = jax.vmap(loss_fn)\n",
        "    return jnp.mean(loss_fn(data, t, losskey))"
      ],
      "metadata": {
        "id": "pSTHr-2FJ678"
      },
      "execution_count": 186,
      "outputs": []
    },
    {
      "cell_type": "code",
      "source": [
        "@eqx.filter_jit\n",
        "def make_step(model, weight, int_beta, data, t1, key, opt_state, opt_update):\n",
        "    loss_fn = eqx.filter_value_and_grad(batch_loss_fn)\n",
        "    loss, grads = loss_fn(model, weight, int_beta, data, t1, key)\n",
        "    updates, opt_state = opt_update(grads, opt_state)\n",
        "    model = eqx.apply_updates(model, updates)\n",
        "    key = jr.split(key, 1)[0]\n",
        "    return loss, model, key, opt_state"
      ],
      "metadata": {
        "id": "rFsYLVUpJ8mL"
      },
      "execution_count": 184,
      "outputs": []
    },
    {
      "cell_type": "code",
      "source": [
        "def dataloader(data, batch_size, *, key):\n",
        "    dataset_size = data.shape[0]\n",
        "    indices = jnp.arange(dataset_size)\n",
        "    while True:\n",
        "        perm = jr.permutation(key, indices)\n",
        "        (key,) = jr.split(key, 1)\n",
        "        start = 0\n",
        "        end = batch_size\n",
        "        while end < dataset_size:\n",
        "            batch_perm = perm[start:end]\n",
        "            yield data[batch_perm, :]\n",
        "            start = end\n",
        "            end = start + batch_size"
      ],
      "metadata": {
        "id": "ojFsoLMHKpDF"
      },
      "execution_count": 183,
      "outputs": []
    },
    {
      "cell_type": "code",
      "source": [
        "t1=10.0\n",
        "# Optimisation hyperparameters\n",
        "num_steps=20_000\n",
        "lr=3e-4\n",
        "batch_size=256\n",
        "print_every=500\n",
        "# Sampling hyperparameters\n",
        "dt0=0.1\n",
        "#sample_size=10\n",
        "# Seed\n",
        "seed=2023"
      ],
      "metadata": {
        "id": "CXTB3PdnJ-Fa"
      },
      "execution_count": 187,
      "outputs": []
    },
    {
      "cell_type": "code",
      "source": [
        "x = samples.copy()"
      ],
      "metadata": {
        "id": "AfW0ZDolKagp"
      },
      "execution_count": 188,
      "outputs": []
    },
    {
      "cell_type": "code",
      "source": [
        "model_key, train_key, loader_key, sample_key = jr.split(key, 4)\n",
        "data = x\n",
        "data_shape = data.shape[1:]"
      ],
      "metadata": {
        "id": "yR26jHezKFQY"
      },
      "execution_count": 205,
      "outputs": []
    },
    {
      "cell_type": "code",
      "source": [
        "model = ActorNet(key=key)"
      ],
      "metadata": {
        "id": "7eQKRoFt8K1L"
      },
      "execution_count": 182,
      "outputs": []
    },
    {
      "cell_type": "code",
      "source": [
        "model = NeuralNet(4, 2, 512, 4, key)"
      ],
      "metadata": {
        "id": "AoXgSnyFKt9R"
      },
      "execution_count": 202,
      "outputs": []
    },
    {
      "cell_type": "code",
      "source": [
        "int_beta = lambda t: t\n",
        "weight = lambda t: 1 - jnp.exp(-int_beta(t))  \n",
        "opt = optax.adabelief(lr)\n",
        "opt_state = opt.init(eqx.filter(model, eqx.is_inexact_array))"
      ],
      "metadata": {
        "id": "VBGZMI-YKxgL"
      },
      "execution_count": 203,
      "outputs": []
    },
    {
      "cell_type": "code",
      "source": [
        "total_value = 0\n",
        "total_size = 0\n",
        "losses = [0]\n",
        "i=0\n",
        "ls=2\n",
        "\n",
        "\n",
        "for step, data in zip(range(num_steps), dataloader(data, batch_size, key=loader_key)):\n",
        "      value, model, train_key, opt_state = make_step(model, weight, int_beta, data, t1, train_key, opt_state, opt.update)\n",
        "      total_value += value.item()\n",
        "      total_size += 1\n",
        "\n",
        "      if (step % print_every) == 0 or step == num_steps - 1:\n",
        "              \n",
        "          print(f\"Step={step} Loss={total_value / total_size}\")\n",
        "          if step != 0 :\n",
        "              ls = total_value / total_size\n",
        "              if jnp.absolute(ls - losses[i]) > 5e-5:\n",
        "                  i += 1\n",
        "                  losses.append(ls)\n",
        "              else:\n",
        "                  print(\"Early stopping intervened\")\n",
        "                  break\n",
        "          else:\n",
        "             continue\n",
        "          total_value = 0\n",
        "          total_size = 0"
      ],
      "metadata": {
        "colab": {
          "base_uri": "https://localhost:8080/",
          "height": 487
        },
        "id": "cGnQSrG9Kz9d",
        "outputId": "094b27a1-480b-4c4c-aad8-924a875431ba"
      },
      "execution_count": 206,
      "outputs": [
        {
          "output_type": "stream",
          "name": "stdout",
          "text": [
            "Step=0 Loss=1.04225492477417\n",
            "Step=500 Loss=0.07322073730820429\n",
            "Step=1000 Loss=0.055142149068415164\n",
            "Step=1500 Loss=0.05478319124877453\n",
            "Step=2000 Loss=0.05321388205140829\n"
          ]
        },
        {
          "output_type": "error",
          "ename": "KeyboardInterrupt",
          "evalue": "ignored",
          "traceback": [
            "\u001b[0;31m---------------------------------------------------------------------------\u001b[0m",
            "\u001b[0;31mKeyboardInterrupt\u001b[0m                         Traceback (most recent call last)",
            "\u001b[0;32m<ipython-input-206-e54fe893dfc3>\u001b[0m in \u001b[0;36m<module>\u001b[0;34m\u001b[0m\n\u001b[1;32m      7\u001b[0m \u001b[0;34m\u001b[0m\u001b[0m\n\u001b[1;32m      8\u001b[0m \u001b[0;32mfor\u001b[0m \u001b[0mstep\u001b[0m\u001b[0;34m,\u001b[0m \u001b[0mdata\u001b[0m \u001b[0;32min\u001b[0m \u001b[0mzip\u001b[0m\u001b[0;34m(\u001b[0m\u001b[0mrange\u001b[0m\u001b[0;34m(\u001b[0m\u001b[0mnum_steps\u001b[0m\u001b[0;34m)\u001b[0m\u001b[0;34m,\u001b[0m \u001b[0mdataloader\u001b[0m\u001b[0;34m(\u001b[0m\u001b[0mdata\u001b[0m\u001b[0;34m,\u001b[0m \u001b[0mbatch_size\u001b[0m\u001b[0;34m,\u001b[0m \u001b[0mkey\u001b[0m\u001b[0;34m=\u001b[0m\u001b[0mloader_key\u001b[0m\u001b[0;34m)\u001b[0m\u001b[0;34m)\u001b[0m\u001b[0;34m:\u001b[0m\u001b[0;34m\u001b[0m\u001b[0;34m\u001b[0m\u001b[0m\n\u001b[0;32m----> 9\u001b[0;31m       \u001b[0mvalue\u001b[0m\u001b[0;34m,\u001b[0m \u001b[0mmodel\u001b[0m\u001b[0;34m,\u001b[0m \u001b[0mtrain_key\u001b[0m\u001b[0;34m,\u001b[0m \u001b[0mopt_state\u001b[0m \u001b[0;34m=\u001b[0m \u001b[0mmake_step\u001b[0m\u001b[0;34m(\u001b[0m\u001b[0mmodel\u001b[0m\u001b[0;34m,\u001b[0m \u001b[0mweight\u001b[0m\u001b[0;34m,\u001b[0m \u001b[0mint_beta\u001b[0m\u001b[0;34m,\u001b[0m \u001b[0mdata\u001b[0m\u001b[0;34m,\u001b[0m \u001b[0mt1\u001b[0m\u001b[0;34m,\u001b[0m \u001b[0mtrain_key\u001b[0m\u001b[0;34m,\u001b[0m \u001b[0mopt_state\u001b[0m\u001b[0;34m,\u001b[0m \u001b[0mopt\u001b[0m\u001b[0;34m.\u001b[0m\u001b[0mupdate\u001b[0m\u001b[0;34m)\u001b[0m\u001b[0;34m\u001b[0m\u001b[0;34m\u001b[0m\u001b[0m\n\u001b[0m\u001b[1;32m     10\u001b[0m       \u001b[0mtotal_value\u001b[0m \u001b[0;34m+=\u001b[0m \u001b[0mvalue\u001b[0m\u001b[0;34m.\u001b[0m\u001b[0mitem\u001b[0m\u001b[0;34m(\u001b[0m\u001b[0;34m)\u001b[0m\u001b[0;34m\u001b[0m\u001b[0;34m\u001b[0m\u001b[0m\n\u001b[1;32m     11\u001b[0m       \u001b[0mtotal_size\u001b[0m \u001b[0;34m+=\u001b[0m \u001b[0;36m1\u001b[0m\u001b[0;34m\u001b[0m\u001b[0;34m\u001b[0m\u001b[0m\n",
            "\u001b[0;32m/usr/local/lib/python3.8/dist-packages/equinox/jit.py\u001b[0m in \u001b[0;36m__call__\u001b[0;34m(self, *args, **kwargs)\u001b[0m\n\u001b[1;32m     68\u001b[0m                 \u001b[0;32mreturn\u001b[0m \u001b[0mself\u001b[0m\u001b[0;34m.\u001b[0m\u001b[0m_fun_wrapper\u001b[0m\u001b[0;34m(\u001b[0m\u001b[0;32mFalse\u001b[0m\u001b[0;34m,\u001b[0m \u001b[0margs\u001b[0m\u001b[0;34m,\u001b[0m \u001b[0mkwargs\u001b[0m\u001b[0;34m)\u001b[0m\u001b[0;34m\u001b[0m\u001b[0;34m\u001b[0m\u001b[0m\n\u001b[1;32m     69\u001b[0m         \u001b[0;32melse\u001b[0m\u001b[0;34m:\u001b[0m\u001b[0;34m\u001b[0m\u001b[0;34m\u001b[0m\u001b[0m\n\u001b[0;32m---> 70\u001b[0;31m             \u001b[0;32mreturn\u001b[0m \u001b[0mself\u001b[0m\u001b[0;34m.\u001b[0m\u001b[0m_fun_wrapper\u001b[0m\u001b[0;34m(\u001b[0m\u001b[0;32mFalse\u001b[0m\u001b[0;34m,\u001b[0m \u001b[0margs\u001b[0m\u001b[0;34m,\u001b[0m \u001b[0mkwargs\u001b[0m\u001b[0;34m)\u001b[0m\u001b[0;34m\u001b[0m\u001b[0;34m\u001b[0m\u001b[0m\n\u001b[0m\u001b[1;32m     71\u001b[0m \u001b[0;34m\u001b[0m\u001b[0m\n\u001b[1;32m     72\u001b[0m     \u001b[0;32mdef\u001b[0m \u001b[0mlower\u001b[0m\u001b[0;34m(\u001b[0m\u001b[0mself\u001b[0m\u001b[0;34m,\u001b[0m \u001b[0;34m/\u001b[0m\u001b[0;34m,\u001b[0m \u001b[0;34m*\u001b[0m\u001b[0margs\u001b[0m\u001b[0;34m,\u001b[0m \u001b[0;34m**\u001b[0m\u001b[0mkwargs\u001b[0m\u001b[0;34m)\u001b[0m\u001b[0;34m:\u001b[0m\u001b[0;34m\u001b[0m\u001b[0;34m\u001b[0m\u001b[0m\n",
            "\u001b[0;32m/usr/local/lib/python3.8/dist-packages/equinox/jit.py\u001b[0m in \u001b[0;36m_fun_wrapper\u001b[0;34m(self, is_lower, args, kwargs)\u001b[0m\n\u001b[1;32m     57\u001b[0m             \u001b[0;32mreturn\u001b[0m \u001b[0mself\u001b[0m\u001b[0;34m.\u001b[0m\u001b[0m_cached\u001b[0m\u001b[0;34m.\u001b[0m\u001b[0mlower\u001b[0m\u001b[0;34m(\u001b[0m\u001b[0mdynamic\u001b[0m\u001b[0;34m,\u001b[0m \u001b[0mstatic\u001b[0m\u001b[0;34m)\u001b[0m\u001b[0;34m\u001b[0m\u001b[0;34m\u001b[0m\u001b[0m\n\u001b[1;32m     58\u001b[0m         \u001b[0;32melse\u001b[0m\u001b[0;34m:\u001b[0m\u001b[0;34m\u001b[0m\u001b[0;34m\u001b[0m\u001b[0m\n\u001b[0;32m---> 59\u001b[0;31m             \u001b[0mdynamic_out\u001b[0m\u001b[0;34m,\u001b[0m \u001b[0mstatic_out\u001b[0m \u001b[0;34m=\u001b[0m \u001b[0mself\u001b[0m\u001b[0;34m.\u001b[0m\u001b[0m_cached\u001b[0m\u001b[0;34m(\u001b[0m\u001b[0mdynamic\u001b[0m\u001b[0;34m,\u001b[0m \u001b[0mstatic\u001b[0m\u001b[0;34m)\u001b[0m\u001b[0;34m\u001b[0m\u001b[0;34m\u001b[0m\u001b[0m\n\u001b[0m\u001b[1;32m     60\u001b[0m             \u001b[0;32mreturn\u001b[0m \u001b[0mcombine\u001b[0m\u001b[0;34m(\u001b[0m\u001b[0mdynamic_out\u001b[0m\u001b[0;34m,\u001b[0m \u001b[0mstatic_out\u001b[0m\u001b[0;34m.\u001b[0m\u001b[0mvalue\u001b[0m\u001b[0;34m)\u001b[0m\u001b[0;34m\u001b[0m\u001b[0;34m\u001b[0m\u001b[0m\n\u001b[1;32m     61\u001b[0m \u001b[0;34m\u001b[0m\u001b[0m\n",
            "\u001b[0;32m/usr/local/lib/python3.8/dist-packages/equinox/module.py\u001b[0m in \u001b[0;36m_tree_unflatten\u001b[0;34m(cls, aux, dynamic_field_values)\u001b[0m\n\u001b[1;32m    283\u001b[0m         )\n\u001b[1;32m    284\u001b[0m \u001b[0;34m\u001b[0m\u001b[0m\n\u001b[0;32m--> 285\u001b[0;31m     \u001b[0;34m@\u001b[0m\u001b[0mclassmethod\u001b[0m\u001b[0;34m\u001b[0m\u001b[0;34m\u001b[0m\u001b[0m\n\u001b[0m\u001b[1;32m    286\u001b[0m     \u001b[0;32mdef\u001b[0m \u001b[0m_tree_unflatten\u001b[0m\u001b[0;34m(\u001b[0m\u001b[0mcls\u001b[0m\u001b[0;34m,\u001b[0m \u001b[0maux\u001b[0m\u001b[0;34m,\u001b[0m \u001b[0mdynamic_field_values\u001b[0m\u001b[0;34m)\u001b[0m\u001b[0;34m:\u001b[0m\u001b[0;34m\u001b[0m\u001b[0;34m\u001b[0m\u001b[0m\n\u001b[1;32m    287\u001b[0m         \u001b[0mself\u001b[0m \u001b[0;34m=\u001b[0m \u001b[0mcls\u001b[0m\u001b[0;34m.\u001b[0m\u001b[0m__new__\u001b[0m\u001b[0;34m(\u001b[0m\u001b[0mcls\u001b[0m\u001b[0;34m)\u001b[0m\u001b[0;34m\u001b[0m\u001b[0;34m\u001b[0m\u001b[0m\n",
            "\u001b[0;31mKeyboardInterrupt\u001b[0m: "
          ]
        }
      ]
    },
    {
      "cell_type": "code",
      "source": [
        "@eqx.filter_jit\n",
        "def single_sample_fn(model, int_beta, data_shape, dt0, t1, key):\n",
        "    def drift(t, y, args):\n",
        "        _, beta = jax.jvp(int_beta, (t,), (jnp.ones_like(t),))\n",
        "        return -0.5 * beta * (y + model(t, y))\n",
        "\n",
        "    term = dfx.ODETerm(drift)\n",
        "    solver = dfx.Tsit5()\n",
        "    t0 = 0\n",
        "    y1 = jr.normal(key, data_shape)\n",
        "    # reverse time, solve from t1 to t0\n",
        "    sol = dfx.diffeqsolve(term, solver, t1, t0, -dt0, y1)\n",
        "    return sol.ys[0]"
      ],
      "metadata": {
        "id": "VpGk0w9SLH_t"
      },
      "execution_count": 192,
      "outputs": []
    },
    {
      "cell_type": "code",
      "source": [
        "sample_key = jr.split(sample_key, 2_000)\n",
        "sample_fn = ft.partial(single_sample_fn, model, int_beta, data_shape, dt0, t1)\n",
        "sample = jax.vmap(sample_fn)(sample_key)"
      ],
      "metadata": {
        "id": "qWztDKOXLKSx"
      },
      "execution_count": 207,
      "outputs": []
    },
    {
      "cell_type": "code",
      "source": [
        "plt.figure().add_subplot(111).set_aspect(\"equal\", adjustable=\"box\")\n",
        "plt.scatter(sample[:, 0], sample[:, 1], alpha=0.1) #plot 1st row as x values and 2nd row as y values on the plot\n",
        "plt.xticks([-2, 0, 2])\n",
        "plt.yticks([-2, 0, 2])\n",
        "plt.show()"
      ],
      "metadata": {
        "colab": {
          "base_uri": "https://localhost:8080/",
          "height": 265
        },
        "id": "tKQZAaRrLPJt",
        "outputId": "3c2a8e72-60d2-4efd-f4fc-3c42f669b222"
      },
      "execution_count": 208,
      "outputs": [
        {
          "output_type": "display_data",
          "data": {
            "text/plain": [
              "<Figure size 432x288 with 1 Axes>"
            ],
            "image/png": "[encoded data removed]"
          },
          "metadata": {
            "needs_background": "light"
          }
        }
      ]
    },
    {
      "cell_type": "code",
      "source": [
        "# def main(\n",
        "#     t1=10.0,\n",
        "#     # Optimisation hyperparameters\n",
        "#     num_steps=8_000,\n",
        "#     lr=3e-4,\n",
        "#     batch_size=256,\n",
        "#     print_every=500,\n",
        "#     # Sampling hyperparameters\n",
        "#     dt0=0.1,\n",
        "#     # Seed\n",
        "#     seed=2023,\n",
        "# ):\n",
        "#     key = jr.PRNGKey(seed)\n",
        "   \n",
        "#     x = samples.copy()\n",
        "#     model_key, train_key, loader_key, sample_key = jr.split(key, 4)\n",
        "#     data = x\n",
        "#     data_shape = data.shape[1:]\n",
        "\n",
        "#     model = NeuralNet(4, 2, 512, 4, key)\n",
        "\n",
        "#     int_beta = lambda t: t  \n",
        "#     weight = lambda t: 1 - jnp.exp(-int_beta(t)) \n",
        "#     opt = optax.adabelief(lr)\n",
        "    \n",
        "#     opt_state = opt.init(eqx.filter(model, eqx.is_inexact_array))\n",
        "\n",
        "#     total_value = 0\n",
        "#     total_size = 0\n",
        "#     for step, data in zip(\n",
        "#         range(num_steps), dataloader(data, batch_size, key=loader_key)\n",
        "#     ):\n",
        "#         value, model, train_key, opt_state = make_step(\n",
        "#             model, weight, int_beta, data, t1, train_key, opt_state, opt.update\n",
        "#         )\n",
        "#         total_value += value.item()\n",
        "#         total_size += 1\n",
        "#         if (step % print_every) == 0 or step == num_steps - 1:\n",
        "#             print(f\"Step={step} Loss={total_value / total_size}\")\n",
        "#             total_value = 0\n",
        "#             total_size = 0\n"
      ],
      "metadata": {
        "id": "hPMwr9phjZuc"
      },
      "execution_count": null,
      "outputs": []
    },
    {
      "cell_type": "markdown",
      "source": [
        "Helper Functions"
      ],
      "metadata": {
        "id": "P87ftcYQQlWp"
      }
    },
    {
      "cell_type": "code",
      "source": [
        "from typing import Callable\n",
        "\n",
        "class Lambda1(eqx.Module):\n",
        "    fn: Callable\n",
        "    \n",
        "    def __call__(self, x, *, key=None):\n",
        "        return x * jnp.tanh(self.fn(x))"
      ],
      "metadata": {
        "id": "VhMrMVg9Q-Nh"
      },
      "execution_count": 209,
      "outputs": []
    },
    {
      "cell_type": "code",
      "source": [
        "class SinusoidalTimEmb(eqx.Module):\n",
        "    dim: int\n",
        "    def __init__ (self, dim):\n",
        "        self.dim = dim\n",
        "\n",
        "    def __call__ (self, x):\n",
        "          half_dim = self.dim // 2\n",
        "          emb = jnp.log(10000) / (half_dim - 1)\n",
        "          emb = jnp.exp(jnp.arange(half_dim) * - emb)\n",
        "          emb = x[:, None] * emb[None, :]\n",
        "          emb = jnp.concatenate([jnp.sin(emb), jnp.cos(emb)], axis=-1)\n",
        "          return emb"
      ],
      "metadata": {
        "id": "yuXK5aKwgvym"
      },
      "execution_count": 93,
      "outputs": []
    },
    {
      "cell_type": "markdown",
      "source": [
        "Networks"
      ],
      "metadata": {
        "id": "bUBEz8cInq2N"
      }
    },
    {
      "cell_type": "code",
      "source": [
        "class ActorNet(eqx.Module):\n",
        "  main_net: eqx.nn.MLP\n",
        "  t1: float\n",
        "\n",
        "  def __init__(self, in_size, out_size, hidden_size, depth, key):\n",
        "    (rng,) = jr.split(key, 1)\n",
        "    self.main_net = eqx.nn.MLP(in_size, out_size , hidden_size, depth, key = rng)\n",
        "    self.t1 = t1\n",
        "\n",
        "  def __call__(self, t, y):\n",
        "    t = t / self.t1\n",
        "    t = einops.repeat(t, \"-> 2\")\n",
        "    y = jnp.concatenate([y, t]) #axis =1\n",
        "    \n",
        "    y = self.main_net(y)\n",
        "    return y"
      ],
      "metadata": {
        "id": "_D4UlPIx9Xt7"
      },
      "execution_count": 214,
      "outputs": []
    },
    {
      "cell_type": "code",
      "source": [
        "class ActorNet(eqx.Module):\n",
        "\n",
        "    time_mlp: eqx.nn.Sequential\n",
        "    mid_layer: eqx.nn.Sequential\n",
        "    final_layer: eqx.nn.Linear\n",
        "    t_dim: int = 16\n",
        "    t1: float\n",
        "    t_embed: eqx.Module\n",
        "\n",
        "    def __init__ (self, *, key,):\n",
        "\n",
        "        keya, keyb, keyc, keyd, keye, keyf = jr.split(key, 6)\n",
        " \n",
        "        t_dim = self.t_dim\n",
        "        self.t_embed = SinusoidalTimEmb(t_dim)\n",
        "        self.time_mlp = eqx.nn.Sequential([\n",
        "            eqx.nn.Linear(t_dim, t_dim *2, key=keya),\n",
        "            Lambda1(jax.nn.softplus),\n",
        "            eqx.nn.Linear(t_dim * 2, t_dim, key=keyb)   \n",
        "        ])\n",
        "        \n",
        "        input_dim = 2 + t_dim\n",
        "\n",
        "        self.mid_layer = eqx.nn.Sequential([\n",
        "            eqx.nn.Linear(input_dim ,256, key=keyc),\n",
        "            Lambda1(jax.nn.softplus),\n",
        "            eqx.nn.Linear(256, 256, key=keyd),\n",
        "            Lambda1(jax.nn.softplus),\n",
        "            eqx.nn.Linear(256, 256, key=keye),\n",
        "            Lambda1(jax.nn.softplus)\n",
        "        ])\n",
        "\n",
        "        self.final_layer = eqx.nn.Linear(256, 2, key=keyf)\n",
        "\n",
        "        self.t1 = t1\n",
        "\n",
        "    def __call__(self, t, x):\n",
        "        t = jnp.array([t])\n",
        "        new_t = t/self.t1\n",
        "        input = self.t_embed(new_t)\n",
        "        input = jnp.squeeze(input)\n",
        "        t = self.time_mlp(input)\n",
        "        x = jnp.concatenate([x, t], axis=-1)\n",
        "        x = self.mid_layer(x)\n",
        "\n",
        "        return self.final_layer(x)"
      ],
      "metadata": {
        "id": "gwW_9v_ggS1C"
      },
      "execution_count": 180,
      "outputs": []
    },
    {
      "cell_type": "code",
      "source": [
        "class Critic1Net(eqx.Module):\n",
        "  mlp: eqx.nn.Sequential\n",
        "\n",
        "  def __init__(self, in_size, out_size, hidden_size, key):  #hidden_size = 256\n",
        "    keya, keyb, keyc, keyd = jr.split(key, 4)\n",
        "    self.mlp = eqx.nn.Sequential([eqx.nn.Linear(in_size, hidden_size, key=keya),\n",
        "                                  Lambda1(jax.nn.softplus),\n",
        "                                  eqx.nn.Linear(hidden_size, hidden_size, key=keyb),\n",
        "                                  Lambda1(jax.nn.softplus),\n",
        "                                  eqx.nn.Linear(hidden_size, hidden_size, key=keyc),\n",
        "                                  Lambda1(jax.nn.softplus),\n",
        "                                  eqx.nn.Linear(hidden_size, out_size, key=keyd)])\n",
        "  def __call__(self, x):\n",
        "    return self.mlp(x)"
      ],
      "metadata": {
        "id": "yaMwaqWlQk5p"
      },
      "execution_count": 211,
      "outputs": []
    },
    {
      "cell_type": "code",
      "source": [
        "class Critic2Net(eqx.Module):\n",
        "  mlp: eqx.nn.Sequential\n",
        "\n",
        "  def __init__(self, in_size, out_size, hidden_size, key):  #hidden_size = 256\n",
        "    keya, keyb, keyc, keyd = jr.split(key, 4)\n",
        "    self.mlp = eqx.nn.Sequential([eqx.nn.Linear(in_size, hidden_size, key=keya),\n",
        "                                  Lambda1(jax.nn.softplus),\n",
        "                                  eqx.nn.Linear(hidden_size, hidden_size, key=keyb),\n",
        "                                  Lambda1(jax.nn.softplus),\n",
        "                                  eqx.nn.Linear(hidden_size, hidden_size, key=keyc),\n",
        "                                  Lambda1(jax.nn.softplus),\n",
        "                                  eqx.nn.Linear(hidden_size, out_size, key=keyd)])\n",
        "  def __call__(self, x):\n",
        "    return self.mlp(x)"
      ],
      "metadata": {
        "id": "DN2D_Wn6Uu_9"
      },
      "execution_count": 212,
      "outputs": []
    },
    {
      "cell_type": "markdown",
      "source": [
        "Target Networks"
      ],
      "metadata": {
        "id": "HJx9uKkWnsyo"
      }
    },
    {
      "cell_type": "code",
      "source": [
        "class ActorNet_T(eqx.Module):\n",
        "  main_net: eqx.nn.MLP\n",
        "  t1: float\n",
        "\n",
        "  def __init__(self, in_size, out_size, hidden_size, depth, key):\n",
        "    (rng,) = jr.split(key, 1)\n",
        "    self.main_net = eqx.nn.MLP(in_size, out_size , hidden_size, depth, key = rng)\n",
        "    self.t1 = t1\n",
        "\n",
        "  def __call__(self, t, y):\n",
        "    t = t / self.t1\n",
        "    t = einops.repeat(t, \"-> 2\")\n",
        "    y = jnp.concatenate([y, t]) #axis =1\n",
        "    \n",
        "    y = self.main_net(y)\n",
        "    return y"
      ],
      "metadata": {
        "id": "7XCUnTkp9akA"
      },
      "execution_count": 215,
      "outputs": []
    },
    {
      "cell_type": "code",
      "source": [
        "class ActorNet_T(eqx.Module):\n",
        "\n",
        "    time_mlp: eqx.nn.Sequential\n",
        "    mid_layer: eqx.nn.Sequential\n",
        "    final_layer: eqx.nn.Linear\n",
        "    t_dim: int = 16\n",
        "    t1: float\n",
        "\n",
        "\n",
        "    def __init__ (self, *, key,):\n",
        "\n",
        "        keya, keyb, keyc, keyd, keye, keyf = jr.split(key, 6)\n",
        " \n",
        "        t_dim = self.t_dim\n",
        "\n",
        "        self.time_mlp = eqx.nn.Sequential([\n",
        "            SinusoidalTimEmb(t_dim),\n",
        "            eqx.nn.Linear(t_dim, t_dim *2, key=keya),\n",
        "            Lambda1(jax.nn.softplus),\n",
        "            eqx.nn.Linear(t_dim * 2, t_dim, key=keyb)   \n",
        "        ])\n",
        "        \n",
        "        input_dim = 2 + t_dim\n",
        "\n",
        "        self.mid_layer = eqx.nn.Sequential([\n",
        "            eqx.nn.Linear(input_dim ,256, key=keyc),\n",
        "            Lambda1(jax.nn.softplus),\n",
        "            eqx.nn.Linear(256, 256, key=keyd),\n",
        "            Lambda1(jax.nn.softplus),\n",
        "            eqx.nn.Linear(256, 256, key=keye),\n",
        "            Lambda1(jax.nn.softplus)\n",
        "        ])\n",
        "\n",
        "        self.final_layer = eqx.nn.Linear(256, 2, key=keyf)\n",
        "\n",
        "        self.t1 = t1\n",
        "\n",
        "    def __call__(self, t, x):\n",
        "        new_t = t/self.t1\n",
        "        t = self.time_mlp(new_t)\n",
        "        x = jnp.concatenate([x, t], axis=-1)\n",
        "        x = self.mid_layer(x)\n",
        "\n",
        "        return self.final_layer(x)"
      ],
      "metadata": {
        "id": "ckSNZeYPnzyk"
      },
      "execution_count": 152,
      "outputs": []
    },
    {
      "cell_type": "code",
      "source": [
        "class Critic1Net_T(eqx.Module):\n",
        "  mlp: eqx.nn.Sequential\n",
        "\n",
        "  def __init__(self, in_size, out_size, hidden_size, key):  #hidden_size = 256\n",
        "    keya, keyb, keyc, keyd = jr.split(key, 4)\n",
        "    self.mlp = eqx.nn.Sequential([eqx.nn.Linear(in_size, hidden_size, key=keya),\n",
        "                                  Lambda1(jax.nn.softplus),\n",
        "                                  eqx.nn.Linear(hidden_size, hidden_size, key=keyb),\n",
        "                                  Lambda1(jax.nn.softplus),\n",
        "                                  eqx.nn.Linear(hidden_size, hidden_size, key=keyc),\n",
        "                                  Lambda1(jax.nn.softplus),\n",
        "                                  eqx.nn.Linear(hidden_size, out_size, key=keyd)])\n",
        "  def __call__(self, x):\n",
        "    return self.mlp(x)"
      ],
      "metadata": {
        "id": "VepHNjvTn2dO"
      },
      "execution_count": 216,
      "outputs": []
    },
    {
      "cell_type": "code",
      "source": [
        "class Critic2Net_T(eqx.Module):\n",
        "  mlp: eqx.nn.Sequential\n",
        "\n",
        "  def __init__(self, in_size, out_size, hidden_size, key):  #hidden_size = 256\n",
        "    keya, keyb, keyc, keyd = jr.split(key, 4)\n",
        "    self.mlp = eqx.nn.Sequential([eqx.nn.Linear(in_size, hidden_size, key=keya),\n",
        "                                  Lambda1(jax.nn.softplus),\n",
        "                                  eqx.nn.Linear(hidden_size, hidden_size, key=keyb),\n",
        "                                  Lambda1(jax.nn.softplus),\n",
        "                                  eqx.nn.Linear(hidden_size, hidden_size, key=keyc),\n",
        "                                  Lambda1(jax.nn.softplus),\n",
        "                                  eqx.nn.Linear(hidden_size, out_size, key=keyd)])\n",
        "  def __call__(self, x):\n",
        "    return self.mlp(x)"
      ],
      "metadata": {
        "id": "SlDLgoBHn4TI"
      },
      "execution_count": 217,
      "outputs": []
    },
    {
      "cell_type": "markdown",
      "source": [
        "Target Functions"
      ],
      "metadata": {
        "id": "gD5mf-cNnw47"
      }
    },
    {
      "cell_type": "code",
      "source": [
        "def ema(new_weight: jax.Array, target_weight: jax.Array, beta: float) -> jax.Array:\n",
        "  update_w = target_weight * beta + (1 - beta)* new_weight\n",
        "  return update_w\n",
        "\n",
        "def EMA_w_update(current_model, target_model, init_fn, beta):\n",
        "  is_linear = lambda x: isinstance(x, eqx.nn.Linear)\n",
        "  \n",
        "  get_weights = lambda m: [x.weight\n",
        "                           for x in jax.tree_util.tree_leaves(m, is_leaf=is_linear)\n",
        "                           if is_linear(x)]\n",
        "  new_weights = get_weights(current_model)\n",
        "  target_weights = get_weights(target_model)\n",
        "  updated_weights = [init_fn(n_weight, t_weight, beta) for n_weight, t_weight in zip(new_weights, target_weights)]\n",
        "  new_model = eqx.tree_at(get_weights, target_model, updated_weights)\n",
        "\n",
        "  return new_model\n",
        "\n",
        "def EMA_b_update(current_model, target_model, init_fn, beta):\n",
        "  is_linear = lambda x: isinstance(x, eqx.nn.Linear)\n",
        "  get_biases = lambda m: [x.bias\n",
        "                          for x in jax.tree_util.tree_leaves(m, is_leaf=is_linear)\n",
        "                          if is_linear(x)]\n",
        "  new_biases = get_biases(current_model)\n",
        "  target_biases = get_biases(target_model)\n",
        "  updated_biases = [init_fn(c_bias, t_bias, beta) for c_bias, t_bias in zip(new_biases, target_biases)]\n",
        "  new_model = eqx.tree_at(get_biases, target_model, updated_biases)\n",
        "\n",
        "  return new_model\n"
      ],
      "metadata": {
        "id": "IyM7pJfEVY1w"
      },
      "execution_count": 218,
      "outputs": []
    },
    {
      "cell_type": "code",
      "source": [
        "def single_loss_fn(model, weight, int_beta, data, t, key):\n",
        "    mean = data * jnp.exp(-0.5 * int_beta(t))\n",
        "    var = jnp.maximum(1 - jnp.exp(-int_beta(t)), 1e-5)\n",
        "    std = jnp.sqrt(var)\n",
        "    noise = jr.normal(key, data.shape)\n",
        "    y = mean + std * noise\n",
        "    pred = model(t, y)\n",
        "    return weight(t) * jnp.mean((pred + noise / std) ** 2)"
      ],
      "metadata": {
        "id": "fyw2nKug0gBu"
      },
      "execution_count": 219,
      "outputs": []
    },
    {
      "cell_type": "code",
      "source": [
        "def batch_loss_fn(model, weight, int_beta, data, t1, key):\n",
        "    batch_size = data.shape[0]\n",
        "    tkey, losskey = jr.split(key)\n",
        "    losskey = jr.split(losskey, batch_size)\n",
        "    # Low-discrepancy sampling over t to reduce variance\n",
        "    t = jr.uniform(tkey, (batch_size,), minval=0, maxval=t1 / batch_size)\n",
        "    t = t + (t1 / batch_size) * jnp.arange(batch_size)\n",
        "    loss_fn = ft.partial(single_loss_fn, model, weight, int_beta)\n",
        "    loss_fn = jax.vmap(loss_fn)\n",
        "    return jnp.mean(loss_fn(data, t, losskey))"
      ],
      "metadata": {
        "id": "DTE48Lks0gr9"
      },
      "execution_count": 220,
      "outputs": []
    },
    {
      "cell_type": "code",
      "source": [
        "@eqx.filter_jit\n",
        "def single_sample_fn(model, int_beta, data_shape, dt0, t1, key):\n",
        "    def drift(t, y, args):\n",
        "        _, beta = jax.jvp(int_beta, (t,), (jnp.ones_like(t),))\n",
        "        return -0.5 * beta * (y + model(t, y))\n",
        "\n",
        "    term = dfx.ODETerm(drift)\n",
        "    solver = dfx.Tsit5()\n",
        "    t0 = 0\n",
        "    y1 = jr.normal(key, data_shape)\n",
        "    # reverse time, solve from t1 to t0\n",
        "    sol = dfx.diffeqsolve(term, solver, t1, t0, -dt0, y1)\n",
        "    return sol.ys[0]"
      ],
      "metadata": {
        "id": "ATKzJr7w0g0M"
      },
      "execution_count": 221,
      "outputs": []
    },
    {
      "cell_type": "markdown",
      "source": [
        "Test - ignore"
      ],
      "metadata": {
        "id": "L4pw9-gfraDY"
      }
    },
    {
      "cell_type": "code",
      "source": [
        "eg = jr.normal(key, shape=(2,))"
      ],
      "metadata": {
        "id": "yq7bHprWYWpF"
      },
      "execution_count": 66,
      "outputs": []
    },
    {
      "cell_type": "code",
      "source": [
        "Q1 = Critic1Net(2, 1, 256, key1)"
      ],
      "metadata": {
        "id": "K_-pyWUuYGzB"
      },
      "execution_count": 71,
      "outputs": []
    },
    {
      "cell_type": "code",
      "source": [
        "Q2 = Critic2Net(2, 1, 256, key2)"
      ],
      "metadata": {
        "id": "aFjDc1OMpwnA"
      },
      "execution_count": 72,
      "outputs": []
    },
    {
      "cell_type": "code",
      "source": [
        "Q2(eg)"
      ],
      "metadata": {
        "colab": {
          "base_uri": "https://localhost:8080/"
        },
        "id": "nBT1ZLugYUvG",
        "outputId": "6f28690c-b15e-412a-a42b-c5bb97b6761e"
      },
      "execution_count": 74,
      "outputs": [
        {
          "output_type": "execute_result",
          "data": {
            "text/plain": [
              "Array([-0.01144345], dtype=float32)"
            ]
          },
          "metadata": {},
          "execution_count": 74
        }
      ]
    },
    {
      "cell_type": "code",
      "source": [
        "new_w = EMA_w_update(Q1, Q2, ema, 0.5)"
      ],
      "metadata": {
        "id": "qCzwLFnkZPSL"
      },
      "execution_count": 76,
      "outputs": []
    },
    {
      "cell_type": "code",
      "source": [
        "new_b = EMA_b_update(Q1, Q2, ema, 0.5)"
      ],
      "metadata": {
        "id": "4RN4wUp3qEIu"
      },
      "execution_count": 77,
      "outputs": []
    },
    {
      "cell_type": "markdown",
      "source": [
        "Parameters"
      ],
      "metadata": {
        "id": "15uVluT7bPry"
      }
    },
    {
      "cell_type": "code",
      "source": [
        "iterations = 5\n",
        "data = comb\n",
        "batch_size =256\n",
        "t1 = 10.0\n",
        "dt0 = 0.1\n",
        "data_shape  = (2,)\n",
        "discount = 0.99\n",
        "lr = 3e-4\n",
        "eta = 1.0  #q learning weight\n",
        "\n",
        "update_ema_every = 5\n",
        "beta = 0.995  #update policy network parameter\n",
        "tau = 0.005   #update critic network parameter"
      ],
      "metadata": {
        "id": "yrYvRAajbQtz"
      },
      "execution_count": 222,
      "outputs": []
    },
    {
      "cell_type": "code",
      "source": [
        "int_beta = lambda t: t\n",
        "weight = lambda t: 1 - jnp.exp(-int_beta(t))  "
      ],
      "metadata": {
        "id": "XL4q5iNCl8zt"
      },
      "execution_count": 223,
      "outputs": []
    },
    {
      "cell_type": "markdown",
      "source": [
        "Initilialisations"
      ],
      "metadata": {
        "id": "xLFw-8ezgJl4"
      }
    },
    {
      "cell_type": "code",
      "source": [
        "key1, key2, key3 = jr.split(key, 3)"
      ],
      "metadata": {
        "id": "cJQfNeRIkDKR"
      },
      "execution_count": 224,
      "outputs": []
    },
    {
      "cell_type": "code",
      "source": [
        "c_Q1 = Critic1Net(2, 1, 256, key1)\n",
        "c_Q2 = Critic2Net(2, 1, 256, key2)\n",
        "\n",
        "t_Q1 = Critic1Net_T(2, 1, 256, key1)\n",
        "t_Q2 = Critic2Net_T(2, 1, 256, key2)"
      ],
      "metadata": {
        "id": "h7tjOEx7gIxR"
      },
      "execution_count": 225,
      "outputs": []
    },
    {
      "cell_type": "code",
      "source": [
        "# c_pi = ActorNet(key=key3)\n",
        "# t_pi = ActorNet_T(key=key3)"
      ],
      "metadata": {
        "id": "JUI7L7vsgVMt"
      },
      "execution_count": null,
      "outputs": []
    },
    {
      "cell_type": "code",
      "source": [
        "c_pi = ActorNet(4, 2, 256, 4, key=key3)\n",
        "t_pi = ActorNet_T(4, 2, 256, 4, key=key3)"
      ],
      "metadata": {
        "id": "KVS-KUcW-QK4"
      },
      "execution_count": 227,
      "outputs": []
    },
    {
      "cell_type": "code",
      "source": [
        "opt = optax.adabelief(lr)\n",
        "\n",
        "\n",
        "opt_state_1 = opt.init(eqx.filter(c_Q1, eqx.is_inexact_array))\n",
        "opt_state_2 = opt.init(eqx.filter(c_Q2, eqx.is_inexact_array))\n",
        "\n",
        "# opt_state_q1t = opt.init(eqx.filter(t_Q1, eqx.is_inexact_array))\n",
        "# opt_state_q2t = opt.init(eqx.filter(t_Q2, eqx.is_inexact_array))\n",
        "\n",
        "opt_state_cpi = opt.init(eqx.filter(c_pi, eqx.is_inexact_array))"
      ],
      "metadata": {
        "id": "Y3EGSJTYl-F3"
      },
      "execution_count": 236,
      "outputs": []
    },
    {
      "cell_type": "markdown",
      "source": [
        "Train"
      ],
      "metadata": {
        "id": "JrdLqt5vbMJS"
      }
    },
    {
      "cell_type": "code",
      "source": [
        "def c_loss(c_Qa, c_Qb, t_Qa, t_Qb, next_action, action, reward, discount):\n",
        "    \n",
        "    current_qa = jax.vmap(c_Qa)(action)\n",
        "    current_qb = jax.vmap(c_Qb)(action)\n",
        "        \n",
        "    t_a = jax.vmap(t_Qa)(next_action)\n",
        "    t_b = jax.vmap(t_Qb)(next_action)\n",
        "\n",
        "        \n",
        "    target_q = jnp.minimum(t_a, t_b)\n",
        "\n",
        "    target_q = (reward + discount * target_q)\n",
        "\n",
        "\n",
        "    critic_loss = jnp.mean((current_qa - target_q)**2) + jnp.mean((current_qb - target_q)**2)\n",
        "\n",
        "    return critic_loss"
      ],
      "metadata": {
        "id": "16v2e1vZy7H3"
      },
      "execution_count": 229,
      "outputs": []
    },
    {
      "cell_type": "code",
      "source": [
        "def p_loss(c_pi, q_loss, action, train_key):\n",
        "    bc_loss = batch_loss_fn(c_pi, weight, int_beta, action, t1, train_key)\n",
        "    actor_loss = bc_loss + eta * q_loss\n",
        "    return actor_loss"
      ],
      "metadata": {
        "id": "GK77riuR7QcR"
      },
      "execution_count": 230,
      "outputs": []
    },
    {
      "cell_type": "code",
      "source": [
        "def target_update(new_model, target_model):\n",
        "  \n",
        "  is_linear = lambda x: isinstance(x, eqx.nn.Linear)\n",
        "  \n",
        "  get_weights = lambda m: [x.weight\n",
        "                           for x in jax.tree_util.tree_leaves(m, is_leaf=is_linear)\n",
        "                           if is_linear(x)]\n",
        "  target_weights = get_weights(target_model)\n",
        "\n",
        "  modela = eqx.tree_at(get_weights, new_model, target_weights)\n",
        "  \n",
        "  \n",
        "  get_biases = lambda m: [x.bias\n",
        "                           for x in jax.tree_util.tree_leaves(m, is_leaf=is_linear)\n",
        "                           if is_linear(x)]\n",
        "  target_bias= get_biases(target_model)\n",
        "  \n",
        "  modelb = eqx.tree_at(get_weights, new_model, target_weights)\n",
        "\n",
        "\n",
        "  return modelb"
      ],
      "metadata": {
        "id": "b1-gkiXF3ell"
      },
      "execution_count": 231,
      "outputs": []
    },
    {
      "cell_type": "code",
      "source": [
        "# model_key, train_key, loader_key, sample_key, actor_key, pls_key = jr.split(key, 6)"
      ],
      "metadata": {
        "id": "s2BalC9J_vSM"
      },
      "execution_count": 39,
      "outputs": []
    },
    {
      "cell_type": "code",
      "source": [
        "perm_key, n_act_key, p_act_key, u_key, actor_key = jr.split(key, 5)"
      ],
      "metadata": {
        "id": "OzIY7VhvysVo"
      },
      "execution_count": 237,
      "outputs": []
    },
    {
      "cell_type": "code",
      "source": [
        "step=0\n",
        "for _ in range(iterations):\n",
        "\n",
        "    \n",
        "    dataset_size = data.shape[0]\n",
        "    indices = jnp.arange(dataset_size)\n",
        "    perm = jr.permutation(perm_key, indices)\n",
        "    (perm_key,) = jr.split(perm_key, 1)   #perm_key = jr.split(key, 1)[0]\n",
        "    p = perm[0:batch_size]\n",
        "    dat = data[p]\n",
        "    action, reward = jnp.split(dat, [2], axis=1)\n",
        "\n",
        "    \"\"\"Q-Training\"\"\"   \n",
        "\n",
        "    # current_q1 = jax.vmap(c_Q1)(action)\n",
        "    # current_q2 = jax.vmap(c_Q2)(action)\n",
        "\n",
        "\n",
        "    alpha_key = jr.split(n_act_key, batch_size)\n",
        "    sample_fn = ft.partial(single_sample_fn, t_pi, int_beta, data_shape , dt0, t1)\n",
        "    next_action = jax.vmap(sample_fn)(alpha_key)\n",
        "\n",
        "    (n_act_key,) = jr.split(n_act_key, 1)\n",
        "        \n",
        "    # t_1 = jax.vmap(t_Q1)(next_action)\n",
        "    # t_2 = jax.vmap(t_Q2)(next_action)\n",
        "\n",
        "        \n",
        "    # target_q = jnp.minimum(t_1, t_2)\n",
        "\n",
        "    # target_q = (reward + discount * target_q)\n",
        "\n",
        "\n",
        "    # critic_loss = jnp.mean((current_q1 - target_q)**2) + jnp.mean((current_q2 - target_q)**2)\n",
        "\n",
        "\n",
        "    loss_fn = eqx.filter_value_and_grad(c_loss)\n",
        "\n",
        "\n",
        "    loss1, grads1 = loss_fn(c_Q1, c_Q2, t_Q1, t_Q2, next_action, action, reward, discount)\n",
        "    loss2, grads2 = loss_fn(c_Q2, c_Q1, t_Q2, t_Q1, next_action, action, reward, discount)\n",
        "    \n",
        "    updates1, opt_state1 = opt.update(grads1, opt_state_1)\n",
        "    c_Q1 = eqx.apply_updates(c_Q1, updates1)\n",
        "\n",
        "    updates2, opt_state2 = opt.update(grads2, opt_state_2)\n",
        "    c_Q2 = eqx.apply_updates(c_Q2, updates2)\n",
        "    \n",
        "    \n",
        "    \"\"\"Policy Training\"\"\"\n",
        "\n",
        "    beta_key = jr.split(p_act_key, batch_size)\n",
        "    sample_fn = ft.partial(single_sample_fn, c_pi, int_beta, data_shape , dt0, t1)\n",
        "    new_action = jax.vmap(sample_fn)(beta_key)\n",
        "    (p_act_key,) = jr.split(p_act_key, 1)\n",
        "\n",
        "    new_q1_action = jax.vmap(c_Q1)(new_action)\n",
        "    new_q2_action = jax.vmap(c_Q2)(new_action)\n",
        "\n",
        "    if jr.uniform(u_key, shape = ()) > 0.5:\n",
        "        q_loss = - jnp.mean(new_q1_action) / jnp.mean(jnp.absolute(new_q2_action))\n",
        "    else:\n",
        "        q_loss = - jnp.mean(new_q2_action) / jnp.mean(jnp.absolute(new_q1_action))\n",
        "\n",
        "   \n",
        "    (u_key,) = jr.split(u_key, 1)\n",
        "\n",
        "\n",
        "    loss_fn = eqx.filter_value_and_grad(p_loss)\n",
        "\n",
        "\n",
        "    loss, grads = loss_fn(c_pi, q_loss, action, actor_key)\n",
        "    updates, opt_state_cpi = opt.update(grads, opt_state_cpi)\n",
        "    c_pi = eqx.apply_updates(c_pi, updates)\n",
        "    (actor_key,) = jr.split(actor_key, 1)\n",
        "\n",
        "\n",
        "\n",
        "    \"\"\"Update Target Networks\"\"\"\n",
        "\n",
        "    if step % update_ema_every == 0:\n",
        "        t_Q1 = EMA_w_update(c_Q1, t_Q1, ema, tau)\n",
        "        t_Q2 = EMA_w_update(c_Q2, t_Q2, ema, tau)\n",
        "        t_Q1 = EMA_b_update(c_Q1, t_Q1, ema, tau)\n",
        "        t_Q2 = EMA_b_update(c_Q2, t_Q2, ema, tau)\n",
        "        t_pi = EMA_w_update(c_pi, t_pi, ema, beta)\n",
        "        t_pi = EMA_b_update(c_pi, t_pi, ema, beta)\n",
        "    else:\n",
        "        continue\n",
        "\n",
        "    step += 1"
      ],
      "metadata": {
        "id": "eVBcWWWVDbDp"
      },
      "execution_count": 239,
      "outputs": []
    },
    {
      "cell_type": "markdown",
      "source": [
        "Sample"
      ],
      "metadata": {
        "id": "aN4Zmv0yEPRF"
      }
    },
    {
      "cell_type": "code",
      "source": [
        "(new_key,) = jr.split(key, 1)"
      ],
      "metadata": {
        "id": "2mFA4O94EYZN"
      },
      "execution_count": 41,
      "outputs": []
    },
    {
      "cell_type": "code",
      "source": [
        "s_key = jr.split(new_key, 2_000)\n",
        "sample_fn = ft.partial(single_sample_fn, c_pi, int_beta, data_shape, dt0, t1)\n",
        "sample = jax.vmap(sample_fn)(s_key)"
      ],
      "metadata": {
        "id": "Njgkm0smEM2Q"
      },
      "execution_count": 42,
      "outputs": []
    },
    {
      "cell_type": "code",
      "source": [
        "new_s = jnp.clip(sample, -2.0, 2.0)"
      ],
      "metadata": {
        "id": "kyeQvjUgeEOG"
      },
      "execution_count": 44,
      "outputs": []
    },
    {
      "cell_type": "code",
      "source": [
        "plt.figure().add_subplot(111).set_aspect(\"equal\", adjustable=\"box\")\n",
        "plt.scatter(new_s[:, 0], new_s[:, 1], alpha=0.1) #plot 1st row as x values and 2nd row as y values on the plot\n",
        "plt.xticks([-2, 0, 2])\n",
        "plt.yticks([-2, 0, 2])\n",
        "plt.show()"
      ],
      "metadata": {
        "colab": {
          "base_uri": "https://localhost:8080/",
          "height": 265
        },
        "id": "ZpGu_jI3EW72",
        "outputId": "f62795f7-2cb5-416c-edea-479d9e7e0450"
      },
      "execution_count": 45,
      "outputs": [
        {
          "output_type": "display_data",
          "data": {
            "text/plain": [
              "<Figure size 432x288 with 1 Axes>"
            ],
            "image/png": "[encoded data removed]"
          },
          "metadata": {
            "needs_background": "light"
          }
        }
      ]
    }
  ]
}