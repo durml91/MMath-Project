{
  "cells": [
    {
      "cell_type": "markdown",
      "metadata": {
        "id": "view-in-github",
        "colab_type": "text"
      },
      "source": [
        "<a href=\"https://colab.research.google.com/github/durml91/Public-share/blob/main/Diffusion_RL.ipynb\" target=\"_parent\"><img src=\"https://colab.research.google.com/assets/colab-badge.svg\" alt=\"Open In Colab\"/></a>"
      ]
    },
    {
      "cell_type": "code",
      "source": [
        "!python --version"
      ],
      "metadata": {
        "colab": {
          "base_uri": "https://localhost:8080/"
        },
        "id": "LEMYv4B62aJe",
        "outputId": "05b1cf9d-41b6-4f37-94d9-1d26242dfc80"
      },
      "execution_count": null,
      "outputs": [
        {
          "output_type": "stream",
          "name": "stdout",
          "text": [
            "Python 3.8.16\n"
          ]
        }
      ]
    },
    {
      "cell_type": "code",
      "source": [
        "!nvcc --version"
      ],
      "metadata": {
        "colab": {
          "base_uri": "https://localhost:8080/"
        },
        "id": "JiogYlzfl1EL",
        "outputId": "d357a03d-dc53-48f1-8ee7-9831006ee504"
      },
      "execution_count": null,
      "outputs": [
        {
          "output_type": "stream",
          "name": "stdout",
          "text": [
            "nvcc: NVIDIA (R) Cuda compiler driver\n",
            "Copyright (c) 2005-2021 NVIDIA Corporation\n",
            "Built on Sun_Feb_14_21:12:58_PST_2021\n",
            "Cuda compilation tools, release 11.2, V11.2.152\n",
            "Build cuda_11.2.r11.2/compiler.29618528_0\n"
          ]
        }
      ]
    },
    {
      "cell_type": "code",
      "source": [
        "!pip install git+https://github.com/andreinechaev/nvcc4jupyter.git"
      ],
      "metadata": {
        "colab": {
          "base_uri": "https://localhost:8080/"
        },
        "id": "fYpDDwgyl8ET",
        "outputId": "435689e8-ac56-44d0-df6d-a5219423f173"
      },
      "execution_count": null,
      "outputs": [
        {
          "output_type": "stream",
          "name": "stdout",
          "text": [
            "Looking in indexes: https://pypi.org/simple, https://us-python.pkg.dev/colab-wheels/public/simple/\n",
            "Collecting git+https://github.com/andreinechaev/nvcc4jupyter.git\n",
            "  Cloning https://github.com/andreinechaev/nvcc4jupyter.git to /tmp/pip-req-build-k4b891d9\n",
            "  Running command git clone --filter=blob:none --quiet https://github.com/andreinechaev/nvcc4jupyter.git /tmp/pip-req-build-k4b891d9\n",
            "  Resolved https://github.com/andreinechaev/nvcc4jupyter.git to commit aac710a35f52bb78ab34d2e52517237941399eff\n",
            "  Preparing metadata (setup.py) ... \u001b[?25l\u001b[?25hdone\n",
            "Building wheels for collected packages: NVCCPlugin\n",
            "  Building wheel for NVCCPlugin (setup.py) ... \u001b[?25l\u001b[?25hdone\n",
            "  Created wheel for NVCCPlugin: filename=NVCCPlugin-0.0.2-py3-none-any.whl size=4304 sha256=2d776d6ef6e254ae3b5e3de48d9f32235eb9ab19a82e416a4afdd8ac783de287\n",
            "  Stored in directory: /tmp/pip-ephem-wheel-cache-gxylecf2/wheels/f3/08/cc/e2b5b0e1c92df07dbb50a6f024a68ce090f5e7b2316b41756d\n",
            "Successfully built NVCCPlugin\n",
            "Installing collected packages: NVCCPlugin\n",
            "Successfully installed NVCCPlugin-0.0.2\n"
          ]
        }
      ]
    },
    {
      "cell_type": "code",
      "source": [
        "%load_ext nvcc_plugin"
      ],
      "metadata": {
        "colab": {
          "base_uri": "https://localhost:8080/"
        },
        "id": "oCsQ0NCSmAsg",
        "outputId": "d6769bb7-3bdb-4488-883f-c62c5ce633f6"
      },
      "execution_count": null,
      "outputs": [
        {
          "output_type": "stream",
          "name": "stdout",
          "text": [
            "created output directory at /content/src\n",
            "Out bin /content/result.out\n"
          ]
        }
      ]
    },
    {
      "cell_type": "code",
      "source": [
        "%%cu\n",
        "#include <iostream>\n",
        "    int\n",
        "    main()\n",
        "{\n",
        "    std::cout << \"Welcome To GeeksforGeeks\\n\";\n",
        "    return 0;\n",
        "}"
      ],
      "metadata": {
        "colab": {
          "base_uri": "https://localhost:8080/"
        },
        "id": "BF7uMtU_mMSD",
        "outputId": "24feb0d9-025b-4b2a-b6b4-3e38d9a8db81"
      },
      "execution_count": null,
      "outputs": [
        {
          "output_type": "stream",
          "name": "stdout",
          "text": [
            "Welcome To GeeksforGeeks\n",
            "\n"
          ]
        }
      ]
    },
    {
      "cell_type": "code",
      "source": [
        "!pip install torch==1.10.1+cu111 torchaudio==0.10.1+rocm4.1 torchvision==0.11.2+cu111 -f https://download.pytorch.org/whl/torch_stable.html"
      ],
      "metadata": {
        "colab": {
          "base_uri": "https://localhost:8080/"
        },
        "id": "b0or0Q3iqQ7Y",
        "outputId": "f36fd344-de4a-4548-c4e5-ce4beb0e4859"
      },
      "execution_count": null,
      "outputs": [
        {
          "output_type": "stream",
          "name": "stdout",
          "text": [
            "Looking in indexes: https://pypi.org/simple, https://us-python.pkg.dev/colab-wheels/public/simple/\n",
            "Looking in links: https://download.pytorch.org/whl/torch_stable.html\n",
            "Collecting torch==1.10.1+cu111\n",
            "  Downloading https://download.pytorch.org/whl/cu111/torch-1.10.1%2Bcu111-cp38-cp38-linux_x86_64.whl (2137.7 MB)\n",
            "\u001b[2K     \u001b[91m━━━━━━━━━━━━━━━━━━━━━━━━━━━━━━━━━━━━━━━\u001b[0m\u001b[91m╸\u001b[0m \u001b[32m2.1/2.1 GB\u001b[0m \u001b[31m84.2 MB/s\u001b[0m eta \u001b[36m0:00:01\u001b[0mtcmalloc: large alloc 2137669632 bytes == 0x3582000 @  0x7fd5c6f471e7 0x4d30a0 0x4d312c 0x5d6f4c 0x51edd1 0x51ef5b 0x4f750a 0x4997a2 0x55cd91 0x5d8941 0x4997a2 0x55cd91 0x5d8941 0x4997a2 0x55cd91 0x5d8941 0x4997a2 0x55cd91 0x5d8941 0x4997a2 0x55cd91 0x5d8941 0x4997a2 0x5d8868 0x4997a2 0x55cd91 0x5d8941 0x49abe4 0x55cd91 0x5d8941 0x4997a2\n",
            "\u001b[2K     \u001b[91m━━━━━━━━━━━━━━━━━━━━━━━━━━━━━━━━━━━━━━━\u001b[0m\u001b[91m╸\u001b[0m \u001b[32m2.1/2.1 GB\u001b[0m \u001b[31m86.8 MB/s\u001b[0m eta \u001b[36m0:00:01\u001b[0mtcmalloc: large alloc 2672091136 bytes == 0x82c26000 @  0x7fd5c6f48615 0x5d6f4c 0x51edd1 0x51ef5b 0x4f750a 0x4997a2 0x55cd91 0x5d8941 0x4997a2 0x55cd91 0x5d8941 0x4997a2 0x55cd91 0x5d8941 0x4997a2 0x55cd91 0x5d8941 0x4997a2 0x55cd91 0x5d8941 0x4997a2 0x5d8868 0x4997a2 0x55cd91 0x5d8941 0x49abe4 0x55cd91 0x5d8941 0x4997a2 0x55cd91 0x5d8941\n",
            "tcmalloc: large alloc 2137669632 bytes == 0x3582000 @  0x7fd5c6f471e7 0x4d30a0 0x5dede2 0x6758aa 0x4f750a 0x4997a2 0x55cd91 0x5d8941 0x4997a2 0x55cd91 0x5d8941 0x4fe318 0x5da092 0x62042c 0x5d8d8c 0x561f80 0x4fd2db 0x4997c7 0x4fd8b5 0x4997c7 0x4fd8b5 0x49abe4 0x4f5fe9 0x55e146 0x4f5fe9 0x55e146 0x4f5fe9 0x55e146 0x5d8868 0x5da092 0x587116\n",
            "\u001b[2K     \u001b[90m━━━━━━━━━━━━━━━━━━━━━━━━━━━━━━━━━━━━━━━━\u001b[0m \u001b[32m2.1/2.1 GB\u001b[0m \u001b[31m805.2 kB/s\u001b[0m eta \u001b[36m0:00:00\u001b[0m\n",
            "\u001b[?25hCollecting torchaudio==0.10.1+rocm4.1\n",
            "  Downloading https://download.pytorch.org/whl/rocm4.1/torchaudio-0.10.1%2Brocm4.1-cp38-cp38-linux_x86_64.whl (2.7 MB)\n",
            "\u001b[2K     \u001b[90m━━━━━━━━━━━━━━━━━━━━━━━━━━━━━━━━━━━━━━━━\u001b[0m \u001b[32m2.7/2.7 MB\u001b[0m \u001b[31m25.7 MB/s\u001b[0m eta \u001b[36m0:00:00\u001b[0m\n",
            "\u001b[?25hCollecting torchvision==0.11.2+cu111\n",
            "  Downloading https://download.pytorch.org/whl/cu111/torchvision-0.11.2%2Bcu111-cp38-cp38-linux_x86_64.whl (24.5 MB)\n",
            "\u001b[2K     \u001b[90m━━━━━━━━━━━━━━━━━━━━━━━━━━━━━━━━━━━━━━━━\u001b[0m \u001b[32m24.5/24.5 MB\u001b[0m \u001b[31m37.2 MB/s\u001b[0m eta \u001b[36m0:00:00\u001b[0m\n",
            "\u001b[?25hRequirement already satisfied: typing-extensions in /usr/local/lib/python3.8/dist-packages (from torch==1.10.1+cu111) (4.4.0)\n",
            "Requirement already satisfied: pillow!=8.3.0,>=5.3.0 in /usr/local/lib/python3.8/dist-packages (from torchvision==0.11.2+cu111) (7.1.2)\n",
            "Requirement already satisfied: numpy in /usr/local/lib/python3.8/dist-packages (from torchvision==0.11.2+cu111) (1.21.6)\n",
            "Installing collected packages: torch, torchvision, torchaudio\n",
            "  Attempting uninstall: torch\n",
            "    Found existing installation: torch 1.13.0+cu116\n",
            "    Uninstalling torch-1.13.0+cu116:\n",
            "      Successfully uninstalled torch-1.13.0+cu116\n",
            "  Attempting uninstall: torchvision\n",
            "    Found existing installation: torchvision 0.14.0+cu116\n",
            "    Uninstalling torchvision-0.14.0+cu116:\n",
            "      Successfully uninstalled torchvision-0.14.0+cu116\n",
            "  Attempting uninstall: torchaudio\n",
            "    Found existing installation: torchaudio 0.13.0+cu116\n",
            "    Uninstalling torchaudio-0.13.0+cu116:\n",
            "      Successfully uninstalled torchaudio-0.13.0+cu116\n",
            "\u001b[31mERROR: pip's dependency resolver does not currently take into account all the packages that are installed. This behaviour is the source of the following dependency conflicts.\n",
            "torchtext 0.14.0 requires torch==1.13.0, but you have torch 1.10.1+cu111 which is incompatible.\u001b[0m\u001b[31m\n",
            "\u001b[0mSuccessfully installed torch-1.10.1+cu111 torchaudio-0.10.1+rocm4.1 torchvision-0.11.2+cu111\n"
          ]
        }
      ]
    },
    {
      "cell_type": "code",
      "execution_count": null,
      "metadata": {
        "id": "oQe2n3UiqKZH"
      },
      "outputs": [],
      "source": [
        "import torch"
      ]
    },
    {
      "cell_type": "code",
      "source": [
        "print(torch.__version__)"
      ],
      "metadata": {
        "colab": {
          "base_uri": "https://localhost:8080/"
        },
        "id": "BOBwSEfEpOHC",
        "outputId": "1c829865-c0e0-4a48-dd4b-abc258598919"
      },
      "execution_count": 11,
      "outputs": [
        {
          "output_type": "stream",
          "name": "stdout",
          "text": [
            "1.10.1+cu111\n"
          ]
        }
      ]
    },
    {
      "cell_type": "code",
      "execution_count": null,
      "metadata": {
        "colab": {
          "base_uri": "https://localhost:8080/"
        },
        "id": "C12pc8ShpHJL",
        "outputId": "1392701f-487d-4f0f-a4e4-58bb54e91711"
      },
      "outputs": [
        {
          "output_type": "stream",
          "name": "stdout",
          "text": [
            "Cloning into 'Diffusion-Policies-for-Offline-RL'...\n",
            "remote: Enumerating objects: 38, done.\u001b[K\n",
            "remote: Counting objects: 100% (38/38), done.\u001b[K\n",
            "remote: Compressing objects: 100% (23/23), done.\u001b[K\n",
            "remote: Total 38 (delta 13), reused 38 (delta 13), pack-reused 0\u001b[K\n",
            "Unpacking objects: 100% (38/38), done.\n",
            "/content/Diffusion-Policies-for-Offline-RL\n"
          ]
        }
      ],
      "source": [
        "!git clone https://github.com/Zhendong-Wang/Diffusion-Policies-for-Offline-RL.git\n",
        "%cd Diffusion-Policies-for-Offline-RL"
      ]
    },
    {
      "cell_type": "code",
      "source": [
        "!pip install mujoco"
      ],
      "metadata": {
        "colab": {
          "base_uri": "https://localhost:8080/"
        },
        "id": "jomg1V_1tbXv",
        "outputId": "f862cfee-a1f7-4a96-db7e-22663dfad0ce"
      },
      "execution_count": null,
      "outputs": [
        {
          "output_type": "stream",
          "name": "stdout",
          "text": [
            "Looking in indexes: https://pypi.org/simple, https://us-python.pkg.dev/colab-wheels/public/simple/\n",
            "Collecting mujoco\n",
            "  Downloading mujoco-2.3.1.post1-cp38-cp38-manylinux_2_17_x86_64.manylinux2014_x86_64.whl (4.2 MB)\n",
            "\u001b[2K     \u001b[90m━━━━━━━━━━━━━━━━━━━━━━━━━━━━━━━━━━━━━━━━\u001b[0m \u001b[32m4.2/4.2 MB\u001b[0m \u001b[31m39.6 MB/s\u001b[0m eta \u001b[36m0:00:00\u001b[0m\n",
            "\u001b[?25hCollecting glfw\n",
            "  Downloading glfw-2.5.5-py2.py27.py3.py30.py31.py32.py33.py34.py35.py36.py37.py38-none-manylinux2014_x86_64.whl (207 kB)\n",
            "\u001b[2K     \u001b[90m━━━━━━━━━━━━━━━━━━━━━━━━━━━━━━━━━━━━━━\u001b[0m \u001b[32m207.5/207.5 KB\u001b[0m \u001b[31m27.1 MB/s\u001b[0m eta \u001b[36m0:00:00\u001b[0m\n",
            "\u001b[?25hRequirement already satisfied: absl-py in /usr/local/lib/python3.8/dist-packages (from mujoco) (1.3.0)\n",
            "Requirement already satisfied: pyopengl in /usr/local/lib/python3.8/dist-packages (from mujoco) (3.1.6)\n",
            "Requirement already satisfied: numpy in /usr/local/lib/python3.8/dist-packages (from mujoco) (1.21.6)\n",
            "Installing collected packages: glfw, mujoco\n",
            "Successfully installed glfw-2.5.5 mujoco-2.3.1.post1\n"
          ]
        }
      ]
    },
    {
      "cell_type": "code",
      "source": [
        "from google.colab import files\n",
        "\n",
        "import distutils.util\n",
        "import subprocess\n",
        "if subprocess.run('nvidia-smi').returncode:\n",
        "  raise RuntimeError(\n",
        "      'Cannot communicate with GPU. '\n",
        "      'Make sure you are using a GPU Colab runtime. '\n",
        "      'Go to the Runtime menu and select Choose runtime type.')\n",
        "# Configure MuJoCo to use the EGL rendering backend (requires GPU)\n",
        "print('Setting environment variable to use GPU rendering:')\n",
        "%env MUJOCO_GL=egl\n",
        "\n",
        "try:\n",
        "  print('Checking that the installation succeeded:')\n",
        "  import mujoco\n",
        "  mujoco.MjModel.from_xml_string('<mujoco/>')\n",
        "except Exception as e:\n",
        "  raise e from RuntimeError(\n",
        "      'Something went wrong during installation. Check the shell output above '\n",
        "      'for more information.\\n'\n",
        "      'If using a hosted Colab runtime, make sure you enable GPU acceleration '\n",
        "      'by going to the Runtime menu and selecting \"Choose runtime type\".')\n",
        "\n",
        "print('Installation successful.')"
      ],
      "metadata": {
        "colab": {
          "base_uri": "https://localhost:8080/"
        },
        "id": "9RUXZmZ5tfRx",
        "outputId": "860a77da-75ee-45ce-d1a7-583163d17cf3"
      },
      "execution_count": 13,
      "outputs": [
        {
          "output_type": "stream",
          "name": "stdout",
          "text": [
            "Setting environment variable to use GPU rendering:\n",
            "env: MUJOCO_GL=egl\n",
            "Checking that the installation succeeded:\n",
            "Installation successful.\n"
          ]
        }
      ]
    },
    {
      "cell_type": "code",
      "source": [
        "!apt-get install -y \\\n",
        "    libgl1-mesa-dev \\\n",
        "    libgl1-mesa-glx \\\n",
        "    libglew-dev \\\n",
        "    libosmesa6-dev \\\n",
        "    software-properties-common\n",
        "\n",
        "!apt-get install -y patchelf\n",
        "!pip install free-mujoco-py"
      ],
      "metadata": {
        "colab": {
          "base_uri": "https://localhost:8080/"
        },
        "id": "JUDykkHN58TJ",
        "outputId": "186dda9c-33f7-4b95-963b-4cf5cd84c538"
      },
      "execution_count": 28,
      "outputs": [
        {
          "output_type": "stream",
          "name": "stdout",
          "text": [
            "Reading package lists... Done\n",
            "Building dependency tree       \n",
            "Reading state information... Done\n",
            "libgl1-mesa-dev is already the newest version (20.0.8-0ubuntu1~18.04.1).\n",
            "libgl1-mesa-dev set to manually installed.\n",
            "software-properties-common is already the newest version (0.96.24.32.18).\n",
            "The following package was automatically installed and is no longer required:\n",
            "  libnvidia-common-460\n",
            "Use 'apt autoremove' to remove it.\n",
            "Suggested packages:\n",
            "  glew-utils\n",
            "The following NEW packages will be installed:\n",
            "  libgl1-mesa-glx libglew-dev libglew2.0 libosmesa6 libosmesa6-dev\n",
            "0 upgraded, 5 newly installed, 0 to remove and 21 not upgraded.\n",
            "Need to get 2,916 kB of archives.\n",
            "After this operation, 12.6 MB of additional disk space will be used.\n",
            "Get:1 http://archive.ubuntu.com/ubuntu bionic-updates/main amd64 libgl1-mesa-glx amd64 20.0.8-0ubuntu1~18.04.1 [5,532 B]\n",
            "Get:2 http://archive.ubuntu.com/ubuntu bionic/universe amd64 libglew2.0 amd64 2.0.0-5 [140 kB]\n",
            "Get:3 http://archive.ubuntu.com/ubuntu bionic/universe amd64 libglew-dev amd64 2.0.0-5 [120 kB]\n",
            "Get:4 http://archive.ubuntu.com/ubuntu bionic-updates/main amd64 libosmesa6 amd64 20.0.8-0ubuntu1~18.04.1 [2,641 kB]\n",
            "Get:5 http://archive.ubuntu.com/ubuntu bionic-updates/main amd64 libosmesa6-dev amd64 20.0.8-0ubuntu1~18.04.1 [8,828 B]\n",
            "Fetched 2,916 kB in 1s (2,825 kB/s)\n",
            "Selecting previously unselected package libgl1-mesa-glx:amd64.\n",
            "(Reading database ... 124016 files and directories currently installed.)\n",
            "Preparing to unpack .../libgl1-mesa-glx_20.0.8-0ubuntu1~18.04.1_amd64.deb ...\n",
            "Unpacking libgl1-mesa-glx:amd64 (20.0.8-0ubuntu1~18.04.1) ...\n",
            "Selecting previously unselected package libglew2.0:amd64.\n",
            "Preparing to unpack .../libglew2.0_2.0.0-5_amd64.deb ...\n",
            "Unpacking libglew2.0:amd64 (2.0.0-5) ...\n",
            "Selecting previously unselected package libglew-dev:amd64.\n",
            "Preparing to unpack .../libglew-dev_2.0.0-5_amd64.deb ...\n",
            "Unpacking libglew-dev:amd64 (2.0.0-5) ...\n",
            "Selecting previously unselected package libosmesa6:amd64.\n",
            "Preparing to unpack .../libosmesa6_20.0.8-0ubuntu1~18.04.1_amd64.deb ...\n",
            "Unpacking libosmesa6:amd64 (20.0.8-0ubuntu1~18.04.1) ...\n",
            "Selecting previously unselected package libosmesa6-dev:amd64.\n",
            "Preparing to unpack .../libosmesa6-dev_20.0.8-0ubuntu1~18.04.1_amd64.deb ...\n",
            "Unpacking libosmesa6-dev:amd64 (20.0.8-0ubuntu1~18.04.1) ...\n",
            "Setting up libosmesa6:amd64 (20.0.8-0ubuntu1~18.04.1) ...\n",
            "Setting up libgl1-mesa-glx:amd64 (20.0.8-0ubuntu1~18.04.1) ...\n",
            "Setting up libglew2.0:amd64 (2.0.0-5) ...\n",
            "Setting up libglew-dev:amd64 (2.0.0-5) ...\n",
            "Setting up libosmesa6-dev:amd64 (20.0.8-0ubuntu1~18.04.1) ...\n",
            "Processing triggers for libc-bin (2.27-3ubuntu1.6) ...\n",
            "Reading package lists... Done\n",
            "Building dependency tree       \n",
            "Reading state information... Done\n",
            "The following package was automatically installed and is no longer required:\n",
            "  libnvidia-common-460\n",
            "Use 'apt autoremove' to remove it.\n",
            "The following NEW packages will be installed:\n",
            "  patchelf\n",
            "0 upgraded, 1 newly installed, 0 to remove and 21 not upgraded.\n",
            "Need to get 46.5 kB of archives.\n",
            "After this operation, 130 kB of additional disk space will be used.\n",
            "Get:1 http://archive.ubuntu.com/ubuntu bionic/universe amd64 patchelf amd64 0.9-1 [46.5 kB]\n",
            "Fetched 46.5 kB in 0s (125 kB/s)\n",
            "Selecting previously unselected package patchelf.\n",
            "(Reading database ... 124054 files and directories currently installed.)\n",
            "Preparing to unpack .../patchelf_0.9-1_amd64.deb ...\n",
            "Unpacking patchelf (0.9-1) ...\n",
            "Setting up patchelf (0.9-1) ...\n",
            "Processing triggers for man-db (2.8.3-2ubuntu0.1) ...\n",
            "Looking in indexes: https://pypi.org/simple, https://us-python.pkg.dev/colab-wheels/public/simple/\n",
            "Collecting free-mujoco-py\n",
            "  Downloading free_mujoco_py-2.1.6-py3-none-any.whl (14.1 MB)\n",
            "\u001b[2K     \u001b[90m━━━━━━━━━━━━━━━━━━━━━━━━━━━━━━━━━━━━━━━━\u001b[0m \u001b[32m14.1/14.1 MB\u001b[0m \u001b[31m77.7 MB/s\u001b[0m eta \u001b[36m0:00:00\u001b[0m\n",
            "\u001b[?25hCollecting numpy<2.0.0,>=1.21.3\n",
            "  Using cached numpy-1.24.1-cp38-cp38-manylinux_2_17_x86_64.manylinux2014_x86_64.whl (17.3 MB)\n",
            "Requirement already satisfied: Cython<0.30.0,>=0.29.24 in /usr/local/lib/python3.8/dist-packages (from free-mujoco-py) (0.29.30)\n",
            "Collecting glfw<2.0.0,>=1.4.0\n",
            "  Downloading glfw-1.12.0-py2.py27.py3.py30.py31.py32.py33.py34.py35.py36.py37.py38-none-manylinux2014_x86_64.whl (203 kB)\n",
            "\u001b[2K     \u001b[90m━━━━━━━━━━━━━━━━━━━━━━━━━━━━━━━━━━━━━━\u001b[0m \u001b[32m203.7/203.7 KB\u001b[0m \u001b[31m25.5 MB/s\u001b[0m eta \u001b[36m0:00:00\u001b[0m\n",
            "\u001b[?25hRequirement already satisfied: cffi<2.0.0,>=1.15.0 in /usr/local/lib/python3.8/dist-packages (from free-mujoco-py) (1.15.0)\n",
            "Collecting fasteners==0.15\n",
            "  Downloading fasteners-0.15-py2.py3-none-any.whl (23 kB)\n",
            "Requirement already satisfied: imageio<3.0.0,>=2.9.0 in /usr/local/lib/python3.8/dist-packages (from free-mujoco-py) (2.19.3)\n",
            "Requirement already satisfied: six in /usr/local/lib/python3.8/dist-packages (from fasteners==0.15->free-mujoco-py) (1.16.0)\n",
            "Collecting monotonic>=0.1\n",
            "  Downloading monotonic-1.6-py2.py3-none-any.whl (8.2 kB)\n",
            "Requirement already satisfied: pycparser in /usr/local/lib/python3.8/dist-packages (from cffi<2.0.0,>=1.15.0->free-mujoco-py) (2.21)\n",
            "Requirement already satisfied: pillow>=8.3.2 in /usr/local/lib/python3.8/dist-packages (from imageio<3.0.0,>=2.9.0->free-mujoco-py) (9.1.1)\n",
            "Installing collected packages: monotonic, glfw, numpy, fasteners, free-mujoco-py\n",
            "  Attempting uninstall: glfw\n",
            "    Found existing installation: glfw 2.5.3\n",
            "    Uninstalling glfw-2.5.3:\n",
            "      Successfully uninstalled glfw-2.5.3\n",
            "  Attempting uninstall: numpy\n",
            "    Found existing installation: numpy 1.19.2\n",
            "    Uninstalling numpy-1.19.2:\n",
            "      Successfully uninstalled numpy-1.19.2\n",
            "  Attempting uninstall: fasteners\n",
            "    Found existing installation: fasteners 0.17.3\n",
            "    Uninstalling fasteners-0.17.3:\n",
            "      Successfully uninstalled fasteners-0.17.3\n",
            "\u001b[31mERROR: pip's dependency resolver does not currently take into account all the packages that are installed. This behaviour is the source of the following dependency conflicts.\n",
            "torchtext 0.14.0 requires torch==1.13.0, but you have torch 1.10.1+cu111 which is incompatible.\n",
            "tensorflow 2.9.2 requires protobuf<3.20,>=3.9.2, but you have protobuf 4.21.1 which is incompatible.\n",
            "tensorboard 2.9.1 requires protobuf<3.20,>=3.9.2, but you have protobuf 4.21.1 which is incompatible.\n",
            "numba 0.56.4 requires numpy<1.24,>=1.18, but you have numpy 1.24.1 which is incompatible.\u001b[0m\u001b[31m\n",
            "\u001b[0mSuccessfully installed fasteners-0.15 free-mujoco-py-2.1.6 glfw-1.12.0 monotonic-1.6 numpy-1.24.1\n"
          ]
        }
      ]
    },
    {
      "cell_type": "code",
      "source": [
        "!pip install protobuf==3.20.*"
      ],
      "metadata": {
        "colab": {
          "base_uri": "https://localhost:8080/"
        },
        "id": "4Sz8TZiJ611E",
        "outputId": "0fbd5202-0d4b-4ca6-d6ae-d1117e9278ae"
      },
      "execution_count": 36,
      "outputs": [
        {
          "output_type": "stream",
          "name": "stdout",
          "text": [
            "Looking in indexes: https://pypi.org/simple, https://us-python.pkg.dev/colab-wheels/public/simple/\n",
            "Collecting protobuf==3.20.*\n",
            "  Downloading protobuf-3.20.3-cp38-cp38-manylinux_2_5_x86_64.manylinux1_x86_64.whl (1.0 MB)\n",
            "\u001b[2K     \u001b[90m━━━━━━━━━━━━━━━━━━━━━━━━━━━━━━━━━━━━━━━━\u001b[0m \u001b[32m1.0/1.0 MB\u001b[0m \u001b[31m14.7 MB/s\u001b[0m eta \u001b[36m0:00:00\u001b[0m\n",
            "\u001b[?25hInstalling collected packages: protobuf\n",
            "  Attempting uninstall: protobuf\n",
            "    Found existing installation: protobuf 4.21.1\n",
            "    Uninstalling protobuf-4.21.1:\n",
            "      Successfully uninstalled protobuf-4.21.1\n",
            "\u001b[31mERROR: pip's dependency resolver does not currently take into account all the packages that are installed. This behaviour is the source of the following dependency conflicts.\n",
            "tensorflow 2.9.2 requires protobuf<3.20,>=3.9.2, but you have protobuf 3.20.3 which is incompatible.\n",
            "tensorboard 2.9.1 requires protobuf<3.20,>=3.9.2, but you have protobuf 3.20.3 which is incompatible.\u001b[0m\u001b[31m\n",
            "\u001b[0mSuccessfully installed protobuf-3.20.3\n"
          ]
        }
      ]
    },
    {
      "cell_type": "code",
      "execution_count": 30,
      "metadata": {
        "colab": {
          "base_uri": "https://localhost:8080/"
        },
        "id": "Cpd7Tk7ipqrk",
        "outputId": "8ea7ce97-1a8e-43ea-d436-295bce765575"
      },
      "outputs": [
        {
          "output_type": "stream",
          "name": "stdout",
          "text": [
            "Looking in indexes: https://pypi.org/simple, https://us-python.pkg.dev/colab-wheels/public/simple/\n",
            "Collecting d4rl@ git+https://github.com/Farama-Foundation/D4RL\n",
            "  Cloning https://github.com/Farama-Foundation/D4RL to /tmp/pip-install-6s5xnwsk/d4rl_4e2714f210d441f1ac197d62a04c432a\n",
            "  Running command git clone --filter=blob:none --quiet https://github.com/Farama-Foundation/D4RL /tmp/pip-install-6s5xnwsk/d4rl_4e2714f210d441f1ac197d62a04c432a\n",
            "  Resolved https://github.com/Farama-Foundation/D4RL to commit 5ef61940a5cbee3146d5de6fab06351e41553788\n",
            "  Preparing metadata (setup.py) ... \u001b[?25l\u001b[?25hdone\n",
            "Collecting dm-control@ git+https://github.com/deepmind/dm_control\n",
            "  Cloning https://github.com/deepmind/dm_control to /tmp/pip-install-6s5xnwsk/dm-control_fe0c0efb55024788aebbdc26938cefbd\n",
            "  Running command git clone --filter=blob:none --quiet https://github.com/deepmind/dm_control /tmp/pip-install-6s5xnwsk/dm-control_fe0c0efb55024788aebbdc26938cefbd\n",
            "  Resolved https://github.com/deepmind/dm_control to commit 3c67a42d021b97808fcc075c0c468d78f0c2233f\n",
            "  Installing build dependencies ... \u001b[?25l\u001b[?25hdone\n",
            "  Getting requirements to build wheel ... \u001b[?25l\u001b[?25hdone\n",
            "  Preparing metadata (pyproject.toml) ... \u001b[?25l\u001b[?25hdone\n",
            "Collecting mjrl@ git+https://github.com/aravindr93/mjrl@master#egg=mjrl\n",
            "  Cloning https://github.com/aravindr93/mjrl (to revision master) to /tmp/pip-install-6s5xnwsk/mjrl_2e168d75cc3f44b3b3236d15793de2fb\n",
            "  Running command git clone --filter=blob:none --quiet https://github.com/aravindr93/mjrl /tmp/pip-install-6s5xnwsk/mjrl_2e168d75cc3f44b3b3236d15793de2fb\n",
            "  Resolved https://github.com/aravindr93/mjrl to commit 3871d93763d3b49c4741e6daeaebbc605fe140dc\n",
            "  Preparing metadata (setup.py) ... \u001b[?25l\u001b[?25hdone\n",
            "Requirement already satisfied: absl-py==1.1.0 in /usr/local/lib/python3.8/dist-packages (from -r requirements.txt (line 1)) (1.1.0)\n",
            "Requirement already satisfied: certifi==2022.5.18.1 in /usr/local/lib/python3.8/dist-packages (from -r requirements.txt (line 2)) (2022.5.18.1)\n",
            "Requirement already satisfied: cffi==1.15.0 in /usr/local/lib/python3.8/dist-packages (from -r requirements.txt (line 3)) (1.15.0)\n",
            "Requirement already satisfied: charset-normalizer==2.0.12 in /usr/local/lib/python3.8/dist-packages (from -r requirements.txt (line 4)) (2.0.12)\n",
            "Requirement already satisfied: click==8.1.3 in /usr/local/lib/python3.8/dist-packages (from -r requirements.txt (line 5)) (8.1.3)\n",
            "Requirement already satisfied: cloudpickle==2.1.0 in /usr/local/lib/python3.8/dist-packages (from -r requirements.txt (line 6)) (2.1.0)\n",
            "Requirement already satisfied: cycler==0.11.0 in /usr/local/lib/python3.8/dist-packages (from -r requirements.txt (line 7)) (0.11.0)\n",
            "Requirement already satisfied: Cython==0.29.30 in /usr/local/lib/python3.8/dist-packages (from -r requirements.txt (line 8)) (0.29.30)\n",
            "Requirement already satisfied: dm-env==1.5 in /usr/local/lib/python3.8/dist-packages (from -r requirements.txt (line 11)) (1.5)\n",
            "Requirement already satisfied: dm-tree==0.1.7 in /usr/local/lib/python3.8/dist-packages (from -r requirements.txt (line 12)) (0.1.7)\n",
            "Collecting fasteners==0.17.3\n",
            "  Using cached fasteners-0.17.3-py3-none-any.whl (18 kB)\n",
            "Requirement already satisfied: fonttools==4.33.3 in /usr/local/lib/python3.8/dist-packages (from -r requirements.txt (line 14)) (4.33.3)\n",
            "Collecting glfw==2.5.3\n",
            "  Using cached glfw-2.5.3-py2.py27.py3.py30.py31.py32.py33.py34.py35.py36.py37.py38-none-manylinux2014_x86_64.whl (206 kB)\n",
            "Requirement already satisfied: gym==0.23.1 in /usr/local/lib/python3.8/dist-packages (from -r requirements.txt (line 16)) (0.23.1)\n",
            "Requirement already satisfied: gym-notices==0.0.7 in /usr/local/lib/python3.8/dist-packages (from -r requirements.txt (line 17)) (0.0.7)\n",
            "Requirement already satisfied: h5py==3.7.0 in /usr/local/lib/python3.8/dist-packages (from -r requirements.txt (line 18)) (3.7.0)\n",
            "Requirement already satisfied: idna==3.3 in /usr/local/lib/python3.8/dist-packages (from -r requirements.txt (line 19)) (3.3)\n",
            "Requirement already satisfied: imageio==2.19.3 in /usr/local/lib/python3.8/dist-packages (from -r requirements.txt (line 20)) (2.19.3)\n",
            "Requirement already satisfied: importlib-metadata==4.11.4 in /usr/local/lib/python3.8/dist-packages (from -r requirements.txt (line 21)) (4.11.4)\n",
            "Requirement already satisfied: kiwisolver==1.4.2 in /usr/local/lib/python3.8/dist-packages (from -r requirements.txt (line 22)) (1.4.2)\n",
            "Requirement already satisfied: labmaze==1.0.5 in /usr/local/lib/python3.8/dist-packages (from -r requirements.txt (line 23)) (1.0.5)\n",
            "Requirement already satisfied: lxml==4.9.0 in /usr/local/lib/python3.8/dist-packages (from -r requirements.txt (line 24)) (4.9.0)\n",
            "Requirement already satisfied: matplotlib==3.5.2 in /usr/local/lib/python3.8/dist-packages (from -r requirements.txt (line 25)) (3.5.2)\n",
            "Collecting numpy==1.22.4\n",
            "  Using cached numpy-1.22.4-cp38-cp38-manylinux_2_17_x86_64.manylinux2014_x86_64.whl (16.9 MB)\n",
            "Requirement already satisfied: packaging==21.3 in /usr/local/lib/python3.8/dist-packages (from -r requirements.txt (line 30)) (21.3)\n",
            "Requirement already satisfied: pandas==1.4.2 in /usr/local/lib/python3.8/dist-packages (from -r requirements.txt (line 31)) (1.4.2)\n",
            "Requirement already satisfied: Pillow==9.1.1 in /usr/local/lib/python3.8/dist-packages (from -r requirements.txt (line 32)) (9.1.1)\n",
            "Requirement already satisfied: protobuf==4.21.1 in /usr/local/lib/python3.8/dist-packages (from -r requirements.txt (line 33)) (4.21.1)\n",
            "Requirement already satisfied: pybullet==3.2.5 in /usr/local/lib/python3.8/dist-packages (from -r requirements.txt (line 34)) (3.2.5)\n",
            "Requirement already satisfied: pycparser==2.21 in /usr/local/lib/python3.8/dist-packages (from -r requirements.txt (line 35)) (2.21)\n",
            "Requirement already satisfied: PyOpenGL==3.1.6 in /usr/local/lib/python3.8/dist-packages (from -r requirements.txt (line 36)) (3.1.6)\n",
            "Requirement already satisfied: pyparsing==3.0.0 in /usr/local/lib/python3.8/dist-packages (from -r requirements.txt (line 37)) (3.0.0)\n",
            "Requirement already satisfied: python-dateutil==2.8.2 in /usr/local/lib/python3.8/dist-packages (from -r requirements.txt (line 38)) (2.8.2)\n",
            "Requirement already satisfied: pytz==2022.1 in /usr/local/lib/python3.8/dist-packages (from -r requirements.txt (line 39)) (2022.1)\n",
            "Requirement already satisfied: requests==2.28.0 in /usr/local/lib/python3.8/dist-packages (from -r requirements.txt (line 40)) (2.28.0)\n",
            "Requirement already satisfied: scipy==1.8.1 in /usr/local/lib/python3.8/dist-packages (from -r requirements.txt (line 41)) (1.8.1)\n",
            "Requirement already satisfied: six==1.16.0 in /usr/local/lib/python3.8/dist-packages (from -r requirements.txt (line 42)) (1.16.0)\n",
            "Requirement already satisfied: termcolor==1.1.0 in /usr/local/lib/python3.8/dist-packages (from -r requirements.txt (line 43)) (1.1.0)\n",
            "Requirement already satisfied: torch==1.10.1+cu111 in /usr/local/lib/python3.8/dist-packages (from -r requirements.txt (line 44)) (1.10.1+cu111)\n",
            "Requirement already satisfied: torchaudio==0.10.1+rocm4.1 in /usr/local/lib/python3.8/dist-packages (from -r requirements.txt (line 45)) (0.10.1+rocm4.1)\n",
            "Requirement already satisfied: torchvision==0.11.2+cu111 in /usr/local/lib/python3.8/dist-packages (from -r requirements.txt (line 46)) (0.11.2+cu111)\n",
            "Requirement already satisfied: tqdm==4.64.0 in /usr/local/lib/python3.8/dist-packages (from -r requirements.txt (line 47)) (4.64.0)\n",
            "Requirement already satisfied: typing_extensions==4.2.0 in /usr/local/lib/python3.8/dist-packages (from -r requirements.txt (line 48)) (4.2.0)\n",
            "Requirement already satisfied: urllib3==1.26.9 in /usr/local/lib/python3.8/dist-packages (from -r requirements.txt (line 49)) (1.26.9)\n",
            "Requirement already satisfied: zipp==3.8.0 in /usr/local/lib/python3.8/dist-packages (from -r requirements.txt (line 50)) (3.8.0)\n",
            "Requirement already satisfied: setuptools!=50.0.0 in /usr/local/lib/python3.8/dist-packages (from labmaze==1.0.5->-r requirements.txt (line 23)) (57.4.0)\n",
            "Requirement already satisfied: mujoco_py in /usr/local/lib/python3.8/dist-packages (from d4rl@ git+https://github.com/Farama-Foundation/D4RL->-r requirements.txt (line 9)) (2.1.2.14)\n",
            "Requirement already satisfied: mujoco>=2.3.1.post1 in /usr/local/lib/python3.8/dist-packages (from dm-control@ git+https://github.com/deepmind/dm_control->-r requirements.txt (line 10)) (2.3.1.post1)\n",
            "Installing collected packages: glfw, numpy, fasteners\n",
            "  Attempting uninstall: glfw\n",
            "    Found existing installation: glfw 1.12.0\n",
            "    Uninstalling glfw-1.12.0:\n",
            "      Successfully uninstalled glfw-1.12.0\n",
            "  Attempting uninstall: numpy\n",
            "    Found existing installation: numpy 1.24.1\n",
            "    Uninstalling numpy-1.24.1:\n",
            "      Successfully uninstalled numpy-1.24.1\n",
            "  Attempting uninstall: fasteners\n",
            "    Found existing installation: fasteners 0.15\n",
            "    Uninstalling fasteners-0.15:\n",
            "      Successfully uninstalled fasteners-0.15\n",
            "\u001b[31mERROR: pip's dependency resolver does not currently take into account all the packages that are installed. This behaviour is the source of the following dependency conflicts.\n",
            "torchtext 0.14.0 requires torch==1.13.0, but you have torch 1.10.1+cu111 which is incompatible.\n",
            "tensorflow 2.9.2 requires protobuf<3.20,>=3.9.2, but you have protobuf 4.21.1 which is incompatible.\n",
            "tensorboard 2.9.1 requires protobuf<3.20,>=3.9.2, but you have protobuf 4.21.1 which is incompatible.\n",
            "free-mujoco-py 2.1.6 requires fasteners==0.15, but you have fasteners 0.17.3 which is incompatible.\n",
            "free-mujoco-py 2.1.6 requires glfw<2.0.0,>=1.4.0, but you have glfw 2.5.3 which is incompatible.\u001b[0m\u001b[31m\n",
            "\u001b[0mSuccessfully installed fasteners-0.17.3 glfw-2.5.3 numpy-1.22.4\n"
          ]
        }
      ],
      "source": [
        "!pip install -r requirements.txt"
      ]
    },
    {
      "cell_type": "code",
      "source": [
        "!pip install d4rl"
      ],
      "metadata": {
        "colab": {
          "base_uri": "https://localhost:8080/"
        },
        "id": "SBhLffAY65dY",
        "outputId": "808a42d9-bf55-47dd-d7c1-38bd033b1539"
      },
      "execution_count": 33,
      "outputs": [
        {
          "output_type": "stream",
          "name": "stdout",
          "text": [
            "Looking in indexes: https://pypi.org/simple, https://us-python.pkg.dev/colab-wheels/public/simple/\n",
            "Requirement already satisfied: d4rl in /usr/local/lib/python3.8/dist-packages (1.1)\n",
            "Collecting mjrl@ git+https://github.com/aravindr93/mjrl@master#egg=mjrl\n",
            "  Cloning https://github.com/aravindr93/mjrl (to revision master) to /tmp/pip-install-qibcygqk/mjrl_94eabf43be3f44628cb3e50c35301acb\n",
            "  Running command git clone --filter=blob:none --quiet https://github.com/aravindr93/mjrl /tmp/pip-install-qibcygqk/mjrl_94eabf43be3f44628cb3e50c35301acb\n",
            "  Resolved https://github.com/aravindr93/mjrl to commit 3871d93763d3b49c4741e6daeaebbc605fe140dc\n",
            "  Preparing metadata (setup.py) ... \u001b[?25l\u001b[?25hdone\n",
            "Requirement already satisfied: dm-control>=1.0.3 in /usr/local/lib/python3.8/dist-packages (from d4rl) (1.0.9)\n",
            "Requirement already satisfied: pybullet in /usr/local/lib/python3.8/dist-packages (from d4rl) (3.2.5)\n",
            "Requirement already satisfied: mujoco-py in /usr/local/lib/python3.8/dist-packages (from d4rl) (2.1.2.14)\n",
            "Requirement already satisfied: termcolor in /usr/local/lib/python3.8/dist-packages (from d4rl) (1.1.0)\n",
            "Requirement already satisfied: click in /usr/local/lib/python3.8/dist-packages (from d4rl) (8.1.3)\n",
            "Requirement already satisfied: numpy in /usr/local/lib/python3.8/dist-packages (from d4rl) (1.22.4)\n",
            "Requirement already satisfied: gym<0.24.0 in /usr/local/lib/python3.8/dist-packages (from d4rl) (0.23.1)\n",
            "Requirement already satisfied: h5py in /usr/local/lib/python3.8/dist-packages (from d4rl) (3.7.0)\n",
            "Requirement already satisfied: glfw in /usr/local/lib/python3.8/dist-packages (from dm-control>=1.0.3->d4rl) (2.5.3)\n",
            "Requirement already satisfied: labmaze in /usr/local/lib/python3.8/dist-packages (from dm-control>=1.0.3->d4rl) (1.0.5)\n",
            "Requirement already satisfied: protobuf>=3.19.4 in /usr/local/lib/python3.8/dist-packages (from dm-control>=1.0.3->d4rl) (4.21.1)\n",
            "Requirement already satisfied: pyparsing>=3.0.0 in /usr/local/lib/python3.8/dist-packages (from dm-control>=1.0.3->d4rl) (3.0.0)\n",
            "Requirement already satisfied: requests in /usr/local/lib/python3.8/dist-packages (from dm-control>=1.0.3->d4rl) (2.28.0)\n",
            "Requirement already satisfied: absl-py>=0.7.0 in /usr/local/lib/python3.8/dist-packages (from dm-control>=1.0.3->d4rl) (1.1.0)\n",
            "Requirement already satisfied: scipy in /usr/local/lib/python3.8/dist-packages (from dm-control>=1.0.3->d4rl) (1.8.1)\n",
            "Requirement already satisfied: dm-env in /usr/local/lib/python3.8/dist-packages (from dm-control>=1.0.3->d4rl) (1.5)\n",
            "Requirement already satisfied: dm-tree!=0.1.2 in /usr/local/lib/python3.8/dist-packages (from dm-control>=1.0.3->d4rl) (0.1.7)\n",
            "Requirement already satisfied: setuptools!=50.0.0 in /usr/local/lib/python3.8/dist-packages (from dm-control>=1.0.3->d4rl) (57.4.0)\n",
            "Requirement already satisfied: tqdm in /usr/local/lib/python3.8/dist-packages (from dm-control>=1.0.3->d4rl) (4.64.0)\n",
            "Requirement already satisfied: mujoco>=2.3.1.post1 in /usr/local/lib/python3.8/dist-packages (from dm-control>=1.0.3->d4rl) (2.3.1.post1)\n",
            "Requirement already satisfied: pyopengl>=3.1.4 in /usr/local/lib/python3.8/dist-packages (from dm-control>=1.0.3->d4rl) (3.1.6)\n",
            "Requirement already satisfied: lxml in /usr/local/lib/python3.8/dist-packages (from dm-control>=1.0.3->d4rl) (4.9.0)\n",
            "Requirement already satisfied: cloudpickle>=1.2.0 in /usr/local/lib/python3.8/dist-packages (from gym<0.24.0->d4rl) (2.1.0)\n",
            "Requirement already satisfied: importlib-metadata>=4.10.0 in /usr/local/lib/python3.8/dist-packages (from gym<0.24.0->d4rl) (4.11.4)\n",
            "Requirement already satisfied: gym-notices>=0.0.4 in /usr/local/lib/python3.8/dist-packages (from gym<0.24.0->d4rl) (0.0.7)\n",
            "Requirement already satisfied: imageio>=2.1.2 in /usr/local/lib/python3.8/dist-packages (from mujoco-py->d4rl) (2.19.3)\n",
            "Requirement already satisfied: cffi>=1.10 in /usr/local/lib/python3.8/dist-packages (from mujoco-py->d4rl) (1.15.0)\n",
            "Requirement already satisfied: fasteners~=0.15 in /usr/local/lib/python3.8/dist-packages (from mujoco-py->d4rl) (0.17.3)\n",
            "Requirement already satisfied: Cython>=0.27.2 in /usr/local/lib/python3.8/dist-packages (from mujoco-py->d4rl) (0.29.30)\n",
            "Requirement already satisfied: pycparser in /usr/local/lib/python3.8/dist-packages (from cffi>=1.10->mujoco-py->d4rl) (2.21)\n",
            "Requirement already satisfied: pillow>=8.3.2 in /usr/local/lib/python3.8/dist-packages (from imageio>=2.1.2->mujoco-py->d4rl) (9.1.1)\n",
            "Requirement already satisfied: zipp>=0.5 in /usr/local/lib/python3.8/dist-packages (from importlib-metadata>=4.10.0->gym<0.24.0->d4rl) (3.8.0)\n",
            "Requirement already satisfied: idna<4,>=2.5 in /usr/local/lib/python3.8/dist-packages (from requests->dm-control>=1.0.3->d4rl) (3.3)\n",
            "Requirement already satisfied: urllib3<1.27,>=1.21.1 in /usr/local/lib/python3.8/dist-packages (from requests->dm-control>=1.0.3->d4rl) (1.26.9)\n",
            "Requirement already satisfied: charset-normalizer~=2.0.0 in /usr/local/lib/python3.8/dist-packages (from requests->dm-control>=1.0.3->d4rl) (2.0.12)\n",
            "Requirement already satisfied: certifi>=2017.4.17 in /usr/local/lib/python3.8/dist-packages (from requests->dm-control>=1.0.3->d4rl) (2022.5.18.1)\n"
          ]
        }
      ]
    },
    {
      "cell_type": "code",
      "source": [
        "!python main.py --env_name walker2d-medium-expert-v2 --device 0 --ms online --lr_decay"
      ],
      "metadata": {
        "colab": {
          "base_uri": "https://localhost:8080/"
        },
        "id": "gkAt54CD-86I",
        "outputId": "db8812c0-caef-4b21-a095-b92d52ec64ae"
      },
      "execution_count": 37,
      "outputs": [
        {
          "output_type": "stream",
          "name": "stdout",
          "text": [
            "Warning: Flow failed to import. Set the environment variable D4RL_SUPPRESS_IMPORT_ERROR=1 to suppress this message.\n",
            "No module named 'flow'\n",
            "Warning: CARLA failed to import. Set the environment variable D4RL_SUPPRESS_IMPORT_ERROR=1 to suppress this message.\n",
            "No module named 'carla'\n",
            "pybullet build time: May 20 2022 19:44:17\n",
            "------------------------------------------------------------\n",
            "Saving location: results/walker2d-medium-expert-v2|exp_1|diffusion-ql|T-5|lr_decay|ms-online|0\n",
            "------------------------------------------------------------\n",
            "/usr/local/lib/python3.8/dist-packages/gym/spaces/box.py:84: UserWarning: \u001b[33mWARN: Box bound precision lowered by casting to float32\u001b[0m\n",
            "  logger.warn(f\"Box bound precision lowered by casting to {self.dtype}\")\n",
            "/usr/local/lib/python3.8/dist-packages/gym/core.py:172: DeprecationWarning: \u001b[33mWARN: Function `env.seed(seed)` is marked as deprecated and will be removed in the future. Please use `env.reset(seed=seed) instead.\u001b[0m\n",
            "  deprecation(\n",
            "23-01-16.23:32|Variant:\n",
            "23-01-16.23:32|{\n",
            "  \"exp\": \"exp_1\",\n",
            "  \"device\": \"cuda:0\",\n",
            "  \"env_name\": \"walker2d-medium-expert-v2\",\n",
            "  \"dir\": \"results\",\n",
            "  \"seed\": 0,\n",
            "  \"num_steps_per_epoch\": 1000,\n",
            "  \"batch_size\": 256,\n",
            "  \"lr_decay\": true,\n",
            "  \"early_stop\": false,\n",
            "  \"save_best_model\": false,\n",
            "  \"discount\": 0.99,\n",
            "  \"tau\": 0.005,\n",
            "  \"T\": 5,\n",
            "  \"beta_schedule\": \"vp\",\n",
            "  \"algo\": \"ql\",\n",
            "  \"ms\": \"online\",\n",
            "  \"output_dir\": \"results\",\n",
            "  \"num_epochs\": 2000,\n",
            "  \"eval_freq\": 50,\n",
            "  \"eval_episodes\": 10,\n",
            "  \"lr\": 0.0003,\n",
            "  \"eta\": 1.0,\n",
            "  \"max_q_backup\": false,\n",
            "  \"reward_tune\": \"no\",\n",
            "  \"gn\": 5.0,\n",
            "  \"top_k\": 1,\n",
            "  \"version\": \"Diffusion-Policies-RL\",\n",
            "  \"state_dim\": 17,\n",
            "  \"action_dim\": 6,\n",
            "  \"max_action\": 1.0\n",
            "}\n",
            "------------------------------------------------------------\n",
            "Env: walker2d-medium-expert-v2, state_dim: 17, action_dim: 6\n",
            "------------------------------------------------------------\n",
            "Downloading dataset: http://rail.eecs.berkeley.edu/datasets/offline_rl/gym_mujoco_v2/walker2d_medium_expert-v2.hdf5 to /root/.d4rl/datasets/walker2d_medium_expert-v2.hdf5\n",
            "load datafile: 100% 9/9 [00:04<00:00,  2.03it/s]\n",
            "------------------------------------------------------------\n",
            "Loaded buffer\n",
            "------------------------------------------------------------\n",
            "******************************************************************************************\n",
            "Training Start\n",
            "******************************************************************************************\n",
            "******************************************************************************************\n",
            "Train step: 50000\n",
            "******************************************************************************************\n",
            "23-01-16.23:53|[walker2d-medium-expert-v2|exp_1|diffusion-ql|T-5|lr_decay|ms-online|0] --------------  ----------\n",
            "23-01-16.23:53|[walker2d-medium-expert-v2|exp_1|diffusion-ql|T-5|lr_decay|ms-online|0] Trained Epochs  50\n",
            "23-01-16.23:53|[walker2d-medium-expert-v2|exp_1|diffusion-ql|T-5|lr_decay|ms-online|0] BC Loss          0.0485913\n",
            "23-01-16.23:53|[walker2d-medium-expert-v2|exp_1|diffusion-ql|T-5|lr_decay|ms-online|0] QL Loss         -0.999999\n",
            "23-01-16.23:53|[walker2d-medium-expert-v2|exp_1|diffusion-ql|T-5|lr_decay|ms-online|0] Actor Loss      -0.951408\n",
            "23-01-16.23:53|[walker2d-medium-expert-v2|exp_1|diffusion-ql|T-5|lr_decay|ms-online|0] Critic Loss     22.0134\n",
            "23-01-16.23:53|[walker2d-medium-expert-v2|exp_1|diffusion-ql|T-5|lr_decay|ms-online|0] --------------  ----------\n",
            "/content/Diffusion-Policies-for-Offline-RL/agents/ql_diffusion.py:193: UserWarning: Implicit dimension choice for softmax has been deprecated. Change the call to include dim=X as an argument.\n",
            "  idx = torch.multinomial(F.softmax(q_value), 1)\n",
            "------------------------------------------------------------\n",
            "Evaluation over 10 episodes: 3965.14 0.86\n",
            "------------------------------------------------------------\n",
            "23-01-16.23:53|[walker2d-medium-expert-v2|exp_1|diffusion-ql|T-5|lr_decay|ms-online|0] -------------------------  -----------\n",
            "23-01-16.23:53|[walker2d-medium-expert-v2|exp_1|diffusion-ql|T-5|lr_decay|ms-online|0] Average Episodic Reward    3965.14\n",
            "23-01-16.23:53|[walker2d-medium-expert-v2|exp_1|diffusion-ql|T-5|lr_decay|ms-online|0] Average Episodic N-Reward     0.863383\n",
            "23-01-16.23:53|[walker2d-medium-expert-v2|exp_1|diffusion-ql|T-5|lr_decay|ms-online|0] -------------------------  -----------\n",
            "******************************************************************************************\n",
            "Train step: 100000\n",
            "******************************************************************************************\n",
            "23-01-17.00:13|[walker2d-medium-expert-v2|exp_1|diffusion-ql|T-5|lr_decay|ms-online|0] --------------  ----------\n",
            "23-01-17.00:13|[walker2d-medium-expert-v2|exp_1|diffusion-ql|T-5|lr_decay|ms-online|0] Trained Epochs  100\n",
            "23-01-17.00:13|[walker2d-medium-expert-v2|exp_1|diffusion-ql|T-5|lr_decay|ms-online|0] BC Loss           0.03393\n",
            "23-01-17.00:13|[walker2d-medium-expert-v2|exp_1|diffusion-ql|T-5|lr_decay|ms-online|0] QL Loss          -0.999997\n",
            "23-01-17.00:13|[walker2d-medium-expert-v2|exp_1|diffusion-ql|T-5|lr_decay|ms-online|0] Actor Loss       -0.966067\n",
            "23-01-17.00:13|[walker2d-medium-expert-v2|exp_1|diffusion-ql|T-5|lr_decay|ms-online|0] Critic Loss      31.8855\n",
            "23-01-17.00:13|[walker2d-medium-expert-v2|exp_1|diffusion-ql|T-5|lr_decay|ms-online|0] --------------  ----------\n",
            "------------------------------------------------------------\n",
            "Evaluation over 10 episodes: 5072.94 1.10\n",
            "------------------------------------------------------------\n",
            "23-01-17.00:14|[walker2d-medium-expert-v2|exp_1|diffusion-ql|T-5|lr_decay|ms-online|0] -------------------------  ---------\n",
            "23-01-17.00:14|[walker2d-medium-expert-v2|exp_1|diffusion-ql|T-5|lr_decay|ms-online|0] Average Episodic Reward    5072.94\n",
            "23-01-17.00:14|[walker2d-medium-expert-v2|exp_1|diffusion-ql|T-5|lr_decay|ms-online|0] Average Episodic N-Reward     1.1047\n",
            "23-01-17.00:14|[walker2d-medium-expert-v2|exp_1|diffusion-ql|T-5|lr_decay|ms-online|0] -------------------------  ---------\n",
            "Traceback (most recent call last):\n",
            "  File \"main.py\", line 258, in <module>\n",
            "    train_agent(env,\n",
            "  File \"main.py\", line 85, in train_agent\n",
            "    loss_metric = agent.train(data_sampler,\n",
            "  File \"/content/Diffusion-Policies-for-Offline-RL/agents/ql_diffusion.py\", line 141, in train\n",
            "    new_action = self.actor(state)\n",
            "  File \"/usr/local/lib/python3.8/dist-packages/torch/nn/modules/module.py\", line 1102, in _call_impl\n",
            "    return forward_call(*input, **kwargs)\n",
            "  File \"/content/Diffusion-Policies-for-Offline-RL/agents/diffusion.py\", line 182, in forward\n",
            "    return self.sample(state, *args, **kwargs)\n",
            "  File \"/content/Diffusion-Policies-for-Offline-RL/agents/diffusion.py\", line 144, in sample\n",
            "    action = self.p_sample_loop(state, shape, *args, **kwargs)\n",
            "  File \"/content/Diffusion-Policies-for-Offline-RL/agents/diffusion.py\", line 127, in p_sample_loop\n",
            "    x = self.p_sample(x, timesteps, state)\n",
            "  File \"/content/Diffusion-Policies-for-Offline-RL/agents/diffusion.py\", line 109, in p_sample\n",
            "    model_mean, _, model_log_variance = self.p_mean_variance(x=x, t=t, s=s)\n",
            "  File \"/content/Diffusion-Policies-for-Offline-RL/agents/diffusion.py\", line 96, in p_mean_variance\n",
            "    x_recon = self.predict_start_from_noise(x, t=t, noise=self.model(x, t, s))\n",
            "  File \"/usr/local/lib/python3.8/dist-packages/torch/nn/modules/module.py\", line 1102, in _call_impl\n",
            "    return forward_call(*input, **kwargs)\n",
            "  File \"/content/Diffusion-Policies-for-Offline-RL/agents/model.py\", line 44, in forward\n",
            "    t = self.time_mlp(time)\n",
            "  File \"/usr/local/lib/python3.8/dist-packages/torch/nn/modules/module.py\", line 1102, in _call_impl\n",
            "  File \"/usr/local/lib/python3.8/dist-packages/torch/nn/modules/container.py\", line 141, in forward\n",
            "    input = module(input)\n",
            "  File \"/usr/local/lib/python3.8/dist-packages/torch/nn/modules/module.py\", line 1102, in _call_impl\n",
            "    return forward_call(*input, **kwargs)\n",
            "  File \"/usr/local/lib/python3.8/dist-packages/torch/nn/modules/linear.py\", line 103, in forward\n",
            "    return F.linear(input, self.weight, self.bias)\n",
            "  File \"/usr/local/lib/python3.8/dist-packages/torch/nn/functional.py\", line 1848, in linear\n",
            "    return torch._C._nn.linear(input, weight, bias)\n",
            "KeyboardInterrupt\n",
            "^C\n"
          ]
        }
      ]
    },
    {
      "cell_type": "code",
      "source": [
        "#roughly 20mins for training 50 epochs + 1.5 mins for rl evaluation over 10 episodes\n",
        "\n",
        "#"
      ],
      "metadata": {
        "id": "-KyLmp8QAzg4"
      },
      "execution_count": null,
      "outputs": []
    }
  ],
  "metadata": {
    "accelerator": "GPU",
    "colab": {
      "provenance": [],
      "authorship_tag": "ABX9TyPcxFWBlW791YY0zc9UTFEj",
      "include_colab_link": true
    },
    "gpuClass": "standard",
    "kernelspec": {
      "display_name": "Python 3",
      "name": "python3"
    },
    "language_info": {
      "name": "python"
    }
  },
  "nbformat": 4,
  "nbformat_minor": 0
}