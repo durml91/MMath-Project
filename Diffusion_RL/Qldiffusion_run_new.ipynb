{
  "nbformat": 4,
  "nbformat_minor": 0,
  "metadata": {
    "colab": {
      "provenance": [],
      "authorship_tag": "ABX9TyPTJkzPjRpYkNjJEq/39jIK",
      "include_colab_link": true
    },
    "kernelspec": {
      "name": "python3",
      "display_name": "Python 3"
    },
    "language_info": {
      "name": "python"
    }
  },
  "cells": [
    {
      "cell_type": "markdown",
      "metadata": {
        "id": "view-in-github",
        "colab_type": "text"
      },
      "source": [
        "<a href=\"https://colab.research.google.com/github/durml91/Public-share/blob/main/Qldiffusion_run_new.ipynb\" target=\"_parent\"><img src=\"https://colab.research.google.com/assets/colab-badge.svg\" alt=\"Open In Colab\"/></a>"
      ]
    },
    {
      "cell_type": "code",
      "execution_count": null,
      "metadata": {
        "id": "4U_SUs0LdtVl"
      },
      "outputs": [],
      "source": [
        "!python --version"
      ]
    },
    {
      "cell_type": "code",
      "source": [
        "!nvcc --version"
      ],
      "metadata": {
        "id": "ZGVR0Ovpd0NE"
      },
      "execution_count": null,
      "outputs": []
    },
    {
      "cell_type": "code",
      "source": [
        "!pip install git+https://github.com/andreinechaev/nvcc4jupyter.git"
      ],
      "metadata": {
        "id": "YwkWs30sd2hT"
      },
      "execution_count": null,
      "outputs": []
    },
    {
      "cell_type": "code",
      "source": [
        "%load_ext nvcc_plugin"
      ],
      "metadata": {
        "id": "AXVW75Icd4Mg"
      },
      "execution_count": null,
      "outputs": []
    },
    {
      "cell_type": "code",
      "source": [
        "!pip install torch==1.10.1+cu111 torchaudio==0.10.1+rocm4.1 torchvision==0.11.2+cu111 -f https://download.pytorch.org/whl/torch_stable.html"
      ],
      "metadata": {
        "id": "ivlALn89d5xj"
      },
      "execution_count": null,
      "outputs": []
    },
    {
      "cell_type": "code",
      "source": [
        "import torch"
      ],
      "metadata": {
        "id": "qI26lDqzd7Kw"
      },
      "execution_count": null,
      "outputs": []
    },
    {
      "cell_type": "code",
      "source": [
        "print(torch.__version__)"
      ],
      "metadata": {
        "id": "3-auDaesd8lr"
      },
      "execution_count": null,
      "outputs": []
    },
    {
      "cell_type": "code",
      "source": [
        "!git clone https://github.com/Zhendong-Wang/Diffusion-Policies-for-Offline-RL.git\n",
        "%cd Diffusion-Policies-for-Offline-RL"
      ],
      "metadata": {
        "id": "Nj42hOoWd-jF"
      },
      "execution_count": null,
      "outputs": []
    },
    {
      "cell_type": "code",
      "source": [
        "# !pip install mujoco"
      ],
      "metadata": {
        "id": "13WqXawoeCHM"
      },
      "execution_count": null,
      "outputs": []
    },
    {
      "cell_type": "code",
      "source": [
        "# from google.colab import files\n",
        "\n",
        "# import distutils.util\n",
        "# import subprocess\n",
        "# if subprocess.run('nvidia-smi').returncode:\n",
        "#   raise RuntimeError(\n",
        "#       'Cannot communicate with GPU. '\n",
        "#       'Make sure you are using a GPU Colab runtime. '\n",
        "#       'Go to the Runtime menu and select Choose runtime type.')\n",
        "# # Configure MuJoCo to use the EGL rendering backend (requires GPU)\n",
        "# print('Setting environment variable to use GPU rendering:')\n",
        "# %env MUJOCO_GL=egl\n",
        "\n",
        "# try:\n",
        "#   print('Checking that the installation succeeded:')\n",
        "#   import mujoco\n",
        "#   mujoco.MjModel.from_xml_string('<mujoco/>')\n",
        "# except Exception as e:\n",
        "#   raise e from RuntimeError(\n",
        "#       'Something went wrong during installation. Check the shell output above '\n",
        "#       'for more information.\\n'\n",
        "#       'If using a hosted Colab runtime, make sure you enable GPU acceleration '\n",
        "#       'by going to the Runtime menu and selecting \"Choose runtime type\".')\n",
        "\n",
        "# print('Installation successful.')"
      ],
      "metadata": {
        "id": "FbfBi2GteEc8"
      },
      "execution_count": null,
      "outputs": []
    },
    {
      "cell_type": "code",
      "source": [
        "!apt-get install -y \\\n",
        "    libgl1-mesa-dev \\\n",
        "    libgl1-mesa-glx \\\n",
        "    libglew-dev \\\n",
        "    libosmesa6-dev \\\n",
        "    software-properties-common\n",
        "\n",
        "!apt-get install -y patchelf\n",
        "!pip install free-mujoco-py"
      ],
      "metadata": {
        "id": "Bii-Q0VWeKNs"
      },
      "execution_count": null,
      "outputs": []
    },
    {
      "cell_type": "code",
      "source": [
        "!pip install protobuf==3.19.6"
      ],
      "metadata": {
        "id": "tetckuCYeMS_"
      },
      "execution_count": null,
      "outputs": []
    },
    {
      "cell_type": "code",
      "source": [
        "!pip install -r requirements.txt"
      ],
      "metadata": {
        "id": "C1mrzJ4DeN7I"
      },
      "execution_count": null,
      "outputs": []
    },
    {
      "cell_type": "code",
      "source": [
        "!pip install d4rl"
      ],
      "metadata": {
        "id": "M-Nk4h9SeQwn"
      },
      "execution_count": null,
      "outputs": []
    },
    {
      "cell_type": "code",
      "source": [
        "!python main.py --env_name \"\" --device 0 --ms Offline --lr_decay"
      ],
      "metadata": {
        "id": "KQSFugEaeTu3"
      },
      "execution_count": null,
      "outputs": []
    }
  ]
}