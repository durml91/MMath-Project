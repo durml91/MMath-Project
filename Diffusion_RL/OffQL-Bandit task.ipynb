{
  "nbformat": 4,
  "nbformat_minor": 0,
  "metadata": {
    "colab": {
      "provenance": [],
      "authorship_tag": "ABX9TyMPTi+RZRoKzQmpV8HlYlq8",
      "include_colab_link": true
    },
    "kernelspec": {
      "name": "python3",
      "display_name": "Python 3"
    },
    "language_info": {
      "name": "python"
    },
    "gpuClass": "standard"
  },
  "cells": [
    {
      "cell_type": "markdown",
      "metadata": {
        "id": "view-in-github",
        "colab_type": "text"
      },
      "source": [
        "<a href=\"https://colab.research.google.com/github/durml91/MMath-Project/blob/duo-branch/Diffusion_RL/OffQL-Bandit%20task.ipynb\" target=\"_parent\"><img src=\"https://colab.research.google.com/assets/colab-badge.svg\" alt=\"Open In Colab\"/></a>"
      ]
    },
    {
      "cell_type": "markdown",
      "source": [
        "Main"
      ],
      "metadata": {
        "id": "K13t2W3hxaxA"
      }
    },
    {
      "cell_type": "code",
      "source": [
        "import torch"
      ],
      "metadata": {
        "id": "b1OKAjzqU3bz"
      },
      "execution_count": 1,
      "outputs": []
    },
    {
      "cell_type": "code",
      "source": [
        "device = torch.device(\"cuda\" if torch.cuda.is_available() else \"cpu\")"
      ],
      "metadata": {
        "id": "RcKV10i3bOxw"
      },
      "execution_count": 2,
      "outputs": []
    },
    {
      "cell_type": "code",
      "source": [
        "device"
      ],
      "metadata": {
        "id": "l1_HdRLibYGE",
        "outputId": "d8ad599a-c0f5-49a8-f281-73b938a919df",
        "colab": {
          "base_uri": "https://localhost:8080/"
        }
      },
      "execution_count": 3,
      "outputs": [
        {
          "output_type": "execute_result",
          "data": {
            "text/plain": [
              "device(type='cpu')"
            ]
          },
          "metadata": {},
          "execution_count": 3
        }
      ]
    },
    {
      "cell_type": "markdown",
      "source": [
        "actions"
      ],
      "metadata": {
        "id": "75HCvAWr_ucV"
      }
    },
    {
      "cell_type": "code",
      "source": [
        "#data generation\n",
        "\n",
        "a = torch.distributions.multivariate_normal.MultivariateNormal(torch.tensor([0.0, 1.0]), covariance_matrix=torch.tensor([[0.005, 0],[0, 0.005]]) )\n",
        "b = torch.distributions.multivariate_normal.MultivariateNormal(torch.tensor([1.0, 0.0]), covariance_matrix=torch.tensor([[0.005, 0],[0, 0.005]]) )\n",
        "c = torch.distributions.multivariate_normal.MultivariateNormal(torch.tensor([-1.0, 0.0]), covariance_matrix=torch.tensor([[0.005, 0],[0, 0.005]]) )\n",
        "d = torch.distributions.multivariate_normal.MultivariateNormal(torch.tensor([0, -1.0]), covariance_matrix=torch.tensor([[0.005, 0],[0, 0.005]]) )\n",
        "\n",
        "\n",
        "n1 = a.sample((2500,))\n",
        "n2 = b.sample((2500,))\n",
        "n3 = c.sample((2500,))\n",
        "n4 = d.sample((2500,))"
      ],
      "metadata": {
        "id": "-iheO6f73O_S"
      },
      "execution_count": 4,
      "outputs": []
    },
    {
      "cell_type": "code",
      "source": [
        "mvn = torch.concat([n1,n2,n3,n4], dim=0)"
      ],
      "metadata": {
        "id": "5y1f4Dw87Q9O"
      },
      "execution_count": 5,
      "outputs": []
    },
    {
      "cell_type": "code",
      "source": [
        "mvn.shape"
      ],
      "metadata": {
        "colab": {
          "base_uri": "https://localhost:8080/"
        },
        "id": "UJP_XbW6-WZa",
        "outputId": "81acdba8-d819-4ba4-f9d9-09960620dbb5"
      },
      "execution_count": 8,
      "outputs": [
        {
          "output_type": "execute_result",
          "data": {
            "text/plain": [
              "torch.Size([10000, 2])"
            ]
          },
          "metadata": {},
          "execution_count": 8
        }
      ]
    },
    {
      "cell_type": "code",
      "source": [
        "x, y = mvn.split(1, dim = 1)"
      ],
      "metadata": {
        "id": "FK7kLFpw-tkS"
      },
      "execution_count": 6,
      "outputs": []
    },
    {
      "cell_type": "code",
      "source": [
        "import matplotlib.pyplot as plt\n",
        "\n",
        "plt.scatter(x,y)\n",
        "plt.show()"
      ],
      "metadata": {
        "colab": {
          "base_uri": "https://localhost:8080/",
          "height": 265
        },
        "id": "WisDVS8b6oC0",
        "outputId": "aa185bdd-91f7-443f-ce3a-fff86b0695c3"
      },
      "execution_count": 7,
      "outputs": [
        {
          "output_type": "display_data",
          "data": {
            "text/plain": [
              "<Figure size 432x288 with 1 Axes>"
            ],
            "image/png": "[encoded data removed]"
          },
          "metadata": {
            "needs_background": "light"
          }
        }
      ]
    },
    {
      "cell_type": "code",
      "source": [
        "#reward\n",
        "\n",
        "std = torch.ones(2500)*0.5\n",
        "mean1 = torch.ones(2500)*3.0\n",
        "mean2 = torch.ones(2500)*1.5\n",
        "mean3 = torch.ones(2500)*0.0\n",
        "mean4 = torch.ones(2500)*5.0\n",
        "\n",
        "ra = torch.normal(mean1, std)\n",
        "rb = torch.normal(mean2, std)\n",
        "rc = torch.normal(mean3, std)\n",
        "rd = torch.normal(mean4, std)\n",
        "\n",
        "rew = torch.concat([ra,rb,rc,rd])"
      ],
      "metadata": {
        "id": "Lh31A1q6_549"
      },
      "execution_count": 8,
      "outputs": []
    },
    {
      "cell_type": "code",
      "source": [
        "points = plt.scatter(x, y, c=rew,cmap=\"jet\", lw=0)\n",
        "plt.colorbar(points)"
      ],
      "metadata": {
        "id": "ML-52ihNCpMX",
        "outputId": "de18dd94-c079-4d18-8b30-4024248d670c",
        "colab": {
          "base_uri": "https://localhost:8080/",
          "height": 282
        }
      },
      "execution_count": 9,
      "outputs": [
        {
          "output_type": "execute_result",
          "data": {
            "text/plain": [
              "<matplotlib.colorbar.Colorbar at 0x7f9992bf4160>"
            ]
          },
          "metadata": {},
          "execution_count": 9
        },
        {
          "output_type": "display_data",
          "data": {
            "text/plain": [
              "<Figure size 432x288 with 2 Axes>"
            ],
            "image/png": "[encoded data removed]"
          },
          "metadata": {
            "needs_background": "light"
          }
        }
      ]
    },
    {
      "cell_type": "code",
      "source": [
        "state = torch.ones((10_000, 1))"
      ],
      "metadata": {
        "id": "BjBrdpjrWCe3"
      },
      "execution_count": 10,
      "outputs": []
    },
    {
      "cell_type": "code",
      "source": [
        "next_state = torch.ones((10_000,1))"
      ],
      "metadata": {
        "id": "ofPOkFKhWQso"
      },
      "execution_count": 11,
      "outputs": []
    },
    {
      "cell_type": "code",
      "source": [
        "reward = torch.unsqueeze(rew, dim=1)"
      ],
      "metadata": {
        "id": "oS1LE69fc5Lx"
      },
      "execution_count": 12,
      "outputs": []
    },
    {
      "cell_type": "code",
      "source": [
        "comb = torch.cat([state, x,y, next_state, reward], dim=1)"
      ],
      "metadata": {
        "id": "t3NdgwFdWXnL"
      },
      "execution_count": 13,
      "outputs": []
    },
    {
      "cell_type": "markdown",
      "source": [
        "Helpers"
      ],
      "metadata": {
        "id": "xvqI6Xm9XnBH"
      }
    },
    {
      "cell_type": "code",
      "source": [
        "import time\n",
        "import math\n",
        "import torch\n",
        "import numpy as np\n",
        "\n",
        "\n",
        "def print_banner(s, separator=\"-\", num_star=60):\n",
        "\tprint(separator * num_star, flush=True)\n",
        "\tprint(s, flush=True)\n",
        "\tprint(separator * num_star, flush=True)\n",
        "\n",
        "\n",
        "class Progress:\n",
        "\n",
        "\tdef __init__(self, total, name='Progress', ncol=3, max_length=20, indent=0, line_width=100, speed_update_freq=100):\n",
        "\t\tself.total = total\n",
        "\t\tself.name = name\n",
        "\t\tself.ncol = ncol\n",
        "\t\tself.max_length = max_length\n",
        "\t\tself.indent = indent\n",
        "\t\tself.line_width = line_width\n",
        "\t\tself._speed_update_freq = speed_update_freq\n",
        "\n",
        "\t\tself._step = 0\n",
        "\t\tself._prev_line = '\\033[F'\n",
        "\t\tself._clear_line = ' ' * self.line_width\n",
        "\n",
        "\t\tself._pbar_size = self.ncol * self.max_length\n",
        "\t\tself._complete_pbar = '#' * self._pbar_size\n",
        "\t\tself._incomplete_pbar = ' ' * self._pbar_size\n",
        "\n",
        "\t\tself.lines = ['']\n",
        "\t\tself.fraction = '{} / {}'.format(0, self.total)\n",
        "\n",
        "\t\tself.resume()\n",
        "\n",
        "\tdef update(self, description, n=1):\n",
        "\t\tself._step += n\n",
        "\t\tif self._step % self._speed_update_freq == 0:\n",
        "\t\t\tself._time0 = time.time()\n",
        "\t\t\tself._step0 = self._step\n",
        "\t\tself.set_description(description)\n",
        "\n",
        "\tdef resume(self):\n",
        "\t\tself._skip_lines = 1\n",
        "\t\tprint('\\n', end='')\n",
        "\t\tself._time0 = time.time()\n",
        "\t\tself._step0 = self._step\n",
        "\n",
        "\tdef pause(self):\n",
        "\t\tself._clear()\n",
        "\t\tself._skip_lines = 1\n",
        "\n",
        "\tdef set_description(self, params=[]):\n",
        "\n",
        "\t\tif type(params) == dict:\n",
        "\t\t\tparams = sorted([\n",
        "\t\t\t\t(key, val)\n",
        "\t\t\t\tfor key, val in params.items()\n",
        "\t\t\t])\n",
        "\n",
        "\t\t############\n",
        "\t\t# Position #\n",
        "\t\t############\n",
        "\t\tself._clear()\n",
        "\n",
        "\t\t###########\n",
        "\t\t# Percent #\n",
        "\t\t###########\n",
        "\t\tpercent, fraction = self._format_percent(self._step, self.total)\n",
        "\t\tself.fraction = fraction\n",
        "\n",
        "\t\t#########\n",
        "\t\t# Speed #\n",
        "\t\t#########\n",
        "\t\tspeed = self._format_speed(self._step)\n",
        "\n",
        "\t\t##########\n",
        "\t\t# Params #\n",
        "\t\t##########\n",
        "\t\tnum_params = len(params)\n",
        "\t\tnrow = math.ceil(num_params / self.ncol)\n",
        "\t\tparams_split = self._chunk(params, self.ncol)\n",
        "\t\tparams_string, lines = self._format(params_split)\n",
        "\t\tself.lines = lines\n",
        "\n",
        "\t\tdescription = '{} | {}{}'.format(percent, speed, params_string)\n",
        "\t\tprint(description)\n",
        "\t\tself._skip_lines = nrow + 1\n",
        "\n",
        "\tdef append_description(self, descr):\n",
        "\t\tself.lines.append(descr)\n",
        "\n",
        "\tdef _clear(self):\n",
        "\t\tposition = self._prev_line * self._skip_lines\n",
        "\t\tempty = '\\n'.join([self._clear_line for _ in range(self._skip_lines)])\n",
        "\t\tprint(position, end='')\n",
        "\t\tprint(empty)\n",
        "\t\tprint(position, end='')\n",
        "\n",
        "\tdef _format_percent(self, n, total):\n",
        "\t\tif total:\n",
        "\t\t\tpercent = n / float(total)\n",
        "\n",
        "\t\t\tcomplete_entries = int(percent * self._pbar_size)\n",
        "\t\t\tincomplete_entries = self._pbar_size - complete_entries\n",
        "\n",
        "\t\t\tpbar = self._complete_pbar[:complete_entries] + self._incomplete_pbar[:incomplete_entries]\n",
        "\t\t\tfraction = '{} / {}'.format(n, total)\n",
        "\t\t\tstring = '{} [{}] {:3d}%'.format(fraction, pbar, int(percent * 100))\n",
        "\t\telse:\n",
        "\t\t\tfraction = '{}'.format(n)\n",
        "\t\t\tstring = '{} iterations'.format(n)\n",
        "\t\treturn string, fraction\n",
        "\n",
        "\tdef _format_speed(self, n):\n",
        "\t\tnum_steps = n - self._step0\n",
        "\t\tt = time.time() - self._time0\n",
        "\t\tspeed = num_steps / t\n",
        "\t\tstring = '{:.1f} Hz'.format(speed)\n",
        "\t\tif num_steps > 0:\n",
        "\t\t\tself._speed = string\n",
        "\t\treturn string\n",
        "\n",
        "\tdef _chunk(self, l, n):\n",
        "\t\treturn [l[i:i + n] for i in range(0, len(l), n)]\n",
        "\n",
        "\tdef _format(self, chunks):\n",
        "\t\tlines = [self._format_chunk(chunk) for chunk in chunks]\n",
        "\t\tlines.insert(0, '')\n",
        "\t\tpadding = '\\n' + ' ' * self.indent\n",
        "\t\tstring = padding.join(lines)\n",
        "\t\treturn string, lines\n",
        "\n",
        "\tdef _format_chunk(self, chunk):\n",
        "\t\tline = ' | '.join([self._format_param(param) for param in chunk])\n",
        "\t\treturn line\n",
        "\n",
        "\tdef _format_param(self, param):\n",
        "\t\tk, v = param\n",
        "\t\treturn '{} : {}'.format(k, v)[:self.max_length]\n",
        "\n",
        "\tdef stamp(self):\n",
        "\t\tif self.lines != ['']:\n",
        "\t\t\tparams = ' | '.join(self.lines)\n",
        "\t\t\tstring = '[ {} ] {}{} | {}'.format(self.name, self.fraction, params, self._speed)\n",
        "\t\t\tself._clear()\n",
        "\t\t\tprint(string, end='\\n')\n",
        "\t\t\tself._skip_lines = 1\n",
        "\t\telse:\n",
        "\t\t\tself._clear()\n",
        "\t\t\tself._skip_lines = 0\n",
        "\n",
        "\tdef close(self):\n",
        "\t\tself.pause()\n",
        "\n",
        "\n",
        "class Silent:\n",
        "\n",
        "\tdef __init__(self, *args, **kwargs):\n",
        "\t\tpass\n",
        "\n",
        "\tdef __getattr__(self, attr):\n",
        "\t\treturn lambda *args: None\n",
        "\n",
        "\n",
        "class EarlyStopping(object):\n",
        "\tdef __init__(self, tolerance=5, min_delta=0):\n",
        "\t\tself.tolerance = tolerance\n",
        "\t\tself.min_delta = min_delta\n",
        "\t\tself.counter = 0\n",
        "\t\tself.early_stop = False\n",
        "\n",
        "\tdef __call__(self, train_loss, validation_loss):\n",
        "\t\tif (validation_loss - train_loss) > self.min_delta:\n",
        "\t\t\tself.counter += 1\n",
        "\t\t\tif self.counter >= self.tolerance:\n",
        "\t\t\t\treturn True\n",
        "\t\telse:\n",
        "\t\t\tself.counter = 0\n",
        "\t\treturn False"
      ],
      "metadata": {
        "id": "sTp5RR7JXmUQ"
      },
      "execution_count": 14,
      "outputs": []
    },
    {
      "cell_type": "code",
      "source": [
        "import math\n",
        "import time\n",
        "import numpy as np\n",
        "import torch\n",
        "import torch.nn as nn\n",
        "import torch.nn.functional as F\n",
        "\n",
        "class SinusoidalPosEmb(nn.Module):\n",
        "    def __init__(self, dim):\n",
        "        super().__init__()\n",
        "        self.dim = dim\n",
        "\n",
        "    def forward(self, x):\n",
        "        device = x.device\n",
        "        half_dim = self.dim // 2\n",
        "        emb = math.log(10000) / (half_dim - 1)\n",
        "        emb = torch.exp(torch.arange(half_dim, device=device) * -emb)\n",
        "        emb = x[:, None] * emb[None, :]\n",
        "        emb = torch.cat((emb.sin(), emb.cos()), dim=-1)\n",
        "        return emb\n",
        "\n",
        "#-----------------------------------------------------------------------------#\n",
        "#---------------------------------- sampling ---------------------------------#\n",
        "#-----------------------------------------------------------------------------#\n",
        "\n",
        "\n",
        "def extract(a, t, x_shape):\n",
        "    b, *_ = t.shape\n",
        "    out = a.gather(-1, t)\n",
        "    return out.reshape(b, *((1,) * (len(x_shape) - 1)))\n",
        "\n",
        "\n",
        "\n",
        "\n",
        "def linear_beta_schedule(timesteps, beta_start=1e-4, beta_end=2e-2, dtype=torch.float32):\n",
        "    betas = np.linspace(\n",
        "        beta_start, beta_end, timesteps\n",
        "    )\n",
        "    return torch.tensor(betas, dtype=dtype)\n",
        "\n",
        "\n",
        "#-----------------------------------------------------------------------------#\n",
        "#---------------------------------- losses -----------------------------------#\n",
        "#-----------------------------------------------------------------------------#\n",
        "\n",
        "class WeightedLoss(nn.Module):\n",
        "\n",
        "    def __init__(self):\n",
        "        super().__init__()\n",
        "\n",
        "    def forward(self, pred, targ, weights=1.0):\n",
        "        '''\n",
        "            pred, targ : tensor [ batch_size x action_dim ]\n",
        "        '''\n",
        "        loss = self._loss(pred, targ)\n",
        "        weighted_loss = (loss * weights).mean()\n",
        "        return weighted_loss\n",
        "\n",
        "class WeightedL1(WeightedLoss):\n",
        "\n",
        "    def _loss(self, pred, targ):\n",
        "        return torch.abs(pred - targ)\n",
        "\n",
        "class WeightedL2(WeightedLoss):\n",
        "\n",
        "    def _loss(self, pred, targ):\n",
        "        return F.mse_loss(pred, targ, reduction='none')\n",
        "\n",
        "\n",
        "Losses = {\n",
        "    'l1': WeightedL1,\n",
        "    'l2': WeightedL2,\n",
        "}\n",
        "\n",
        "\n",
        "class EMA():\n",
        "    '''\n",
        "        empirical moving average\n",
        "    '''\n",
        "    def __init__(self, beta):\n",
        "        super().__init__()\n",
        "        self.beta = beta\n",
        "\n",
        "    def update_model_average(self, ma_model, current_model):\n",
        "        for current_params, ma_params in zip(current_model.parameters(), ma_model.parameters()):\n",
        "            old_weight, up_weight = ma_params.data, current_params.data\n",
        "            ma_params.data = self.update_average(old_weight, up_weight)\n",
        "\n",
        "    def update_average(self, old, new):\n",
        "        if old is None:\n",
        "            return new\n",
        "        return old * self.beta + (1 - self.beta) * new"
      ],
      "metadata": {
        "id": "FWag_-F4X4ZD"
      },
      "execution_count": 15,
      "outputs": []
    },
    {
      "cell_type": "markdown",
      "source": [
        "Diffusion"
      ],
      "metadata": {
        "id": "NDzETd8zWyQS"
      }
    },
    {
      "cell_type": "code",
      "source": [
        "import numpy as np\n",
        "import torch\n",
        "import torch.nn as nn\n",
        "import torch.nn.functional as F\n",
        "\n",
        "\n",
        "class MLP(nn.Module):\n",
        "    \"\"\"\n",
        "    MLP Model\n",
        "    \"\"\"\n",
        "    def __init__(self,\n",
        "                 state_dim,\n",
        "                 action_dim,\n",
        "                 device,\n",
        "                 t_dim=16):\n",
        "\n",
        "        super(MLP, self).__init__()\n",
        "        self.device = device\n",
        "\n",
        "        self.time_mlp = nn.Sequential(\n",
        "            SinusoidalPosEmb(t_dim),\n",
        "            nn.Linear(t_dim, t_dim * 2),\n",
        "            nn.Mish(),\n",
        "            nn.Linear(t_dim * 2, t_dim),\n",
        "        )\n",
        "\n",
        "        input_dim = state_dim + action_dim + t_dim\n",
        "        self.mid_layer = nn.Sequential(nn.Linear(input_dim, 256),\n",
        "                                       nn.Mish(),\n",
        "                                       nn.Linear(256, 256),\n",
        "                                       nn.Mish(),\n",
        "                                       nn.Linear(256, 256),\n",
        "                                       nn.Mish())\n",
        "\n",
        "        self.final_layer = nn.Linear(256, action_dim)\n",
        "\n",
        "    def forward(self, x, time, state):\n",
        "\n",
        "        t = self.time_mlp(time)\n",
        "        x = torch.cat([x, t, state], dim=1)\n",
        "        x = self.mid_layer(x)\n",
        "\n",
        "        return self.final_layer(x)"
      ],
      "metadata": {
        "id": "lZpWlyqaYLTs"
      },
      "execution_count": 16,
      "outputs": []
    },
    {
      "cell_type": "code",
      "source": [
        "import copy\n",
        "import numpy as np\n",
        "import torch\n",
        "import torch.nn as nn\n",
        "import torch.nn.functional as F\n",
        "\n",
        "\n",
        "\n",
        "class Diffusion(nn.Module):\n",
        "    def __init__(self, state_dim, action_dim, model, max_action,\n",
        "                n_timesteps=100, loss_type='l2', clip_denoised=True,\n",
        "                 predict_epsilon=True):\n",
        "        super(Diffusion, self).__init__()\n",
        "\n",
        "        self.state_dim = state_dim\n",
        "        self.action_dim = action_dim\n",
        "        self.max_action = max_action\n",
        "        self.model = model\n",
        "\n",
        "\n",
        "        betas = linear_beta_schedule(n_timesteps)\n",
        "\n",
        "        alphas = 1. - betas\n",
        "        alphas_cumprod = torch.cumprod(alphas, axis=0)\n",
        "        alphas_cumprod_prev = torch.cat([torch.ones(1), alphas_cumprod[:-1]])\n",
        "\n",
        "        self.n_timesteps = int(n_timesteps)\n",
        "        self.clip_denoised = clip_denoised\n",
        "        self.predict_epsilon = predict_epsilon\n",
        "\n",
        "        self.register_buffer('betas', betas)\n",
        "        self.register_buffer('alphas_cumprod', alphas_cumprod)\n",
        "        self.register_buffer('alphas_cumprod_prev', alphas_cumprod_prev)\n",
        "\n",
        "        # calculations for diffusion q(x_t | x_{t-1}) and others\n",
        "        self.register_buffer('sqrt_alphas_cumprod', torch.sqrt(alphas_cumprod))\n",
        "        self.register_buffer('sqrt_one_minus_alphas_cumprod', torch.sqrt(1. - alphas_cumprod))\n",
        "        self.register_buffer('log_one_minus_alphas_cumprod', torch.log(1. - alphas_cumprod))\n",
        "        self.register_buffer('sqrt_recip_alphas_cumprod', torch.sqrt(1. / alphas_cumprod))\n",
        "        self.register_buffer('sqrt_recipm1_alphas_cumprod', torch.sqrt(1. / alphas_cumprod - 1))\n",
        "\n",
        "        # calculations for posterior q(x_{t-1} | x_t, x_0)\n",
        "        posterior_variance = betas * (1. - alphas_cumprod_prev) / (1. - alphas_cumprod)\n",
        "        self.register_buffer('posterior_variance', posterior_variance)\n",
        "\n",
        "        ## log calculation clipped because the posterior variance\n",
        "        ## is 0 at the beginning of the diffusion chain\n",
        "        self.register_buffer('posterior_log_variance_clipped',\n",
        "                             torch.log(torch.clamp(posterior_variance, min=1e-20)))\n",
        "        self.register_buffer('posterior_mean_coef1',\n",
        "                             betas * np.sqrt(alphas_cumprod_prev) / (1. - alphas_cumprod))\n",
        "        self.register_buffer('posterior_mean_coef2',\n",
        "                             (1. - alphas_cumprod_prev) * np.sqrt(alphas) / (1. - alphas_cumprod))\n",
        "\n",
        "        self.loss_fn = Losses[loss_type]()\n",
        "\n",
        "    # ------------------------------------------ sampling ------------------------------------------#\n",
        "\n",
        "    def predict_start_from_noise(self, x_t, t, noise):\n",
        "        '''\n",
        "            if self.predict_epsilon, model output is (scaled) noise;\n",
        "            otherwise, model predicts x0 directly\n",
        "        '''\n",
        "        if self.predict_epsilon:\n",
        "            return (\n",
        "                    extract(self.sqrt_recip_alphas_cumprod, t, x_t.shape) * x_t -\n",
        "                    extract(self.sqrt_recipm1_alphas_cumprod, t, x_t.shape) * noise\n",
        "            )\n",
        "        else:\n",
        "            return noise\n",
        "\n",
        "    def q_posterior(self, x_start, x_t, t):\n",
        "        posterior_mean = (\n",
        "                extract(self.posterior_mean_coef1, t, x_t.shape) * x_start +\n",
        "                extract(self.posterior_mean_coef2, t, x_t.shape) * x_t\n",
        "        )\n",
        "        posterior_variance = extract(self.posterior_variance, t, x_t.shape)\n",
        "        posterior_log_variance_clipped = extract(self.posterior_log_variance_clipped, t, x_t.shape)\n",
        "        return posterior_mean, posterior_variance, posterior_log_variance_clipped\n",
        "\n",
        "    def p_mean_variance(self, x, t, s):\n",
        "        x_recon = self.predict_start_from_noise(x, t=t, noise=self.model(x, t, s))\n",
        "\n",
        "        if self.clip_denoised:\n",
        "            x_recon.clamp_(-self.max_action, self.max_action)\n",
        "        else:\n",
        "            assert RuntimeError()\n",
        "\n",
        "        model_mean, posterior_variance, posterior_log_variance = self.q_posterior(x_start=x_recon, x_t=x, t=t)\n",
        "        return model_mean, posterior_variance, posterior_log_variance\n",
        "\n",
        "    # @torch.no_grad()\n",
        "    def p_sample(self, x, t, s):\n",
        "        b, *_, device = *x.shape, x.device\n",
        "        model_mean, _, model_log_variance = self.p_mean_variance(x=x, t=t, s=s)\n",
        "        noise = torch.randn_like(x)\n",
        "        # no noise when t == 0\n",
        "        nonzero_mask = (1 - (t == 0).float()).reshape(b, *((1,) * (len(x.shape) - 1)))\n",
        "        return model_mean + nonzero_mask * (0.5 * model_log_variance).exp() * noise\n",
        "\n",
        "    # @torch.no_grad()\n",
        "    def p_sample_loop(self, state, shape, verbose=False, return_diffusion=False):\n",
        "        device = self.betas.device\n",
        "\n",
        "        batch_size = shape[0]\n",
        "        x = torch.randn(shape, device=device)\n",
        "\n",
        "        if return_diffusion: diffusion = [x]\n",
        "\n",
        "        progress = Progress(self.n_timesteps) if verbose else Silent()\n",
        "        for i in reversed(range(0, self.n_timesteps)):\n",
        "            timesteps = torch.full((batch_size,), i, device=device, dtype=torch.long)\n",
        "            x = self.p_sample(x, timesteps, state)\n",
        "\n",
        "            progress.update({'t': i})\n",
        "\n",
        "            if return_diffusion: diffusion.append(x)\n",
        "\n",
        "        progress.close()\n",
        "\n",
        "        if return_diffusion:\n",
        "            return x, torch.stack(diffusion, dim=1)\n",
        "        else:\n",
        "            return x\n",
        "\n",
        "    # @torch.no_grad()\n",
        "    def sample(self, state, *args, **kwargs):\n",
        "        batch_size = state.shape[0]\n",
        "        shape = (batch_size, self.action_dim)\n",
        "        action = self.p_sample_loop(state, shape, *args, **kwargs)\n",
        "        return action.clamp_(-self.max_action, self.max_action)\n",
        "\n",
        "    # ------------------------------------------ training ------------------------------------------#\n",
        "\n",
        "    def q_sample(self, x_start, t, noise=None):\n",
        "        if noise is None:\n",
        "            noise = torch.randn_like(x_start)\n",
        "\n",
        "        sample = (\n",
        "                extract(self.sqrt_alphas_cumprod, t, x_start.shape) * x_start +\n",
        "                extract(self.sqrt_one_minus_alphas_cumprod, t, x_start.shape) * noise\n",
        "        )\n",
        "\n",
        "        return sample\n",
        "\n",
        "    def p_losses(self, x_start, state, t, weights=1.0):\n",
        "        noise = torch.randn_like(x_start)\n",
        "\n",
        "        x_noisy = self.q_sample(x_start=x_start, t=t, noise=noise)\n",
        "\n",
        "        x_recon = self.model(x_noisy, t, state)\n",
        "\n",
        "        assert noise.shape == x_recon.shape\n",
        "\n",
        "        if self.predict_epsilon:\n",
        "            loss = self.loss_fn(x_recon, noise, weights)\n",
        "        else:\n",
        "            loss = self.loss_fn(x_recon, x_start, weights)\n",
        "\n",
        "        return loss\n",
        "\n",
        "    def loss(self, x, state, weights=1.0):\n",
        "        batch_size = len(x)\n",
        "        t = torch.randint(0, self.n_timesteps, (batch_size,), device=x.device).long()\n",
        "        return self.p_losses(x, state, t, weights)\n",
        "\n",
        "    def forward(self, state, *args, **kwargs):\n",
        "        return self.sample(state, *args, **kwargs)"
      ],
      "metadata": {
        "id": "KjFXXV8vXG-7"
      },
      "execution_count": 17,
      "outputs": []
    },
    {
      "cell_type": "markdown",
      "source": [
        "QL diffusion"
      ],
      "metadata": {
        "id": "K18Vw9wKYWG1"
      }
    },
    {
      "cell_type": "code",
      "source": [
        "import copy\n",
        "import numpy as np\n",
        "import torch\n",
        "import torch.nn as nn\n",
        "import torch.nn.functional as F\n",
        "from torch.optim.lr_scheduler import CosineAnnealingLR\n",
        "\n",
        "\n",
        "\n",
        "\n",
        "\n",
        "class Critic(nn.Module):\n",
        "    def __init__(self, state_dim, action_dim, hidden_dim=256):\n",
        "        super(Critic, self).__init__()\n",
        "        self.q1_model = nn.Sequential(nn.Linear(state_dim + action_dim, hidden_dim),\n",
        "                                      nn.Mish(),\n",
        "                                      nn.Linear(hidden_dim, hidden_dim),\n",
        "                                      nn.Mish(),\n",
        "                                      nn.Linear(hidden_dim, hidden_dim),\n",
        "                                      nn.Mish(),\n",
        "                                      nn.Linear(hidden_dim, 1))\n",
        "\n",
        "        self.q2_model = nn.Sequential(nn.Linear(state_dim + action_dim, hidden_dim),\n",
        "                                      nn.Mish(),\n",
        "                                      nn.Linear(hidden_dim, hidden_dim),\n",
        "                                      nn.Mish(),\n",
        "                                      nn.Linear(hidden_dim, hidden_dim),\n",
        "                                      nn.Mish(),\n",
        "                                      nn.Linear(hidden_dim, 1))\n",
        "\n",
        "    def forward(self, state, action):\n",
        "        x = torch.cat([state, action], dim=-1)\n",
        "        return self.q1_model(x), self.q2_model(x)\n",
        "\n",
        "    def q1(self, state, action):\n",
        "        x = torch.cat([state, action], dim=-1)\n",
        "        return self.q1_model(x)\n",
        "\n",
        "    def q_min(self, state, action):\n",
        "        q1, q2 = self.forward(state, action)\n",
        "        return torch.min(q1, q2)\n",
        "\n",
        "\n",
        "class Diffusion_QL(object):\n",
        "    def __init__(self,\n",
        "                 state_dim,\n",
        "                 action_dim,\n",
        "                 max_action,\n",
        "                 device,\n",
        "                 discount,\n",
        "                 tau,\n",
        "                 max_q_backup=False,\n",
        "                 eta=1.0,\n",
        "                 n_timesteps=100,\n",
        "                 ema_decay=0.995,\n",
        "                 step_start_ema=1000,\n",
        "                 update_ema_every=5,\n",
        "                 lr=3e-4,\n",
        "                 lr_decay=False,\n",
        "                 lr_maxt=1000,\n",
        "                 grad_norm=1.0,\n",
        "                 ):\n",
        "\n",
        "        self.model = MLP(state_dim=state_dim, action_dim=action_dim, device=device)\n",
        "\n",
        "        self.actor = Diffusion(state_dim=state_dim, action_dim=action_dim, model=self.model, max_action=max_action,\n",
        "                               n_timesteps=n_timesteps,).to(device)\n",
        "        self.actor_optimizer = torch.optim.Adam(self.actor.parameters(), lr=lr)\n",
        "\n",
        "        self.lr_decay = lr_decay\n",
        "        self.grad_norm = grad_norm\n",
        "\n",
        "        self.step = 0\n",
        "        self.step_start_ema = step_start_ema\n",
        "        self.ema = EMA(ema_decay)\n",
        "        self.ema_model = copy.deepcopy(self.actor)\n",
        "        self.update_ema_every = update_ema_every\n",
        "\n",
        "        self.critic = Critic(state_dim, action_dim).to(device)\n",
        "        self.critic_target = copy.deepcopy(self.critic)\n",
        "        self.critic_optimizer = torch.optim.Adam(self.critic.parameters(), lr=3e-4)\n",
        "\n",
        "        if lr_decay:\n",
        "            self.actor_lr_scheduler = CosineAnnealingLR(self.actor_optimizer, T_max=lr_maxt, eta_min=0.)\n",
        "            self.critic_lr_scheduler = CosineAnnealingLR(self.critic_optimizer, T_max=lr_maxt, eta_min=0.)\n",
        "\n",
        "        self.state_dim = state_dim\n",
        "        self.max_action = max_action\n",
        "        self.action_dim = action_dim\n",
        "        self.discount = discount\n",
        "        self.tau = tau\n",
        "        self.eta = eta  # q_learning weight\n",
        "        self.device = device\n",
        "        self.max_q_backup = max_q_backup\n",
        "\n",
        "    def step_ema(self):\n",
        "        if self.step < self.step_start_ema:\n",
        "            return\n",
        "        self.ema.update_model_average(self.ema_model, self.actor)\n",
        "\n",
        "    def train(self, replay_buffer, iterations, batch_size=100):\n",
        "\n",
        "        metric = {'bc_loss': [], 'ql_loss': [], 'actor_loss': [], 'critic_loss': []}\n",
        "        for _ in range(iterations):\n",
        "            # Sample replay buffer / batch\n",
        "            \n",
        "            perm = torch.randperm(replay_buffer.size(0))\n",
        "            idx = perm[:batch_size]\n",
        "            samples = replay_buffer[idx]\n",
        "            state, actionx, actiony, next_state, reward = torch.chunk(samples, 5, dim=1)\n",
        "\n",
        "            action = torch.concat([actionx, actiony],dim=1)\n",
        "\n",
        "            \"\"\" Q Training \"\"\"\n",
        "            current_q1, current_q2 = self.critic(state, action)\n",
        "\n",
        "            if self.max_q_backup:\n",
        "                next_state_rpt = torch.repeat_interleave(next_state, repeats=10, dim=0)\n",
        "                next_action_rpt = self.ema_model(next_state_rpt)\n",
        "                target_q1, target_q2 = self.critic_target(next_state_rpt, next_action_rpt)\n",
        "                target_q1 = target_q1.view(batch_size, 10).max(dim=1, keepdim=True)[0]\n",
        "                target_q2 = target_q2.view(batch_size, 10).max(dim=1, keepdim=True)[0]\n",
        "                target_q = torch.min(target_q1, target_q2)\n",
        "            else:\n",
        "                next_action = self.ema_model(next_state)\n",
        "                target_q1, target_q2 = self.critic_target(next_state, next_action)\n",
        "                target_q = torch.min(target_q1, target_q2)\n",
        "\n",
        "            target_q = (reward + self.discount * target_q).detach()\n",
        "\n",
        "            critic_loss = F.mse_loss(current_q1, target_q) + F.mse_loss(current_q2, target_q)\n",
        "\n",
        "            self.critic_optimizer.zero_grad()\n",
        "            critic_loss.backward()\n",
        "            if self.grad_norm > 0:\n",
        "                critic_grad_norms = nn.utils.clip_grad_norm_(self.critic.parameters(), max_norm=self.grad_norm, norm_type=2)\n",
        "            self.critic_optimizer.step()\n",
        "\n",
        "            \"\"\" Policy Training \"\"\"\n",
        "            bc_loss = self.actor.loss(action, state)\n",
        "            new_action = self.actor(state)\n",
        "\n",
        "            q1_new_action, q2_new_action = self.critic(state, new_action)\n",
        "            if np.random.uniform() > 0.5:\n",
        "                q_loss = - q1_new_action.mean() / q2_new_action.abs().mean().detach()\n",
        "            else:\n",
        "                q_loss = - q2_new_action.mean() / q1_new_action.abs().mean().detach()\n",
        "            actor_loss = bc_loss + self.eta * q_loss\n",
        "\n",
        "            self.actor_optimizer.zero_grad()\n",
        "            actor_loss.backward()\n",
        "            if self.grad_norm > 0: \n",
        "                actor_grad_norms = nn.utils.clip_grad_norm_(self.actor.parameters(), max_norm=self.grad_norm, norm_type=2)\n",
        "            self.actor_optimizer.step()\n",
        "\n",
        "\n",
        "            \"\"\" Step Target network \"\"\"\n",
        "            if self.step % self.update_ema_every == 0:\n",
        "                self.step_ema()\n",
        "\n",
        "            for param, target_param in zip(self.critic.parameters(), self.critic_target.parameters()):\n",
        "                target_param.data.copy_(self.tau * param.data + (1 - self.tau) * target_param.data)\n",
        "\n",
        "            self.step += 1\n",
        "\n",
        "          \n",
        "\n",
        "            metric['actor_loss'].append(actor_loss.item())\n",
        "            metric['bc_loss'].append(bc_loss.item())\n",
        "            metric['ql_loss'].append(q_loss.item())\n",
        "            metric['critic_loss'].append(critic_loss.item())\n",
        "\n",
        "        if self.lr_decay: \n",
        "            self.actor_lr_scheduler.step()\n",
        "            self.critic_lr_scheduler.step()\n",
        "\n",
        "        #return metric\n",
        "\n",
        "    def sample_action(self, state):\n",
        "        state = torch.FloatTensor(state.reshape(1, -1)).to(self.device)\n",
        "        state_rpt = torch.repeat_interleave(state, repeats=50, dim=0)\n",
        "        with torch.no_grad():\n",
        "            action = self.actor.sample(state_rpt)\n",
        "            q_value = self.critic_target.q_min(state_rpt, action).flatten()\n",
        "            idx = torch.multinomial(F.softmax(q_value), 1)\n",
        "        return action[idx].cpu().data.numpy().flatten()"
      ],
      "metadata": {
        "id": "NJTt4ddQYX45"
      },
      "execution_count": 18,
      "outputs": []
    },
    {
      "cell_type": "code",
      "source": [
        "diff_model = Diffusion_QL(state_dim = 1, action_dim = 2, max_action=10, device=device, discount= 0.99, tau=0.005)"
      ],
      "metadata": {
        "id": "6qZFPyIcZG-e"
      },
      "execution_count": 56,
      "outputs": []
    },
    {
      "cell_type": "code",
      "source": [
        "diff_model.train(comb, 27_500)"
      ],
      "metadata": {
        "id": "EL5wTlIvbpNR"
      },
      "execution_count": 57,
      "outputs": []
    },
    {
      "cell_type": "code",
      "source": [
        "new_s = torch.ones((1,1))\n",
        "samp_lst = []\n",
        "for _ in range(100):\n",
        "    samp_lst.append(diff_model.sample_action(new_s))"
      ],
      "metadata": {
        "id": "ApYRbwFmj_br",
        "outputId": "59307fd9-fd5f-4abd-a920-df4e37afcc74",
        "colab": {
          "base_uri": "https://localhost:8080/"
        }
      },
      "execution_count": 58,
      "outputs": [
        {
          "output_type": "stream",
          "name": "stderr",
          "text": [
            "<ipython-input-18-3d13683b752d>:185: UserWarning: Implicit dimension choice for softmax has been deprecated. Change the call to include dim=X as an argument.\n",
            "  idx = torch.multinomial(F.softmax(q_value), 1)\n"
          ]
        }
      ]
    },
    {
      "cell_type": "code",
      "source": [
        "to_graph = np.stack(samp_lst)"
      ],
      "metadata": {
        "id": "zKKokZK7jXEl"
      },
      "execution_count": 59,
      "outputs": []
    },
    {
      "cell_type": "code",
      "source": [
        "to_graph"
      ],
      "metadata": {
        "id": "rEK9dY0_DZuT",
        "outputId": "03e1b518-0ce5-484b-cf60-b4266ca1109e",
        "colab": {
          "base_uri": "https://localhost:8080/",
          "height": 166
        }
      },
      "execution_count": 1,
      "outputs": [
        {
          "output_type": "error",
          "ename": "NameError",
          "evalue": "ignored",
          "traceback": [
            "\u001b[0;31m---------------------------------------------------------------------------\u001b[0m",
            "\u001b[0;31mNameError\u001b[0m                                 Traceback (most recent call last)",
            "\u001b[0;32m<ipython-input-1-b6a2cd657b56>\u001b[0m in \u001b[0;36m<module>\u001b[0;34m\u001b[0m\n\u001b[0;32m----> 1\u001b[0;31m \u001b[0mto_graph\u001b[0m\u001b[0;34m\u001b[0m\u001b[0;34m\u001b[0m\u001b[0m\n\u001b[0m",
            "\u001b[0;31mNameError\u001b[0m: name 'to_graph' is not defined"
          ]
        }
      ]
    },
    {
      "cell_type": "code",
      "source": [
        "import matplotlib.pyplot as plt\n",
        "\n",
        "plt.scatter(to_graph[:,0], to_graph[:,1])\n",
        "plt.show()"
      ],
      "metadata": {
        "id": "vg3HA4CtleEC",
        "outputId": "56b020af-57d4-4a78-d220-48a4a446d459",
        "colab": {
          "base_uri": "https://localhost:8080/",
          "height": 265
        }
      },
      "execution_count": 67,
      "outputs": [
        {
          "output_type": "display_data",
          "data": {
            "text/plain": [
              "<Figure size 432x288 with 1 Axes>"
            ],
            "image/png": "[encoded data removed]"
          },
          "metadata": {
            "needs_background": "light"
          }
        }
      ]
    }
  ]
}