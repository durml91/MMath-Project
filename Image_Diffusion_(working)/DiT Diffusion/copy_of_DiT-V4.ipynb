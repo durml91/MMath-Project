{
  "nbformat": 4,
  "nbformat_minor": 0,
  "metadata": {
    "colab": {
      "provenance": [],
      "collapsed_sections": [
        "vkxG8UA55CDs",
        "boKbD65w2odj",
        "XYdPvNIg2q6C",
        "aH_B8CT82uLR",
        "YuPSPusZ2v3N",
        "5C5kiQ_k2x7F",
        "udhjg0J-9pK0",
        "gV_U-JJrL-jC",
        "7wfr3bbCSZkk"
      ],
      "authorship_tag": "ABX9TyN/566d9kCYBvsfaXr5ITtd",
      "include_colab_link": true
    },
    "kernelspec": {
      "name": "python3",
      "display_name": "Python 3"
    },
    "language_info": {
      "name": "python"
    },
    "gpuClass": "standard",
    "accelerator": "GPU"
  },
  "cells": [
    {
      "cell_type": "markdown",
      "metadata": {
        "id": "view-in-github",
        "colab_type": "text"
      },
      "source": [
        "<a href=\"https://colab.research.google.com/github/durml91/MMath-Project/blob/duo-branch/Image_Diffusion_(working)/DiT%20Diffusion/copy_of_DiT-V4.ipynb\" target=\"_parent\"><img src=\"https://colab.research.google.com/assets/colab-badge.svg\" alt=\"Open In Colab\"/></a>"
      ]
    },
    {
      "cell_type": "markdown",
      "source": [
        "#**DiT implementation**"
      ],
      "metadata": {
        "id": "YJW-hYHrRghA"
      }
    },
    {
      "cell_type": "markdown",
      "source": [
        "### Imports and Installs"
      ],
      "metadata": {
        "id": "CwbREoSGRkg-"
      }
    },
    {
      "cell_type": "markdown",
      "source": [
        "**Set float precision to 64 bit - doubles training time**"
      ],
      "metadata": {
        "id": "ulpiNtOJno4n"
      }
    },
    {
      "cell_type": "code",
      "source": [
        "# from jax.config import config; config.update(\"jax_enable_x64\", True)"
      ],
      "metadata": {
        "id": "u662of4GV3ab"
      },
      "execution_count": null,
      "outputs": []
    },
    {
      "cell_type": "markdown",
      "source": [
        "Need to install new version of Jax for package compatibility"
      ],
      "metadata": {
        "id": "9JBPitYdRoFm"
      }
    },
    {
      "cell_type": "code",
      "execution_count": null,
      "metadata": {
        "id": "TB7c1s9yAoVp"
      },
      "outputs": [],
      "source": [
        "# !pip install jaxlib==0.4.2+cuda11.cudnn82 -f  https://storage.googleapis.com/jax-releases/jax_cuda_releases.html # [cuda]"
      ]
    },
    {
      "cell_type": "code",
      "source": [
        "# !pip install --upgrade jax[cpu]"
      ],
      "metadata": {
        "id": "xWmJRGh6nBIN"
      },
      "execution_count": null,
      "outputs": []
    },
    {
      "cell_type": "markdown",
      "source": [
        "Install packages"
      ],
      "metadata": {
        "id": "53kc_s37RsQJ"
      }
    },
    {
      "cell_type": "code",
      "source": [
        "!pip install diffrax\n",
        "!pip install equinox\n",
        "!pip install einops\n",
        "!pip install optax"
      ],
      "metadata": {
        "id": "ZAhw7yT6AvfB",
        "outputId": "0a84dd23-4c9c-4552-8369-b59a71d229f4",
        "colab": {
          "base_uri": "https://localhost:8080/"
        }
      },
      "execution_count": 1,
      "outputs": [
        {
          "output_type": "stream",
          "name": "stdout",
          "text": [
            "Looking in indexes: https://pypi.org/simple, https://us-python.pkg.dev/colab-wheels/public/simple/\n",
            "Collecting diffrax\n",
            "  Downloading diffrax-0.3.1-py3-none-any.whl (140 kB)\n",
            "\u001b[2K     \u001b[90m━━━━━━━━━━━━━━━━━━━━━━━━━━━━━━━━━━━━━━━\u001b[0m \u001b[32m140.4/140.4 KB\u001b[0m \u001b[31m3.6 MB/s\u001b[0m eta \u001b[36m0:00:00\u001b[0m\n",
            "\u001b[?25hRequirement already satisfied: jax>=0.4.3 in /usr/local/lib/python3.8/dist-packages (from diffrax) (0.4.4)\n",
            "Collecting equinox>=0.10.0\n",
            "  Downloading equinox-0.10.1-py3-none-any.whl (108 kB)\n",
            "\u001b[2K     \u001b[90m━━━━━━━━━━━━━━━━━━━━━━━━━━━━━━━━━━━━━━\u001b[0m \u001b[32m108.7/108.7 KB\u001b[0m \u001b[31m11.4 MB/s\u001b[0m eta \u001b[36m0:00:00\u001b[0m\n",
            "\u001b[?25hCollecting jaxtyping>=0.2.12\n",
            "  Downloading jaxtyping-0.2.14-py3-none-any.whl (20 kB)\n",
            "Requirement already satisfied: opt-einsum in /usr/local/lib/python3.8/dist-packages (from jax>=0.4.3->diffrax) (3.3.0)\n",
            "Requirement already satisfied: numpy>=1.20 in /usr/local/lib/python3.8/dist-packages (from jax>=0.4.3->diffrax) (1.22.4)\n",
            "Requirement already satisfied: scipy>=1.5 in /usr/local/lib/python3.8/dist-packages (from jax>=0.4.3->diffrax) (1.10.1)\n",
            "Collecting typeguard>=2.13.3\n",
            "  Downloading typeguard-2.13.3-py3-none-any.whl (17 kB)\n",
            "Requirement already satisfied: typing-extensions>=3.7.4.1 in /usr/local/lib/python3.8/dist-packages (from jaxtyping>=0.2.12->equinox>=0.10.0->diffrax) (4.5.0)\n",
            "Installing collected packages: typeguard, jaxtyping, equinox, diffrax\n",
            "  Attempting uninstall: typeguard\n",
            "    Found existing installation: typeguard 2.7.1\n",
            "    Uninstalling typeguard-2.7.1:\n",
            "      Successfully uninstalled typeguard-2.7.1\n",
            "Successfully installed diffrax-0.3.1 equinox-0.10.1 jaxtyping-0.2.14 typeguard-2.13.3\n",
            "Looking in indexes: https://pypi.org/simple, https://us-python.pkg.dev/colab-wheels/public/simple/\n",
            "Requirement already satisfied: equinox in /usr/local/lib/python3.8/dist-packages (0.10.1)\n",
            "Requirement already satisfied: jax>=0.4.3 in /usr/local/lib/python3.8/dist-packages (from equinox) (0.4.4)\n",
            "Requirement already satisfied: jaxtyping>=0.2.12 in /usr/local/lib/python3.8/dist-packages (from equinox) (0.2.14)\n",
            "Requirement already satisfied: scipy>=1.5 in /usr/local/lib/python3.8/dist-packages (from jax>=0.4.3->equinox) (1.10.1)\n",
            "Requirement already satisfied: numpy>=1.20 in /usr/local/lib/python3.8/dist-packages (from jax>=0.4.3->equinox) (1.22.4)\n",
            "Requirement already satisfied: opt-einsum in /usr/local/lib/python3.8/dist-packages (from jax>=0.4.3->equinox) (3.3.0)\n",
            "Requirement already satisfied: typeguard>=2.13.3 in /usr/local/lib/python3.8/dist-packages (from jaxtyping>=0.2.12->equinox) (2.13.3)\n",
            "Requirement already satisfied: typing-extensions>=3.7.4.1 in /usr/local/lib/python3.8/dist-packages (from jaxtyping>=0.2.12->equinox) (4.5.0)\n",
            "Looking in indexes: https://pypi.org/simple, https://us-python.pkg.dev/colab-wheels/public/simple/\n",
            "Collecting einops\n",
            "  Downloading einops-0.6.0-py3-none-any.whl (41 kB)\n",
            "\u001b[2K     \u001b[90m━━━━━━━━━━━━━━━━━━━━━━━━━━━━━━━━━━━━━━━━\u001b[0m \u001b[32m41.6/41.6 KB\u001b[0m \u001b[31m4.3 MB/s\u001b[0m eta \u001b[36m0:00:00\u001b[0m\n",
            "\u001b[?25hInstalling collected packages: einops\n",
            "Successfully installed einops-0.6.0\n",
            "Looking in indexes: https://pypi.org/simple, https://us-python.pkg.dev/colab-wheels/public/simple/\n",
            "Collecting optax\n",
            "  Downloading optax-0.1.4-py3-none-any.whl (154 kB)\n",
            "\u001b[2K     \u001b[90m━━━━━━━━━━━━━━━━━━━━━━━━━━━━━━━━━━━━━━━\u001b[0m \u001b[32m154.9/154.9 KB\u001b[0m \u001b[31m3.9 MB/s\u001b[0m eta \u001b[36m0:00:00\u001b[0m\n",
            "\u001b[?25hCollecting chex>=0.1.5\n",
            "  Downloading chex-0.1.6-py3-none-any.whl (87 kB)\n",
            "\u001b[2K     \u001b[90m━━━━━━━━━━━━━━━━━━━━━━━━━━━━━━━━━━━━━━━━\u001b[0m \u001b[32m87.9/87.9 KB\u001b[0m \u001b[31m8.3 MB/s\u001b[0m eta \u001b[36m0:00:00\u001b[0m\n",
            "\u001b[?25hRequirement already satisfied: absl-py>=0.7.1 in /usr/local/lib/python3.8/dist-packages (from optax) (1.4.0)\n",
            "Requirement already satisfied: numpy>=1.18.0 in /usr/local/lib/python3.8/dist-packages (from optax) (1.22.4)\n",
            "Requirement already satisfied: jax>=0.1.55 in /usr/local/lib/python3.8/dist-packages (from optax) (0.4.4)\n",
            "Requirement already satisfied: typing-extensions>=3.10.0 in /usr/local/lib/python3.8/dist-packages (from optax) (4.5.0)\n",
            "Requirement already satisfied: jaxlib>=0.1.37 in /usr/local/lib/python3.8/dist-packages (from optax) (0.4.4+cuda11.cudnn82)\n",
            "Requirement already satisfied: dm-tree>=0.1.5 in /usr/local/lib/python3.8/dist-packages (from chex>=0.1.5->optax) (0.1.8)\n",
            "Requirement already satisfied: toolz>=0.9.0 in /usr/local/lib/python3.8/dist-packages (from chex>=0.1.5->optax) (0.12.0)\n",
            "Requirement already satisfied: scipy>=1.5 in /usr/local/lib/python3.8/dist-packages (from jax>=0.1.55->optax) (1.10.1)\n",
            "Requirement already satisfied: opt-einsum in /usr/local/lib/python3.8/dist-packages (from jax>=0.1.55->optax) (3.3.0)\n",
            "Installing collected packages: chex, optax\n",
            "Successfully installed chex-0.1.6 optax-0.1.4\n"
          ]
        }
      ]
    },
    {
      "cell_type": "markdown",
      "source": [
        "Imports"
      ],
      "metadata": {
        "id": "DGZx1OUJRuUQ"
      }
    },
    {
      "cell_type": "code",
      "source": [
        "import array\n",
        "import functools as ft\n",
        "import gzip\n",
        "import os\n",
        "import struct\n",
        "import urllib.request\n",
        "\n",
        "import diffrax as dfx  # https://github.com/patrick-kidger/diffrax\n",
        "import einops  # https://github.com/arogozhnikov/einops\n",
        "import jax\n",
        "import jax.numpy as jnp\n",
        "import jax.random as jr\n",
        "import matplotlib.pyplot as plt\n",
        "import optax  # https://github.com/deepmind/optax\n",
        "\n",
        "import equinox as eqx"
      ],
      "metadata": {
        "id": "E1AYxrBfAxC6"
      },
      "execution_count": 2,
      "outputs": []
    },
    {
      "cell_type": "markdown",
      "source": [
        "**Generate rng key**"
      ],
      "metadata": {
        "id": "1Bw9Y9YTRwKJ"
      }
    },
    {
      "cell_type": "code",
      "source": [
        "key = jr.PRNGKey(2023)"
      ],
      "metadata": {
        "id": "7CDF6Fp0CL4J"
      },
      "execution_count": 3,
      "outputs": []
    },
    {
      "cell_type": "markdown",
      "source": [
        "Setup for saving model parameters - only run once!"
      ],
      "metadata": {
        "id": "o-FpEm9rR4Iv"
      }
    },
    {
      "cell_type": "code",
      "source": [
        "import shutil\n",
        "from google.colab import drive\n",
        "drive.mount('/content/gdrive')"
      ],
      "metadata": {
        "colab": {
          "base_uri": "https://localhost:8080/"
        },
        "id": "qFbT8W33BUPS",
        "outputId": "50614199-33ea-4707-8b02-d3cb4ae2761c"
      },
      "execution_count": 4,
      "outputs": [
        {
          "output_type": "stream",
          "name": "stdout",
          "text": [
            "Mounted at /content/gdrive\n"
          ]
        }
      ]
    },
    {
      "cell_type": "markdown",
      "source": [
        "### Data loader and data shuffler"
      ],
      "metadata": {
        "id": "RiTiRLb7XjXs"
      }
    },
    {
      "cell_type": "code",
      "source": [
        "!pip install emnist"
      ],
      "metadata": {
        "id": "iy0DPbUvffAi",
        "outputId": "a6ea5371-1de6-46cb-dc53-8808f26db910",
        "colab": {
          "base_uri": "https://localhost:8080/"
        }
      },
      "execution_count": 7,
      "outputs": [
        {
          "output_type": "stream",
          "name": "stdout",
          "text": [
            "Looking in indexes: https://pypi.org/simple, https://us-python.pkg.dev/colab-wheels/public/simple/\n",
            "Collecting emnist\n",
            "  Downloading emnist-0.0-py3-none-any.whl (7.3 kB)\n",
            "Requirement already satisfied: numpy in /usr/local/lib/python3.8/dist-packages (from emnist) (1.22.4)\n",
            "Requirement already satisfied: tqdm in /usr/local/lib/python3.8/dist-packages (from emnist) (4.64.1)\n",
            "Requirement already satisfied: requests in /usr/local/lib/python3.8/dist-packages (from emnist) (2.25.1)\n",
            "Requirement already satisfied: idna<3,>=2.5 in /usr/local/lib/python3.8/dist-packages (from requests->emnist) (2.10)\n",
            "Requirement already satisfied: urllib3<1.27,>=1.21.1 in /usr/local/lib/python3.8/dist-packages (from requests->emnist) (1.26.14)\n",
            "Requirement already satisfied: certifi>=2017.4.17 in /usr/local/lib/python3.8/dist-packages (from requests->emnist) (2022.12.7)\n",
            "Requirement already satisfied: chardet<5,>=3.0.2 in /usr/local/lib/python3.8/dist-packages (from requests->emnist) (4.0.0)\n",
            "Installing collected packages: emnist\n",
            "Successfully installed emnist-0.0\n"
          ]
        }
      ]
    },
    {
      "cell_type": "code",
      "source": [
        "from emnist import extract_training_samples\n",
        "\n",
        "\n",
        "def mnist():\n",
        "    filename = \"train-images-idx3-ubyte.gz\"\n",
        "    url_dir = \"https://storage.googleapis.com/cvdf-datasets/mnist\"\n",
        "    target_dir = os.getcwd() + \"/data/mnist\"\n",
        "    url = f\"{url_dir}/{filename}\"\n",
        "    target = f\"{target_dir}/{filename}\"\n",
        "\n",
        "    if not os.path.exists(target):\n",
        "        os.makedirs(target_dir, exist_ok=True)\n",
        "        urllib.request.urlretrieve(url, target)\n",
        "        print(f\"Downloaded {url} to {target}\")\n",
        "\n",
        "    with gzip.open(target, \"rb\") as fh:\n",
        "        _, batch, rows, cols = struct.unpack(\">IIII\", fh.read(16))\n",
        "        shape = (batch, 1, rows, cols)\n",
        "        return jnp.array(array.array(\"B\", fh.read()), dtype=jnp.uint8).reshape(shape)\n",
        "\n",
        "\n",
        "\n",
        "\n",
        "def emnist():\n",
        "  images, labels = extract_training_samples('balanced')\n",
        "  qwep = einops.rearrange(images, \"n h w -> n 1 h w\")\n",
        "  return jnp.array(qwep, dtype = jnp.uint8)\n",
        "\n",
        "\n",
        "\n",
        "def cifar():\n",
        "  from tensorflow.keras.datasets import cifar10\n",
        "  (x_train, y_train), (x_test, y_test) = cifar10.load_data()\n",
        "\n",
        "  set1 = jnp.array(x_train)\n",
        "  set2 = jnp.array(x_test)\n",
        "\n",
        "  data = jnp.concatenate((set1, set2))\n",
        "\n",
        "  data_reag = einops.rearrange(data, \"n h w c -> n c h w\")\n",
        "  return data_reag\n",
        "\n",
        "\n",
        "def dataloader(data, batch_size, *, key):\n",
        "    dataset_size = data.shape[0]\n",
        "    indices = jnp.arange(dataset_size)\n",
        "    while True:\n",
        "        perm = jr.permutation(key, indices)\n",
        "        (key,) = jr.split(key, 1)\n",
        "        start = 0\n",
        "        end = batch_size\n",
        "        while end < dataset_size:\n",
        "            batch_perm = perm[start:end]\n",
        "            yield data[batch_perm]\n",
        "            start = end\n",
        "            end = start + batch_size"
      ],
      "metadata": {
        "id": "Rgx0ctSJXlT5"
      },
      "execution_count": 8,
      "outputs": []
    },
    {
      "cell_type": "markdown",
      "source": [
        "### DiT Model"
      ],
      "metadata": {
        "id": "MxSYycHl2mpq"
      }
    },
    {
      "cell_type": "markdown",
      "source": [
        "**Utility functions**"
      ],
      "metadata": {
        "id": "toAYtcuUWfh_"
      }
    },
    {
      "cell_type": "code",
      "source": [
        "@eqx.filter_jit\n",
        "def modulate(x, shift, scale):\n",
        "    scale = jnp.expand_dims(scale, axis=1)       #scale is the value you mutliply your array by\n",
        "    shift = jnp.expand_dims(shift, axis=1)       #shift is the value you move your array b                     \n",
        "    return x * (1 + scale) + shift #1+scale to allow for zero scaling\n",
        "\n",
        "    #e.g. by inputting (x, 0 ,0) you end up with x returned\n",
        "    #this is just a very intuitive function!"
      ],
      "metadata": {
        "id": "UrDibia_WiyI"
      },
      "execution_count": 9,
      "outputs": []
    },
    {
      "cell_type": "code",
      "source": [
        "@eqx.filter_jit\n",
        "def get_2d_sincos_pos_embed(n_embd, grid_size):\n",
        "\n",
        "    \"\"\"grid_size: int value of grid height and width - we denote by (H, W)\n",
        "       return pos_embed of dim (grid_size*grid_size, n_embd)\"\"\"\n",
        "    \n",
        "\n",
        "    grid_h = jnp.arange(grid_size, dtype=float)\n",
        "    grid_w = jnp.arange(grid_size, dtype=float)\n",
        "    grid = jnp.meshgrid(grid_w, grid_h)\n",
        "    grid = jnp.stack(grid, axis=0)\n",
        "\n",
        "    grid = jnp.reshape(grid, (2, 1, grid_size, grid_size))\n",
        "    pos_embed = get_2d_sincos_pos_embed_from_grid(n_embd, grid)\n",
        "    return pos_embed\n",
        "\n",
        "#we basically end up with each patch embedding having a fixed n_embd dimensional sin/cos embedding vector - this is fixed! doesn't change based on sample but allows the NN to understand the \"spatial\" representation of the patches\n",
        "##################################################################################\n",
        "\n",
        "@eqx.filter_jit\n",
        "def get_2d_sincos_pos_embed_from_grid(n_embd, grid):\n",
        "    assert n_embd % 2 == 0\n",
        "\n",
        "    emb_h = get_1d_sincos_pos_embed_from_grid(n_embd // 2, grid[0]) # (H*W, D/2)\n",
        "    emb_w = get_1d_sincos_pos_embed_from_grid(n_embd // 2, grid[1]) # (H*W, D/2)\n",
        "\n",
        "    emb = jnp.concatenate([emb_h, emb_w], axis=1)  #(H*W, D)\n",
        "    return emb\n",
        "\n",
        "#if we have a grid - think two rows of however many columns - we take each row and encode and get an positional embedding for each element in the row\n",
        "\n",
        "##################################################################################\n",
        "\n",
        "@eqx.filter_jit\n",
        "def get_1d_sincos_pos_embed_from_grid(n_embd, pos):\n",
        "    \"\"\"n_embd is the output dimension for each position (D,)\n",
        "       pos is an array of positions to be encoded of size (M,)\n",
        "       size is of pos (M,D)\"\"\"\n",
        "    \n",
        "    assert n_embd % 2 == 0                \n",
        "    omega = jnp.arange(n_embd // 2, dtype=float)   #generates an array from 0 to (n_embd // 2) - 1 of integer values    \n",
        "    omega /= n_embd / 2         #divide by n_embd / 2 - can be thought of as normalising the values from to 0 to 1 i.e. uniform values\n",
        "    omega = 1. / 10000**omega #(D/2) - so n_embd is D  \n",
        "   \n",
        "    pos = jnp.array(pos)\n",
        "    out = jnp.outer(pos, omega)   #so we have pos^T * omega to make a matrix of dim (M, D/2)\n",
        "    emb_sin = jnp.sin(out)   #dim (M, D/2)\n",
        "    emb_cos = jnp.cos(out)   #dim (M, D/2)\n",
        "\n",
        "    emb = jnp.concatenate([emb_sin, emb_cos], axis=1)  #dim (M, D) - join sin and cos column wise -> <-\n",
        "    return emb\n",
        "\n",
        "\n",
        "    #if we think of the input as a sequence of words and the respective n_embedding, then we are simply adding a positional embedding across each word in the sequence "
      ],
      "metadata": {
        "id": "EkoixIOpWs0g"
      },
      "execution_count": 10,
      "outputs": []
    },
    {
      "cell_type": "markdown",
      "source": [
        "**NN modules**"
      ],
      "metadata": {
        "id": "gnBO4_x7WcSe"
      }
    },
    {
      "cell_type": "code",
      "source": [
        "#############################################\n",
        "##############                ###############\n",
        "##############    DiT model   ###############\n",
        "##############                ###############\n",
        "#############################################\n",
        "\n",
        "\"\"\"Diffusion models meet Transformers!\"\"\"\n",
        "\n",
        "\n",
        "###########   Time embedding    #############\n",
        "\n",
        "\n",
        "\n",
        "###### Define silu activation ######\n",
        "\n",
        "from typing import Callable\n",
        "\n",
        "class Lambda1(eqx.Module):\n",
        "    fn: Callable\n",
        "    \n",
        "    def __call__(self, x, *, key=None):\n",
        "        return self.fn(x)\n",
        "\n",
        "###### Time embedding ######\n",
        "\n",
        "class TimeStepEmbedder(eqx.Module):\n",
        "    mlp: eqx.nn.Sequential\n",
        "    frequency_embedding_size: int\n",
        "    \n",
        "    def __init__(\n",
        "        self,\n",
        "        hidden_size,\n",
        "        frequency_embedding_size,   #set as 256\n",
        "        key\n",
        "    ):\n",
        "        l1key, l2key = jr.split(key, 2)\n",
        "        self.mlp = eqx.nn.Sequential([\n",
        "            eqx.nn.Linear(frequency_embedding_size, hidden_size, key=l1key),\n",
        "            Lambda1(jax.nn.silu),\n",
        "            eqx.nn.Linear(hidden_size, hidden_size, key=l2key)\n",
        "        ])\n",
        "        self.frequency_embedding_size = frequency_embedding_size\n",
        "\n",
        "    def __call__(self, t, max_period=10000):\n",
        "        dim = self.frequency_embedding_size\n",
        "        half = dim // 2\n",
        "        freqs = jnp.exp(\n",
        "            -jnp.log(max_period) * jnp.arange(0, half, dtype=float) / half\n",
        "        )\n",
        "        args = t[:, None].astype(float) * freqs[None]\n",
        "        embedding = jnp.concatenate([jnp.cos(args), jnp.sin(args)], axis=-1)\n",
        "        if dim % 2:\n",
        "            embedding = jnp.concatenate([embedding, jnp.zeros_like(embedding[:, :1])], axis=-1)\n",
        "        t_freq = embedding\n",
        "        t_emb = jax.vmap(self.mlp)(t_freq)\n",
        "        return t_emb\n",
        "\n",
        "\n",
        "\n",
        "\n",
        "##########   Multi-Head Attention   #########\n",
        "\n",
        "\n",
        "class MultiAtt(eqx.Module):\n",
        "    n_embed: int\n",
        "    n_head: int\n",
        "    mha: eqx.nn.MultiheadAttention\n",
        "\n",
        "    def __init__(self, n_embed, n_head, key):\n",
        "        self.n_embed = n_embed\n",
        "        self.n_head = n_head\n",
        "        assert self.n_embed % self.n_head ==0\n",
        "        atkey, prkey, mhakey = jr.split(key, 3)\n",
        "        self.mha = eqx.nn.MultiheadAttention(num_heads=self.n_head,\n",
        "                                             query_size = self.n_embed,\n",
        "                                             key_size=self.n_embed,\n",
        "                                             value_size=self.n_embed,\n",
        "                                             output_size=self.n_embed,\n",
        "                                             use_query_bias=True,\n",
        "                                             use_key_bias=True,\n",
        "                                             use_value_bias=True,\n",
        "                                             use_output_bias=True,\n",
        "                                             key=mhakey)\n",
        "\n",
        "    def __call__(self, x):\n",
        "        values = jax.vmap(self.mha)(x, x, x)\n",
        "        return values\n",
        "\n",
        "\n",
        "##############    DiT Block     ##############\n",
        "\n",
        "\n",
        "class DitBlock(eqx.Module):\n",
        "    norm1: eqx.nn.LayerNorm\n",
        "    norm2: eqx.nn.LayerNorm\n",
        "    attn: eqx.Module\n",
        "    Mlp: eqx.nn.MLP\n",
        "    adaLN_modulation: eqx.nn.Sequential\n",
        "\n",
        "    def __init__(\n",
        "        self,\n",
        "        hidden_size,\n",
        "        n_head,\n",
        "        mlp_ratio,   # = 4.0\n",
        "        key,\n",
        "    ):\n",
        "        mkey, adakey = jr.split(key, 2)\n",
        "        self.norm1 = eqx.nn.LayerNorm(hidden_size, eps = 1e-06, elementwise_affine=False)\n",
        "        self.attn = MultiAtt(hidden_size, n_head=n_head, key=key)\n",
        "        self.norm2 = eqx.nn.LayerNorm(hidden_size, eps = 1e-06, elementwise_affine=False)\n",
        "        mlp_hidden_size = int(hidden_size * mlp_ratio)\n",
        "        self.Mlp = eqx.nn.MLP(hidden_size, hidden_size, mlp_hidden_size, 1, key=mkey)\n",
        "        self.adaLN_modulation = eqx.nn.Sequential([\n",
        "            Lambda1(jax.nn.silu),\n",
        "            eqx.nn.Linear(hidden_size, 6 * hidden_size, key=adakey)\n",
        "        ])\n",
        "\n",
        "    def __call__(self, x, t):\n",
        "        temp = jax.vmap(self.adaLN_modulation)(t)\n",
        "        shift_msa, scale_msa, gate_msa, shift_mlp, scale_mlp, gate_mlp = jnp.array_split(temp, 6, axis=1)\n",
        "        \n",
        "        \n",
        "        gate_msa = jnp.expand_dims(gate_msa, axis=1)\n",
        "        a = jax.vmap(self.norm1)(x)\n",
        "        tem = modulate(a, shift_msa, scale_msa)\n",
        "        x = x + gate_msa * self.attn(tem)\n",
        "        \n",
        "        \n",
        "        gate_mlp = jnp.expand_dims(gate_mlp, axis=1)\n",
        "        b = jax.vmap(self.norm2)(x)\n",
        "        tems = modulate(b, shift_mlp, scale_mlp)     \n",
        "        x = x + gate_mlp * jax.vmap(jax.vmap(self.Mlp))(tems)\n",
        "        \n",
        "        \n",
        "        return x\n",
        "\n",
        "\n",
        "\n",
        "\n",
        "#################   Final Layer   ################\n",
        "\n",
        "\n",
        "\n",
        "class FinalLayer(eqx.Module):\n",
        "    norm_final: eqx.nn.LayerNorm\n",
        "    linear: eqx.nn.Linear\n",
        "    #adaLN_modulation: eqx.nn.Linear\n",
        "    adaLN_modulation: eqx.nn.Sequential\n",
        "    \n",
        "    def __init__(\n",
        "        self,\n",
        "        hidden_size,\n",
        "        patch_size,\n",
        "        out_channels,\n",
        "        key\n",
        "    ):\n",
        "        lkey, adakey = jr.split(key, 2)\n",
        "        self.norm_final = eqx.nn.LayerNorm(hidden_size, eps=1e-6, elementwise_affine=False)\n",
        "        self.linear = eqx.nn.Linear(hidden_size, patch_size * patch_size * out_channels, key=lkey)\n",
        "        #self.adaLN_modulation = eqx.nn.Linear(hidden_size, 2 * hidden_size, key=adakey)\n",
        "        self.adaLN_modulation = eqx.nn.Sequential([\n",
        "            Lambda1(jax.nn.silu),\n",
        "            eqx.nn.Linear(hidden_size, 2 * hidden_size, key=adakey)\n",
        "        ])\n",
        "\n",
        "    def __call__(self, x, t):\n",
        "        #t = jax.nn.silu(t)\n",
        "        temp = jax.vmap(self.adaLN_modulation)(t)\n",
        "        shift, scale = jnp.array_split(temp, 2, axis=1)\n",
        "        x = modulate(self.norm_final(x), shift, scale)\n",
        "        x = jax.vmap(jax.vmap(self.linear))(x)\n",
        "        return x\n",
        "\n",
        "\n",
        "###########   Patch embedding   ##############\n",
        "\n",
        "class PatchEmbed(eqx.Module):\n",
        "    num_patches:int\n",
        "    proj: eqx.nn.Conv2d\n",
        "    patch_size: int\n",
        "\n",
        "    def __init__(\n",
        "        self,\n",
        "        img_size,\n",
        "        patch_size,\n",
        "        in_chans,\n",
        "        n_embd,\n",
        "        key\n",
        "    ):\n",
        "        patkey, _ = jr.split(key,2)\n",
        "        self.patch_size = patch_size\n",
        "        dg = img_size // self.patch_size\n",
        "        self.num_patches = dg ** 2\n",
        "        self.proj = eqx.nn.Conv2d(in_chans, n_embd, self.patch_size, self.patch_size, key=patkey)\n",
        "\n",
        "    def __call__(self, x):\n",
        "        B, C, H, W = x.shape\n",
        "        x = jnp.array(x, dtype=float)\n",
        "        x = jax.vmap(self.proj)(x)\n",
        "        x = einops.rearrange(x, \"B C H W -> B (H W) C\")\n",
        "        return x\n",
        "\n",
        "\n",
        "\n",
        "###########   Parameter module    ##########\n",
        "\n",
        "class Params(eqx.Module):\n",
        "    param: jnp.ndarray\n",
        "\n",
        "    def __init__(self, num_patches, hidden_size):\n",
        "        self.param = jnp.zeros((1, num_patches, hidden_size), dtype = float)\n",
        "\n",
        "    def __call__(self):\n",
        "        return self.param\n",
        "\n",
        "\n",
        "##########    DiT   ##########\n",
        "\n",
        "\n",
        "class DiT(eqx.Module):\n",
        "    in_channels: int\n",
        "    out_channels: int\n",
        "    patch_size: int\n",
        "    n_head: int\n",
        "\n",
        "    x_embedder: eqx.Module\n",
        "    t_embedder: eqx.Module\n",
        "    pos_embed: eqx.Module\n",
        "    blocks: list\n",
        "    final_layer: eqx.Module\n",
        "\n",
        "    def __init__(\n",
        "        self,\n",
        "        input_size=28,\n",
        "        patch_size=4,\n",
        "        in_channels=1,\n",
        "        hidden_size=384,\n",
        "        depth=4,  \n",
        "        n_head=6,  \n",
        "        mlp_ratio=4.0,  #fixed\n",
        "        frequency_embedding_size=256,   #fixed\n",
        "        *,\n",
        "        key=key,\n",
        "        \n",
        "    ):\n",
        "        xkey, tkey, flkey, *dbkeys = jr.split(key, 3 + depth)\n",
        "        self.in_channels = in_channels\n",
        "        self.out_channels = in_channels\n",
        "        self.patch_size = patch_size\n",
        "        self.n_head = n_head\n",
        "        self.x_embedder = PatchEmbed(input_size, patch_size, in_channels, hidden_size, key=xkey)\n",
        "        self.t_embedder = TimeStepEmbedder(hidden_size, frequency_embedding_size, key=tkey)\n",
        "        num_patches = self.x_embedder.num_patches\n",
        "        self.pos_embed = Params(num_patches, hidden_size)\n",
        "        self.blocks = [\n",
        "            DitBlock(\n",
        "                hidden_size, n_head, mlp_ratio, key = key\n",
        "            )\n",
        "            for dbkey in dbkeys                                   #_ in range(depth)           #*bkeys = jr.split(key, num_blocks)\n",
        "        ]\n",
        "        self.final_layer = FinalLayer(hidden_size, patch_size, self.out_channels, key=flkey)\n",
        "\n",
        "        pos_embed = get_2d_sincos_pos_embed(self.pos_embed().shape[-1], int(self.x_embedder.num_patches ** 0.5))\n",
        "        pos_embed = jnp.array(pos_embed, dtype=float)\n",
        "        self.pos_embed = jnp.expand_dims(pos_embed, axis=0)\n",
        "        \n",
        "    \n",
        "    def unpatchify(self, x):\n",
        "        \"\"\"\n",
        "        x: (N, T, patch_size ** 2 * C)\n",
        "        imgs: (N, H, W, C)\n",
        "        \"\"\"\n",
        "        c = self.out_channels      \n",
        "        p = self.x_embedder.patch_size \n",
        "        h = w = int(x.shape[1] ** 0.5)    \n",
        "        x = jnp.reshape(x, (x.shape[0], h, w, p, p, c))\n",
        "        x = einops.rearrange(x, \"n h w p q c->n c h p w q\")\n",
        "        imgs = jnp.reshape(x, (x.shape[0], c, h * p, h * p))\n",
        "        return imgs\n",
        "    \n",
        "    def __call__(self, x, t):\n",
        "        #pos_embed = get_2d_sincos_pos_embed(self.pos_embed().shape[-1], int(self.x_embedder.num_patches ** 0.5))\n",
        "        \n",
        "        \n",
        "        \"\"\"\n",
        "        x: (N, C, H, W)\n",
        "        t: (N, )\n",
        "        \"\"\"\n",
        "        #t = jnp.array([t], dtype=int)\n",
        "        pdc = self.pos_embed.copy()\n",
        "        x = self.x_embedder(x) + pdc # (N, T, D), where T = H * W / patch_size ** 2\n",
        "        t = self.t_embedder(t)   # (N, D)\n",
        "        for block in self.blocks:\n",
        "            x = block(x,t)    # (N, T, D)\n",
        "        x = self.final_layer(x, t)     # (N, T, patch_size ** 2 * out_channels) - N is the batch_size, T is the number of patches, \n",
        "        x = self.unpatchify(x)        # (N, out_channels, H, W)\n",
        "        #x = jnp.squeeze(x, axis=0)\n",
        "        return x"
      ],
      "metadata": {
        "id": "rLBy2RgjSNc_"
      },
      "execution_count": 11,
      "outputs": []
    },
    {
      "cell_type": "markdown",
      "source": [
        "### Loss functions"
      ],
      "metadata": {
        "id": "rDm2oF452jQG"
      }
    },
    {
      "cell_type": "code",
      "source": [
        "# def single_loss_fn(model, weight, int_beta, data, t, key):\n",
        "#     mean = data * jnp.exp(-0.5 * int_beta(t))\n",
        "#     var = jnp.maximum(1 - jnp.exp(-int_beta(t)), 1e-5)\n",
        "#     std = jnp.sqrt(var)\n",
        "#     noise = jr.normal(key, data.shape)\n",
        "#     y = mean + std * noise\n",
        "#     y = jnp.expand_dims(y, axis=0)\n",
        "#     pred = model(y,t)\n",
        "#     return weight(t) * jnp.mean((pred + noise / std) ** 2)\n",
        "\n",
        "\n",
        "# def batch_loss_fn(model, weight, int_beta, data, t1, key):\n",
        "#     batch_size = data.shape[0]\n",
        "#     tkey, losskey = jr.split(key)\n",
        "#     losskey = jr.split(losskey, batch_size)\n",
        "#     # Low-discrepancy sampling over t to reduce variance\n",
        "#     t = jr.uniform(tkey, (batch_size,), minval=0, maxval=t1 / batch_size)\n",
        "#     t = t + (t1 / batch_size) * jnp.arange(batch_size)\n",
        "#     loss_fn = ft.partial(single_loss_fn, model, weight, int_beta)\n",
        "#     loss_fn = jax.vmap(loss_fn)\n",
        "#     return jnp.mean(loss_fn(data, t, losskey))"
      ],
      "metadata": {
        "id": "Xf-iL2jpBEB2"
      },
      "execution_count": null,
      "outputs": []
    },
    {
      "cell_type": "code",
      "source": [
        "def wb_loss_fn(model, weight, int_beta, data, t1, key):\n",
        "    batch_size = data.shape[0]\n",
        "    tkey, nkey = jr.split(key, 2)\n",
        "    \n",
        "    t = jr.uniform(tkey, (batch_size,), minval=0, maxval=t1 / batch_size)\n",
        "    t = t + (t1 / batch_size) * jnp.arange(batch_size)\n",
        "    bet = jnp.exp(-0.5 * jax.vmap(int_beta)(t))\n",
        "    mean = jax.vmap(jnp.multiply)(data, bet)\n",
        "    var = jnp.maximum(1 - jnp.exp(-jax.vmap(int_beta)(t)), 1e-5)\n",
        "    std = jnp.sqrt(var)\n",
        "    noise = jr.normal(nkey, data.shape)\n",
        "\n",
        "    y = mean + jax.vmap(jnp.multiply)(std, noise)   #order of multiplcation doesn't matter\n",
        "    pred = model(y,t)\n",
        "    join = pred + noise\n",
        "    js = jax.vmap(jnp.divide)(join, std)\n",
        "    jss = js ** 2\n",
        "    jsm = einops.reduce(jss, 'B C H W -> B', 'mean')\n",
        "    \n",
        "    wt = jax.vmap(weight)(t)\n",
        "    ls = wt * jsm\n",
        "    \n",
        "    loss = jnp.mean(ls)\n",
        "    return loss"
      ],
      "metadata": {
        "id": "Tn0SZ8mJQzkj"
      },
      "execution_count": 12,
      "outputs": []
    },
    {
      "cell_type": "markdown",
      "source": [
        "### Update function"
      ],
      "metadata": {
        "id": "kUh2huWlXtxu"
      }
    },
    {
      "cell_type": "code",
      "source": [
        "@eqx.filter_jit\n",
        "def make_step(model, weight, int_beta, data, t1, key, opt_state, opt_update):\n",
        "    loss_fn = eqx.filter_value_and_grad(wb_loss_fn)   #changed from batch_loss\n",
        "    loss, grads = loss_fn(model, weight, int_beta, data, t1, key)\n",
        "    updates, opt_state = opt_update(grads, opt_state)\n",
        "    model = eqx.apply_updates(model, updates)\n",
        "    key = jr.split(key, 1)[0]\n",
        "    return loss, model, key, opt_state"
      ],
      "metadata": {
        "id": "J0sVh0_nBKOZ"
      },
      "execution_count": 13,
      "outputs": []
    },
    {
      "cell_type": "markdown",
      "source": [
        "### Sampler"
      ],
      "metadata": {
        "id": "RRsIwypJjORC"
      }
    },
    {
      "cell_type": "code",
      "source": [
        "@eqx.filter_jit\n",
        "def single_sample_fn(model, int_beta, data_shape, dt0, t1, key):\n",
        "    def drift(t, y, args):\n",
        "        _, beta = jax.jvp(int_beta, (t,), (jnp.ones_like(t),))\n",
        "        y = jnp.expand_dims(y, axis=0)\n",
        "        \n",
        "        t = jnp.array([t],dtype=int)\n",
        "        \n",
        "        c = -0.5 * beta * (y + model(y,t))\n",
        "        \n",
        "        c = jnp.squeeze(c, axis=0)\n",
        "        return c\n",
        "\n",
        "    term = dfx.ODETerm(drift)\n",
        "    solver = dfx.Tsit5()\n",
        "    t0 = 0\n",
        "    y1 = jr.normal(key, data_shape)\n",
        "    # reverse time, solve from t1 to t0\n",
        "    sol = dfx.diffeqsolve(term, solver, t1, t0, -dt0, y1)\n",
        "    return sol.ys[0]"
      ],
      "metadata": {
        "id": "P86wJHrRjSAf"
      },
      "execution_count": 14,
      "outputs": []
    },
    {
      "cell_type": "markdown",
      "source": [
        "### Training Loop"
      ],
      "metadata": {
        "id": "m-BSAfb1Xxk0"
      }
    },
    {
      "cell_type": "code",
      "source": [
        "t1=10.0\n",
        "# Optimisation hyperparameters\n",
        "num_steps=1_000_000\n",
        "lr=3e-4   \n",
        "batch_size= 256\n",
        "print_every= 5_000"
      ],
      "metadata": {
        "id": "3DiMj1uH0l1D"
      },
      "execution_count": 15,
      "outputs": []
    },
    {
      "cell_type": "code",
      "source": [
        "data = emnist()\n",
        "data_mean = jnp.mean(data)\n",
        "data_std = jnp.std(data)\n",
        "data_max = jnp.max(data)\n",
        "data_min = jnp.min(data)\n",
        "data_shape = data.shape[1:]\n",
        "data = (data - data_mean) / data_std"
      ],
      "metadata": {
        "id": "5iqUlNfy0sOj",
        "colab": {
          "base_uri": "https://localhost:8080/"
        },
        "outputId": "8e343890-6190-4685-d1e4-128bc5782379"
      },
      "execution_count": 16,
      "outputs": [
        {
          "output_type": "stream",
          "name": "stderr",
          "text": [
            "Downloading emnist.zip: 536MB [00:05, 101MB/s] \n"
          ]
        }
      ]
    },
    {
      "cell_type": "code",
      "source": [
        "loader_key, train_key, model_key, sample_key = jr.split(key, 4)"
      ],
      "metadata": {
        "id": "ZZtfxUuk1RqG"
      },
      "execution_count": 17,
      "outputs": []
    },
    {
      "cell_type": "code",
      "source": [
        "model_uni = DiT(key = model_key)"
      ],
      "metadata": {
        "id": "5xC1QPWW0xmh"
      },
      "execution_count": 18,
      "outputs": []
    },
    {
      "cell_type": "code",
      "source": [
        "##########\n",
        "### b ####\n",
        "##########\n",
        "def zero_init(weight: jax.Array) -> jax.Array:\n",
        "  zw = jnp.zeros(weight.shape)\n",
        "  return zw\n",
        "\n",
        "def init_zero_weight(block, init_fn, key):\n",
        "  \n",
        "  get_weights = lambda block: [block.adaLN_modulation.layers[1].weight]\n",
        "  weights = get_weights(block)\n",
        "      \n",
        "  new_weights = [init_fn(weight) for weight in weights]\n",
        "  new_block = eqx.tree_at(get_weights, block, new_weights)\n",
        "\n",
        "\n",
        "  return new_block\n",
        "\n",
        "######################################\n",
        "def change_w(model, init_fn, key):\n",
        "  i=0\n",
        "  for _ in model.blocks:\n",
        "    model.blocks[i] = init_zero_weight(model.blocks[i], init_fn, key)\n",
        "\n",
        "    i+=1\n",
        "  #############  \n",
        "  get_weights = lambda m: [m.final_layer.adaLN_modulation.layers[1].weight]\n",
        "  weights = get_weights(model)\n",
        "      \n",
        "  new_weights = [init_fn(weight) for weight in weights]\n",
        "  model = eqx.tree_at(get_weights, model, new_weights)\n",
        "########################\n",
        "  get_weights = lambda m: [m.final_layer.linear.weight]\n",
        "  weights = get_weights(model)\n",
        "      \n",
        "  new_weights = [init_fn(weight) for weight in weights]\n",
        "  model = eqx.tree_at(get_weights, model, new_weights)\n",
        "\n",
        "  return model\n",
        "\n",
        "model = change_w(model_uni, zero_init, key)"
      ],
      "metadata": {
        "id": "rV5rnr7H_mGI"
      },
      "execution_count": 19,
      "outputs": []
    },
    {
      "cell_type": "code",
      "source": [
        "int_beta = lambda t: t  #\n",
        "weight = lambda t: 1 - jnp.exp(-int_beta(t))  "
      ],
      "metadata": {
        "id": "sfqWMuv_01gV"
      },
      "execution_count": 20,
      "outputs": []
    },
    {
      "cell_type": "code",
      "source": [
        "opt = optax.adabelief(lr)\n",
        "\n",
        "opt_state = opt.init(eqx.filter(model, eqx.is_inexact_array))"
      ],
      "metadata": {
        "id": "0gN_Ft5J05yh"
      },
      "execution_count": 21,
      "outputs": []
    },
    {
      "cell_type": "code",
      "source": [
        "from pickle import dump, load\n",
        "lossdict = {}"
      ],
      "metadata": {
        "id": "Ql-c0yhHlop_"
      },
      "execution_count": 22,
      "outputs": []
    },
    {
      "cell_type": "code",
      "source": [
        "total_value = 0\n",
        "total_size = 0\n",
        "for step, data in zip(range(num_steps), dataloader(data, batch_size, key=loader_key)): \n",
        "    value, model, train_key, opt_state = make_step(model, weight, int_beta, data, t1, train_key, opt_state, opt.update)\n",
        "    total_value += value.item()\n",
        "    total_size += 1\n",
        "    if (step % print_every) == 0 or step == num_steps - 1:\n",
        "        print(f\"Step={step} Loss={total_value / total_size}\")\n",
        "        lossdict[step] = (total_value / total_size)\n",
        "        total_value = 0\n",
        "        total_size = 0"
      ],
      "metadata": {
        "id": "HR_WBH2ABNSb",
        "outputId": "785e3a5e-b236-4375-c277-b24e4b8a3ae7",
        "colab": {
          "base_uri": "https://localhost:8080/"
        }
      },
      "execution_count": null,
      "outputs": [
        {
          "output_type": "stream",
          "name": "stdout",
          "text": [
            "Step=0 Loss=0.9991881847381592\n"
          ]
        }
      ]
    },
    {
      "cell_type": "markdown",
      "source": [
        "**Early stopping code**"
      ],
      "metadata": {
        "id": "YBjF8a4Bn-xx"
      }
    },
    {
      "cell_type": "code",
      "source": [
        "# total_value = 0\n",
        "# total_size = 0\n",
        "# losses = [0]\n",
        "# i=0\n",
        "# ls=2\n",
        "\n",
        "\n",
        "# for step, data in zip(range(num_steps), dataloader(data, batch_size, key=loader_key)):\n",
        "#         value, model, train_key, opt_state = make_step(model, weight, int_beta, data, t1, train_key, opt_state, opt.update)\n",
        "#         total_value += value.item()\n",
        "#         total_size += 1\n",
        "\n",
        "#         if (step % print_every) == 0 or step == num_steps - 1:\n",
        "              \n",
        "#             print(f\"Step={step} Loss={total_value / total_size}\")\n",
        "#             lossdict[step] = (total_value / total_size)\n",
        "#             if step != 0 :\n",
        "#                 ls = total_value / total_size\n",
        "#                 if jnp.absolute(ls - losses[i]) > 5e-5:\n",
        "#                     i += 1\n",
        "#                     losses.append(ls)\n",
        "#                 else:\n",
        "#                     print(\"Early stopping intervened\")\n",
        "#                     break\n",
        "#             else:\n",
        "#                 continue\n",
        "#             total_value = 0\n",
        "#             total_size = 0"
      ],
      "metadata": {
        "id": "8rgpank_mx16"
      },
      "execution_count": null,
      "outputs": []
    },
    {
      "cell_type": "markdown",
      "source": [
        "**Save model**"
      ],
      "metadata": {
        "id": "WrfT_WIepFAD"
      }
    },
    {
      "cell_type": "code",
      "source": [
        "eqx.tree_serialise_leaves(\"DiT_emnist.eqx\", model)\n",
        "shutil.copy('/content/DiT_emnist.eqx','/content/gdrive/MyDrive/Colab_Notebooks')"
      ],
      "metadata": {
        "id": "6P4YFNU9niOD",
        "colab": {
          "base_uri": "https://localhost:8080/",
          "height": 36
        },
        "outputId": "e59a9baa-8d00-464f-c518-bcf193c2f5b5"
      },
      "execution_count": null,
      "outputs": [
        {
          "output_type": "execute_result",
          "data": {
            "text/plain": [
              "'/content/gdrive/MyDrive/Colab_Notebooks/DiT_cifar.eqx'"
            ],
            "application/vnd.google.colaboratory.intrinsic+json": {
              "type": "string"
            }
          },
          "metadata": {},
          "execution_count": 20
        }
      ]
    },
    {
      "cell_type": "markdown",
      "source": [
        "**Save losses**"
      ],
      "metadata": {
        "id": "YJ7W2k4Ho4_0"
      }
    },
    {
      "cell_type": "code",
      "source": [
        "with open('./DiT_emnist_losses.pkl', 'wb') as file:\n",
        "    dump(lossdict, file)\n",
        "\n",
        "import shutil\n",
        "shutil.copy('./DiT_emnist_losses.pkl','/content/gdrive/MyDrive/Colab_Notebooks')"
      ],
      "metadata": {
        "id": "uvEnTENqomoY",
        "outputId": "c691e5ea-4cc1-4ed7-c74c-c678f832324d",
        "colab": {
          "base_uri": "https://localhost:8080/",
          "height": 36
        }
      },
      "execution_count": null,
      "outputs": [
        {
          "output_type": "execute_result",
          "data": {
            "text/plain": [
              "'/content/gdrive/MyDrive/Colab_Notebooks/DiT_cifar_losses.pkl'"
            ],
            "application/vnd.google.colaboratory.intrinsic+json": {
              "type": "string"
            }
          },
          "metadata": {},
          "execution_count": 21
        }
      ]
    },
    {
      "cell_type": "markdown",
      "source": [
        "### Sampling"
      ],
      "metadata": {
        "id": "ECNuSDaYgde2"
      }
    },
    {
      "cell_type": "code",
      "source": [
        "sample_size = 6\n",
        "dt0 = 0.1"
      ],
      "metadata": {
        "id": "qBbPr-o6gxB_"
      },
      "execution_count": null,
      "outputs": []
    },
    {
      "cell_type": "code",
      "source": [
        "sample_key = jr.split(sample_key, sample_size**2)\n",
        "sample_fn = ft.partial(single_sample_fn, model, int_beta, data_shape, dt0, t1)\n",
        "sample = jax.vmap(sample_fn)(sample_key)\n",
        "sample = data_mean + data_std * sample\n",
        "sample = jnp.clip(sample, data_min, data_max)\n",
        "sample = einops.rearrange(sample, \"(n1 n2) 1 h w -> (n1 h) (n2 w)\", n1=sample_size, n2=sample_size)\n",
        "plt.imshow(sample, cmap=\"Greys\")\n",
        "plt.axis(\"off\")\n",
        "plt.tight_layout()\n",
        "plt.show()"
      ],
      "metadata": {
        "id": "ooV9oatw-xVv",
        "outputId": "1b2e41c5-6427-49c7-d8a3-313a759fe1c5",
        "colab": {
          "base_uri": "https://localhost:8080/",
          "height": 297
        }
      },
      "execution_count": null,
      "outputs": [
        {
          "output_type": "display_data",
          "data": {
            "text/plain": [
              "<Figure size 432x288 with 1 Axes>"
            ],
            "image/png": "[encoded data removed]"
          },
          "metadata": {
            "needs_background": "light"
          }
        }
      ]
    },
    {
      "cell_type": "code",
      "source": [
        "sample_key = jr.split(sample_key, sample_size**2)\n",
        "sample_fn = ft.partial(single_sample_fn, model, int_beta, data_shape, dt0, t1)\n",
        "sample = jax.vmap(sample_fn)(sample_key)\n",
        "sample = data_mean + data_std * sample\n",
        "sample = jnp.clip(sample, data_min, data_max)\n",
        "sample1 = sample[:, 0, :, :]\n",
        "sample2 = sample[:, 1, :, :]\n",
        "sample3 = sample[:, 2, :, :]\n",
        "   \n",
        "sample1 = einops.rearrange(sample1, \"(n1 n2) h w -> (n1 h) (n2 w) \", n1=sample_size, n2=sample_size)\n",
        "sample2 = einops.rearrange(sample2, \"(n1 n2) h w -> (n1 h) (n2 w) \", n1=sample_size, n2=sample_size)\n",
        "sample3 = einops.rearrange(sample3, \"(n1 n2) h w -> (n1 h) (n2 w) \", n1=sample_size, n2=sample_size)\n",
        "\n",
        "sample1 = sample1[None,:,:]\n",
        "sample2 = sample2[None,:,:]\n",
        "sample3 = sample3[None,:,:]\n",
        "    \n",
        "newsamp = jnp.concatenate([sample1, sample2, sample3])\n",
        "sample = einops.rearrange(newsamp, \"c h w -> h w c\")\n",
        "sample = jnp.array(sample, dtype=int)\n",
        "    \n",
        "    \n",
        "plt.imshow(sample)\n",
        "plt.axis(\"off\")\n",
        "plt.tight_layout()\n",
        "plt.show()\n",
        "     "
      ],
      "metadata": {
        "id": "sas4H60VgWfQ"
      },
      "execution_count": null,
      "outputs": []
    },
    {
      "cell_type": "markdown",
      "source": [
        "**Loss curve**"
      ],
      "metadata": {
        "id": "vp4OHDOUkXkY"
      }
    },
    {
      "cell_type": "code",
      "source": [
        "#test = load(open('./test_to_delete.pkl', 'rb'))\n",
        "\n",
        "import matplotlib.pylab as plt\n",
        "myList = lossdict.items()\n",
        "myList = sorted(myList) \n",
        "x, y = zip(*myList) \n",
        "\n",
        "plt.plot(x, y)\n",
        "plt.show()"
      ],
      "metadata": {
        "id": "ZdFVwID9kZxK",
        "outputId": "6989aff2-8394-43b6-e9f7-4d07ba8863c7",
        "colab": {
          "base_uri": "https://localhost:8080/",
          "height": 265
        }
      },
      "execution_count": null,
      "outputs": [
        {
          "output_type": "display_data",
          "data": {
            "text/plain": [
              "<Figure size 432x288 with 1 Axes>"
            ],
            "image/png": "[encoded data removed]"
          },
          "metadata": {
            "needs_background": "light"
          }
        }
      ]
    },
    {
      "cell_type": "code",
      "source": [
        "a = lossdict.copy()"
      ],
      "metadata": {
        "id": "uQnK3vN2ktZE"
      },
      "execution_count": null,
      "outputs": []
    },
    {
      "cell_type": "code",
      "source": [
        "del a[0]"
      ],
      "metadata": {
        "id": "J62C4B7kk6jh"
      },
      "execution_count": null,
      "outputs": []
    },
    {
      "cell_type": "code",
      "source": [
        "#test = load(open('./test_to_delete.pkl', 'rb'))\n",
        "\n",
        "import matplotlib.pylab as plt\n",
        "myList = a.items()\n",
        "myList = sorted(myList) \n",
        "x, y = zip(*myList) \n",
        "\n",
        "plt.plot(x, y)\n",
        "plt.show()"
      ],
      "metadata": {
        "id": "FgbbYTZmk-_9",
        "outputId": "8e0c30ce-08f1-45b5-e7dd-4094900b6427",
        "colab": {
          "base_uri": "https://localhost:8080/",
          "height": 265
        }
      },
      "execution_count": null,
      "outputs": [
        {
          "output_type": "display_data",
          "data": {
            "text/plain": [
              "<Figure size 432x288 with 1 Axes>"
            ],
            "image/png": "[encoded data removed]"
          },
          "metadata": {
            "needs_background": "light"
          }
        }
      ]
    },
    {
      "cell_type": "markdown",
      "source": [
        "**Load Model**"
      ],
      "metadata": {
        "id": "IHuXyEDuo-uy"
      }
    },
    {
      "cell_type": "code",
      "source": [
        "loaded_model = eqx.tree_deserialise_leaves('/content/gdrive/MyDrive/Colab_Notebooks/DiT_mnist.eqx', model)"
      ],
      "metadata": {
        "id": "xPqaiGVaZ5mQ"
      },
      "execution_count": null,
      "outputs": []
    }
  ]
}