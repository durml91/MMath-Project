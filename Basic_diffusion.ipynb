{
  "nbformat": 4,
  "nbformat_minor": 0,
  "metadata": {
    "colab": {
      "provenance": [],
      "authorship_tag": "ABX9TyN9ll3d9kuyTFCaiG/QK6HH",
      "include_colab_link": true
    },
    "kernelspec": {
      "name": "python3",
      "display_name": "Python 3"
    },
    "language_info": {
      "name": "python"
    }
  },
  "cells": [
    {
      "cell_type": "markdown",
      "metadata": {
        "id": "view-in-github",
        "colab_type": "text"
      },
      "source": [
        "<a href=\"https://colab.research.google.com/github/durml91/Public-share/blob/main/Basic_diffusion.ipynb\" target=\"_parent\"><img src=\"https://colab.research.google.com/assets/colab-badge.svg\" alt=\"Open In Colab\"/></a>"
      ]
    },
    {
      "cell_type": "code",
      "execution_count": 29,
      "metadata": {
        "id": "gd0Ufgfcc4-u"
      },
      "outputs": [],
      "source": [
        "import jax.numpy as jnp\n",
        "import jax\n",
        "from jax.experimental.host_callback import id_print\n",
        "import matplotlib.pyplot as plt\n",
        "from jax.lax import scan\n",
        "from jax import grad, jit, vmap\n",
        "import jax.random as  jr\n",
        "from functools import partial\n",
        "rng = jr.PRNGKey(2023)\n",
        "\n",
        "import scipy\n",
        "\n",
        "import seaborn as sns\n",
        "sns.set_style(\"darkgrid\")\n",
        "cm = sns.color_palette(\"mako_r\", as_cmap=True)"
      ]
    },
    {
      "cell_type": "code",
      "source": [
        "from jax.lib import xla_bridge\n",
        "print(xla_bridge.get_backend().platform)"
      ],
      "metadata": {
        "colab": {
          "base_uri": "https://localhost:8080/"
        },
        "id": "AEQLggVhc9KS",
        "outputId": "aff3f513-8cb4-4fc3-bde5-c9767aea3cac"
      },
      "execution_count": 30,
      "outputs": [
        {
          "output_type": "stream",
          "name": "stdout",
          "text": [
            "cpu\n"
          ]
        }
      ]
    },
    {
      "cell_type": "code",
      "source": [
        "def sample_circle(J):\n",
        "    \n",
        "    alphas = jnp.linspace(0, 2*jnp.pi*(1-1/J), J)\n",
        "    xs = jnp.cos(alphas)\n",
        "    ys = jnp.sin(alphas)\n",
        "    mf = jnp.stack([xs,ys], axis=1) #.stack is the least \"intrusive of the concatenation type functions - just puts the two into a list\n",
        "    \n",
        "    return mf"
      ],
      "metadata": {
        "id": "d2RjxmyUdB-H"
      },
      "execution_count": 31,
      "outputs": []
    },
    {
      "cell_type": "code",
      "source": [
        "J=14\n",
        "mf = sample_circle(J)\n",
        "plt.scatter(mf[:,0], mf[:,1])"
      ],
      "metadata": {
        "colab": {
          "base_uri": "https://localhost:8080/",
          "height": 282
        },
        "id": "Ksgy15Z0dFBL",
        "outputId": "05973278-c4a1-4dd3-bf76-6bbd9fc8921f"
      },
      "execution_count": 32,
      "outputs": [
        {
          "output_type": "execute_result",
          "data": {
            "text/plain": [
              "<matplotlib.collections.PathCollection at 0x7f9ad130c610>"
            ]
          },
          "metadata": {},
          "execution_count": 32
        },
        {
          "output_type": "display_data",
          "data": {
            "text/plain": [
              "<Figure size 432x288 with 1 Axes>"
            ],
            "image/png": "[encoded data removed]"
          },
          "metadata": {}
        }
      ]
    },
    {
      "cell_type": "code",
      "source": [
        "#spiral\n",
        "J=28\n",
        "\n",
        "a = 0.25\n",
        "b = 0.25\n",
        "thetas = jnp.linspace(0, 4*jnp.pi,J) #generates array of number from 0 to 2pi\n",
        "xs = a*jnp.cos(thetas)*jnp.exp(b*thetas)\n",
        "ys = a*jnp.sin(thetas)*jnp.exp(b*thetas)\n",
        "mf = jnp.stack([xs,ys],axis=1)"
      ],
      "metadata": {
        "id": "hUA3HZ1y1vBq"
      },
      "execution_count": 97,
      "outputs": []
    },
    {
      "cell_type": "code",
      "source": [
        "plt.scatter(mf[:,0], mf[:,1])"
      ],
      "metadata": {
        "colab": {
          "base_uri": "https://localhost:8080/",
          "height": 283
        },
        "id": "KfURyN-V5rk8",
        "outputId": "bff3133f-39cd-4fd8-fa9a-dcfc1d82363f"
      },
      "execution_count": 98,
      "outputs": [
        {
          "output_type": "execute_result",
          "data": {
            "text/plain": [
              "<matplotlib.collections.PathCollection at 0x7f9ad0cf3550>"
            ]
          },
          "metadata": {},
          "execution_count": 98
        },
        {
          "output_type": "display_data",
          "data": {
            "text/plain": [
              "<Figure size 432x288 with 1 Axes>"
            ],
            "image/png": "[encoded data removed]"
          },
          "metadata": {}
        }
      ]
    },
    {
      "cell_type": "markdown",
      "source": [
        "Forward part"
      ],
      "metadata": {
        "id": "0WuAluSQdJW1"
      }
    },
    {
      "cell_type": "code",
      "source": [
        "beta_max=3\n",
        "beta_min=0.001\n",
        "\n",
        "\n",
        "def beta_t(t):\n",
        "    return beta_min + t*(beta_max - beta_min)\n",
        "def alpha_t(t):\n",
        "    return t*beta_min + 0.5*(t**2)*(beta_max - beta_min)\n",
        "def drift(x,t):\n",
        "    return -0.5*beta_t(t)*x\n",
        "def dispersion(t):\n",
        "    return jnp.sqrt(beta_t(t))\n",
        "def mean_factor(t):\n",
        "    return jnp.exp(-0.5*alpha_t(t))\n",
        "def var(t):\n",
        "    return 1- jnp.exp(-alpha_t(t))"
      ],
      "metadata": {
        "id": "U1IwrOGBdLIy"
      },
      "execution_count": 33,
      "outputs": []
    },
    {
      "cell_type": "markdown",
      "source": [
        "Monte carlo stuff with the marginals of the distribution"
      ],
      "metadata": {
        "id": "KxktH_GgdOBT"
      }
    },
    {
      "cell_type": "markdown",
      "source": [
        "Stein score function"
      ],
      "metadata": {
        "id": "PlRo_1YWdh9P"
      }
    },
    {
      "cell_type": "code",
      "source": [
        "from jax.scipy.special import logsumexp\n",
        "\n",
        "def log_hat_pt(x,t):\n",
        "    N = mf.shape[0] #get number of observations\n",
        "    \"\"\"calculate transition kernel\"\"\"\n",
        "    means = mf * mean_factor(t)\n",
        "    v = var(t)\n",
        "    #next bit comes from the inside of the normal distribution\n",
        "    exponent = jnp.sum(-(x - means)**2 / (2 * v), axis=1)\n",
        "    return logsumexp(exponent, axis =0, b=1/N) # b is the scaling factor for the exponential term"
      ],
      "metadata": {
        "id": "j5CE55hQdfKZ"
      },
      "execution_count": 34,
      "outputs": []
    },
    {
      "cell_type": "code",
      "source": [
        "\"\"\"Get Stein score\"\"\"\n",
        "nabla_log_hat_pt = jit(vmap(grad(log_hat_pt), in_axes=(0, 0), out_axes=(0)))"
      ],
      "metadata": {
        "id": "8wFyzdrDdmXI"
      },
      "execution_count": 99,
      "outputs": []
    },
    {
      "cell_type": "markdown",
      "source": [
        "Plot vector field"
      ],
      "metadata": {
        "id": "jtaXoc3adoSb"
      }
    },
    {
      "cell_type": "code",
      "source": [
        "\"\"\"helper function\"\"\"\n",
        "\n",
        "def plot_score(score, t, area_min=-1, area_max=1):\n",
        "    #this helper function is here so that we can jit it.\n",
        "    #We can not jit the whole function since plt.quiver cannot\n",
        "    #be jitted\n",
        "    @partial(jit, static_argnums=[0,])\n",
        "    def helper(score, t, area_min, area_max):\n",
        "        x = jnp.linspace(area_min, area_max, 16)\n",
        "        x, y = jnp.meshgrid(x, x)\n",
        "        grid = jnp.stack([x.flatten(), y.flatten()], axis=1)\n",
        "        t = jnp.ones((grid.shape[0], 1)) * t\n",
        "        scores = score(grid, t)\n",
        "        return grid, scores\n",
        "    grid, scores = helper(score, t, area_min, area_max)\n",
        "    plt.quiver(grid[:, 0], grid[:, 1], scores[:, 0], scores[:, 1])\n",
        "\n",
        "plot_score(nabla_log_hat_pt, 0.075, -5, 5)"
      ],
      "metadata": {
        "colab": {
          "base_uri": "https://localhost:8080/",
          "height": 265
        },
        "id": "Tos2WcAzdpqy",
        "outputId": "60252486-0f0d-4223-b377-d678083b0d5d"
      },
      "execution_count": 101,
      "outputs": [
        {
          "output_type": "display_data",
          "data": {
            "text/plain": [
              "<Figure size 432x288 with 1 Axes>"
            ],
            "image/png": "[encoded data removed]"
          },
          "metadata": {}
        }
      ]
    },
    {
      "cell_type": "markdown",
      "source": [
        "Reverse direction"
      ],
      "metadata": {
        "id": "ec1Zpe2Ydsoa"
      }
    },
    {
      "cell_type": "code",
      "source": [
        "#time steps\n",
        "R=1000\n",
        "train_ts = jnp.arange(1, R)/(R-1)"
      ],
      "metadata": {
        "id": "bCWOxoKBdxYj"
      },
      "execution_count": 37,
      "outputs": []
    },
    {
      "cell_type": "code",
      "source": [
        "@partial(jit, static_argnums=[1,2,3,4,5])\n",
        "def reverse_sde(rng, N, n_samples, forward_drift, dispersion, score, ts=train_ts):\n",
        "    \"\"\"\n",
        "    rng: random number generator (JAX rng)\n",
        "    N: dimension in which the reverse SDE runs\n",
        "    N_initial: How many samples from the initial distribution N(0, I), number\n",
        "    forward_drift: drift function of the forward SDE (we implemented it above)\n",
        "    disperion: dispersion function of the forward SDE (we implemented it above)\n",
        "    score: The score function to use as additional drift in the reverse SDE\n",
        "    ts: a discretization {t_i} of [0, T], shape 1d-array\n",
        "    \"\"\"\n",
        "    def f(carry, params): #this function computes the next random variable along the reverse SDE trajectory\n",
        "        t, dt = params\n",
        "        x, rng = carry\n",
        "        rng, step_rng = jr.split(rng)\n",
        "        disp = dispersion(1-t)\n",
        "        t = jnp.ones((x.shape[0], 1)) * t\n",
        "        drift = -forward_drift(x, 1-t) + disp**2 * score(x, 1-t)\n",
        "        noise = jr.normal(step_rng, x.shape)\n",
        "        x = x + dt * drift + jnp.sqrt(dt)*disp*noise #EM scheme\n",
        "        return (x, rng), ()\n",
        "    \n",
        "    rng, step_rng = jr.split(rng)\n",
        "    initial = jr.normal(step_rng, (n_samples, N)) #this generates the standard Gaussian that we sample from in order to start the reverse process\n",
        "    print(initial, initial.shape)\n",
        "    dts = ts[1:] - ts[:-1]\n",
        "    print(dts, dts.shape)\n",
        "    print(ts[:-1])\n",
        "    params = jnp.stack([ts[:-1], dts], axis=1)\n",
        "    print(params, params.shape)\n",
        "    (x, _), _ = scan(f, (initial, rng), params) #scan just iterates over a particular value whilst fixing a state - so here we fix (initial, rng) and apply function f on each element of params\n",
        "    #why do we have the weird x thing - I think it is because scan outputs the fixed state/carry so to be able to extract x we need to output scan like this\n",
        "    #(x, _), _ \n",
        "    return x\n",
        "\n",
        "#params are just a stack (side by side) of the first column being the times and"
      ],
      "metadata": {
        "id": "lrwwx3Z-drHZ"
      },
      "execution_count": 38,
      "outputs": []
    },
    {
      "cell_type": "code",
      "source": [
        "#helper function\n",
        "\n",
        "def plot_heatmap(positions, area_min=-2, area_max=2):\n",
        "    \"\"\"\n",
        "    positions: locations of all particles in R^2, array (J, 2)\n",
        "    area_min: lowest x and y coordinate\n",
        "    area_max: highest x and y coordinate\n",
        "    \n",
        "    will plot a heatmap of all particles in the area [area_min, area_max] x [area_min, area_max]\n",
        "    \"\"\"\n",
        "    def small_kernel(z, area_min, area_max):\n",
        "        a = jnp.linspace(area_min, area_max, 512)\n",
        "        x, y = jnp.meshgrid(a, a)\n",
        "        dist = (x - z[0])**2 + (y - z[1])**2\n",
        "        hm = jnp.exp(-350*dist)\n",
        "        return hm\n",
        "\n",
        "    #again we try to jit most of the code, but use the helper functions\n",
        "    #since we cannot jit all of it because of the plt functions\n",
        "    @jit\n",
        "    def produce_heatmap(positions, area_min, area_max):\n",
        "        return jnp.sum(vmap(small_kernel, in_axes=(0, None, None))(positions, area_min, area_max), axis=0)\n",
        "\n",
        "    hm = produce_heatmap(positions, area_min, area_max) #np.sum(vmap(small_kernel)(to_plot), axis=0)\n",
        "    extent = [area_min, area_max, area_max, area_min]\n",
        "    plt.imshow(hm, cmap=cm, interpolation='nearest', extent=extent)\n",
        "    ax = plt.gca()\n",
        "    ax.invert_yaxis()"
      ],
      "metadata": {
        "id": "9G6grGShdvVd"
      },
      "execution_count": 39,
      "outputs": []
    },
    {
      "cell_type": "code",
      "source": [
        "rng, step_rng = jr.split(rng)\n",
        "samples = reverse_sde(step_rng, 2, 5000, drift, dispersion, nabla_log_hat_pt)\n",
        "#plot_heatmap(samples[:, [0,1]], -3, 3)"
      ],
      "metadata": {
        "colab": {
          "base_uri": "https://localhost:8080/"
        },
        "id": "HUBTuZfbdzTO",
        "outputId": "03491ecb-8ed2-4ce6-dc90-7cfd2cd4d038"
      },
      "execution_count": 40,
      "outputs": [
        {
          "output_type": "stream",
          "name": "stdout",
          "text": [
            "Traced<ShapedArray(float32[5000,2])>with<DynamicJaxprTrace(level=0/1)> (5000, 2)\n",
            "Traced<ShapedArray(float32[998])>with<DynamicJaxprTrace(level=0/1)> (998,)\n",
            "Traced<ShapedArray(float32[998])>with<DynamicJaxprTrace(level=0/1)>\n",
            "Traced<ShapedArray(float32[998,2])>with<DynamicJaxprTrace(level=0/1)> (998, 2)\n"
          ]
        }
      ]
    },
    {
      "cell_type": "code",
      "source": [
        "samples = reverse_sde(step_rng, 2, 5000, drift, dispersion, nabla_log_hat_pt)"
      ],
      "metadata": {
        "id": "QULPwjeYd3LA"
      },
      "execution_count": 41,
      "outputs": []
    },
    {
      "cell_type": "markdown",
      "source": [
        "Bounded perturbation - basically add 1 to the score"
      ],
      "metadata": {
        "id": "ubVrmXIMd5yA"
      }
    },
    {
      "cell_type": "code",
      "source": [
        "perturbed_score = lambda x, t: nabla_log_hat_pt(x, t) + 1\n",
        "rng, step_rng = jr.split(rng)\n",
        "samples = reverse_sde(step_rng, 2, 5000, drift, dispersion, perturbed_score)\n",
        "#plot_heatmap(samples[:, [0,1]], -3, 3)"
      ],
      "metadata": {
        "colab": {
          "base_uri": "https://localhost:8080/"
        },
        "id": "O-CI_OSWd4_c",
        "outputId": "7592b1ac-dbef-450f-a54e-39aecfa83ca1"
      },
      "execution_count": 102,
      "outputs": [
        {
          "output_type": "stream",
          "name": "stdout",
          "text": [
            "Traced<ShapedArray(float32[5000,2])>with<DynamicJaxprTrace(level=0/1)> (5000, 2)\n",
            "Traced<ShapedArray(float32[998])>with<DynamicJaxprTrace(level=0/1)> (998,)\n",
            "Traced<ShapedArray(float32[998])>with<DynamicJaxprTrace(level=0/1)>\n",
            "Traced<ShapedArray(float32[998,2])>with<DynamicJaxprTrace(level=0/1)> (998, 2)\n"
          ]
        }
      ]
    },
    {
      "cell_type": "markdown",
      "source": [
        "Training"
      ],
      "metadata": {
        "id": "sEI79rRcd_Ue"
      }
    },
    {
      "cell_type": "code",
      "source": [
        "!pip install flax"
      ],
      "metadata": {
        "colab": {
          "base_uri": "https://localhost:8080/"
        },
        "id": "E-fxBCVEeDio",
        "outputId": "a3b7301c-c73e-4aeb-dfa0-eca2fc301455"
      },
      "execution_count": 43,
      "outputs": [
        {
          "output_type": "stream",
          "name": "stdout",
          "text": [
            "Looking in indexes: https://pypi.org/simple, https://us-python.pkg.dev/colab-wheels/public/simple/\n",
            "Requirement already satisfied: flax in /usr/local/lib/python3.8/dist-packages (0.6.4)\n",
            "Requirement already satisfied: orbax in /usr/local/lib/python3.8/dist-packages (from flax) (0.1.1)\n",
            "Requirement already satisfied: numpy>=1.12 in /usr/local/lib/python3.8/dist-packages (from flax) (1.21.6)\n",
            "Requirement already satisfied: typing-extensions>=4.1.1 in /usr/local/lib/python3.8/dist-packages (from flax) (4.4.0)\n",
            "Requirement already satisfied: optax in /usr/local/lib/python3.8/dist-packages (from flax) (0.1.4)\n",
            "Requirement already satisfied: msgpack in /usr/local/lib/python3.8/dist-packages (from flax) (1.0.4)\n",
            "Requirement already satisfied: jax>=0.3.16 in /usr/local/lib/python3.8/dist-packages (from flax) (0.3.25)\n",
            "Requirement already satisfied: PyYAML>=5.4.1 in /usr/local/lib/python3.8/dist-packages (from flax) (6.0)\n",
            "Requirement already satisfied: tensorstore in /usr/local/lib/python3.8/dist-packages (from flax) (0.1.31)\n",
            "Requirement already satisfied: rich>=11.1 in /usr/local/lib/python3.8/dist-packages (from flax) (13.3.1)\n",
            "Requirement already satisfied: matplotlib in /usr/local/lib/python3.8/dist-packages (from flax) (3.2.2)\n",
            "Requirement already satisfied: scipy>=1.5 in /usr/local/lib/python3.8/dist-packages (from jax>=0.3.16->flax) (1.7.3)\n",
            "Requirement already satisfied: opt-einsum in /usr/local/lib/python3.8/dist-packages (from jax>=0.3.16->flax) (3.3.0)\n",
            "Requirement already satisfied: markdown-it-py<3.0.0,>=2.1.0 in /usr/local/lib/python3.8/dist-packages (from rich>=11.1->flax) (2.1.0)\n",
            "Requirement already satisfied: pygments<3.0.0,>=2.14.0 in /usr/local/lib/python3.8/dist-packages (from rich>=11.1->flax) (2.14.0)\n",
            "Requirement already satisfied: python-dateutil>=2.1 in /usr/local/lib/python3.8/dist-packages (from matplotlib->flax) (2.8.2)\n",
            "Requirement already satisfied: pyparsing!=2.0.4,!=2.1.2,!=2.1.6,>=2.0.1 in /usr/local/lib/python3.8/dist-packages (from matplotlib->flax) (3.0.9)\n",
            "Requirement already satisfied: cycler>=0.10 in /usr/local/lib/python3.8/dist-packages (from matplotlib->flax) (0.11.0)\n",
            "Requirement already satisfied: kiwisolver>=1.0.1 in /usr/local/lib/python3.8/dist-packages (from matplotlib->flax) (1.4.4)\n",
            "Requirement already satisfied: jaxlib>=0.1.37 in /usr/local/lib/python3.8/dist-packages (from optax->flax) (0.3.25+cuda11.cudnn805)\n",
            "Requirement already satisfied: absl-py>=0.7.1 in /usr/local/lib/python3.8/dist-packages (from optax->flax) (1.4.0)\n",
            "Requirement already satisfied: chex>=0.1.5 in /usr/local/lib/python3.8/dist-packages (from optax->flax) (0.1.5)\n",
            "Requirement already satisfied: cached_property in /usr/local/lib/python3.8/dist-packages (from orbax->flax) (1.5.2)\n",
            "Requirement already satisfied: etils in /usr/local/lib/python3.8/dist-packages (from orbax->flax) (1.0.0)\n",
            "Requirement already satisfied: importlib_resources in /usr/local/lib/python3.8/dist-packages (from orbax->flax) (5.10.2)\n",
            "Requirement already satisfied: toolz>=0.9.0 in /usr/local/lib/python3.8/dist-packages (from chex>=0.1.5->optax->flax) (0.12.0)\n",
            "Requirement already satisfied: dm-tree>=0.1.5 in /usr/local/lib/python3.8/dist-packages (from chex>=0.1.5->optax->flax) (0.1.8)\n",
            "Requirement already satisfied: mdurl~=0.1 in /usr/local/lib/python3.8/dist-packages (from markdown-it-py<3.0.0,>=2.1.0->rich>=11.1->flax) (0.1.2)\n",
            "Requirement already satisfied: six>=1.5 in /usr/local/lib/python3.8/dist-packages (from python-dateutil>=2.1->matplotlib->flax) (1.15.0)\n",
            "Requirement already satisfied: zipp>=3.1.0 in /usr/local/lib/python3.8/dist-packages (from importlib_resources->orbax->flax) (3.12.0)\n"
          ]
        }
      ]
    },
    {
      "cell_type": "code",
      "source": [
        "import flax.linen as nn\n",
        "\n",
        "class ApproximateScore(nn.Module):\n",
        "    \n",
        "    @nn.compact\n",
        "    def __call__(self,x,t):\n",
        "        in_size = x.shape[1]\n",
        "        n_hidden = 256\n",
        "        act = nn.relu\n",
        "        t = jnp.concatenate([t-0.5, jnp.cos(2*jnp.pi*t)],axis=1)\n",
        "        x=jnp.concatenate([x,t], axis=1)\n",
        "        x = nn.Dense(n_hidden)(x)\n",
        "        x = nn.relu(x)\n",
        "        x = nn.Dense(n_hidden)(x)\n",
        "        x = nn.relu(x)\n",
        "        x = nn.Dense(n_hidden)(x)\n",
        "        x = nn.relu(x)\n",
        "        x = nn.Dense(in_size)(x)\n",
        "        return x\n",
        "        "
      ],
      "metadata": {
        "id": "eJNDGcGvd-Rn"
      },
      "execution_count": 44,
      "outputs": []
    },
    {
      "cell_type": "markdown",
      "source": [
        "Initialise"
      ],
      "metadata": {
        "id": "UmZkrUTdzbDm"
      }
    },
    {
      "cell_type": "code",
      "source": [
        "import optax\n",
        "\n",
        "batch_size = 28\n",
        "\n",
        "x = jnp.zeros(2*batch_size).reshape((batch_size, 2))\n",
        "time = jnp.ones((batch_size, 1))\n",
        "\n",
        "score_model = ApproximateScore()\n",
        "params = score_model.init(rng, x, time)\n",
        "\n",
        "optimiser = optax.adam(1e-3)\n",
        "opt_state = optimiser.init(params)"
      ],
      "metadata": {
        "id": "8zWI2sHPeJhl"
      },
      "execution_count": 103,
      "outputs": []
    },
    {
      "cell_type": "markdown",
      "source": [
        "Loss"
      ],
      "metadata": {
        "id": "A5yPLGunfKaw"
      }
    },
    {
      "cell_type": "code",
      "source": [
        "def loss_fn(params, model, rng, batch):\n",
        "  rng, step_rng = jr.split(rng)\n",
        "  N_batch = batch.shape[0]\n",
        "  t = jr.randint(step_rng, (N_batch,1), 1, R)/(R-1) #random uniform values\n",
        "  mean_coeff = mean_factor(t)\n",
        "  vs = var(t)\n",
        "  stds = jnp.sqrt(vs)\n",
        "  rng, step_rng = jr.split(rng)\n",
        "  noise = jr.normal(step_rng, batch.shape)\n",
        "  xt = batch * mean_coeff + noise *stds # here we only need the forward process so we calculate value\n",
        "  output = score_model.apply(params, xt,t)\n",
        "  loss = jnp.mean((noise + output*vs)**2) #weird noise loss from DDPMs\n",
        "  return loss\n"
      ],
      "metadata": {
        "id": "MMNLtxA0fMBc"
      },
      "execution_count": 46,
      "outputs": []
    },
    {
      "cell_type": "markdown",
      "source": [
        "Update_step"
      ],
      "metadata": {
        "id": "tbv8rWCCzdBC"
      }
    },
    {
      "cell_type": "code",
      "source": [
        "@partial(jit, static_argnums=[4])\n",
        "def update_step(params, rng, batch, opt_state, model):\n",
        "    val, grads = jax.value_and_grad(loss_fn)(params, model, rng, batch) #backprop step\n",
        "    updates, opt_state = optimiser.update(grads, opt_state)# equivalent to SGD step\n",
        "    params = optax.apply_updates(params, updates) #update network's parameters\n",
        "    return val, params, opt_state"
      ],
      "metadata": {
        "id": "jfyumPHUzekv"
      },
      "execution_count": 51,
      "outputs": []
    },
    {
      "cell_type": "markdown",
      "source": [
        "Training"
      ],
      "metadata": {
        "id": "MAxqFN68ytm3"
      }
    },
    {
      "cell_type": "code",
      "source": [
        "N_epochs = 10_000\n",
        "train_size = mf.shape[0]\n",
        "batch_size = 5\n",
        "batch_size = min(train_size, batch_size)\n",
        "steps_per_epoch = train_size // batch_size\n",
        "for k in range(N_epochs):\n",
        "    rng, step_rng = jr.split(rng)\n",
        "    perms = jr.permutation(step_rng, train_size)\n",
        "    perms = perms[:steps_per_epoch * batch_size]  # skip incomplete batch\n",
        "    perms = perms.reshape((steps_per_epoch, batch_size))\n",
        "    losses = []\n",
        "    for perm in perms:\n",
        "        batch = mf[perm, :]\n",
        "        rng, step_rng = jr.split(rng)\n",
        "        loss, params, opt_state = update_step(params, step_rng, batch, opt_state, score_model)\n",
        "        losses.append(loss)\n",
        "    mean_loss = jnp.mean(jnp.array(losses))\n",
        "    if k % 1000 == 0:\n",
        "        print(\"Epoch %d \\t, Loss %f \" % (k, mean_loss))"
      ],
      "metadata": {
        "colab": {
          "base_uri": "https://localhost:8080/"
        },
        "id": "f0uWjzZByr_q",
        "outputId": "f30d6d54-b531-483a-8368-2c50d9314d2d"
      },
      "execution_count": 108,
      "outputs": [
        {
          "output_type": "stream",
          "name": "stdout",
          "text": [
            "Epoch 0 \t, Loss 0.612704 \n",
            "Epoch 1000 \t, Loss 0.640568 \n",
            "Epoch 2000 \t, Loss 0.408529 \n",
            "Epoch 3000 \t, Loss 0.515167 \n",
            "Epoch 4000 \t, Loss 0.385057 \n",
            "Epoch 5000 \t, Loss 0.716800 \n",
            "Epoch 6000 \t, Loss 0.465480 \n",
            "Epoch 7000 \t, Loss 0.533514 \n",
            "Epoch 8000 \t, Loss 0.496508 \n",
            "Epoch 9000 \t, Loss 0.536309 \n"
          ]
        }
      ]
    },
    {
      "cell_type": "markdown",
      "source": [
        "Results"
      ],
      "metadata": {
        "id": "MhjnvO470bn0"
      }
    },
    {
      "cell_type": "code",
      "source": [
        "trained_score = lambda x, t: score_model.apply(params, x, t)\n",
        "rng, step_rng = jr.split(rng)\n",
        "samples = reverse_sde(step_rng, 2, 1000, drift, dispersion, trained_score)\n",
        "plot_heatmap(samples)"
      ],
      "metadata": {
        "colab": {
          "base_uri": "https://localhost:8080/",
          "height": 338
        },
        "id": "4mhJhsw-ysC2",
        "outputId": "2b339665-37f5-408a-b00e-abcb94bee041"
      },
      "execution_count": 57,
      "outputs": [
        {
          "output_type": "stream",
          "name": "stdout",
          "text": [
            "Traced<ShapedArray(float32[1000,2])>with<DynamicJaxprTrace(level=0/1)> (1000, 2)\n",
            "Traced<ShapedArray(float32[998])>with<DynamicJaxprTrace(level=0/1)> (998,)\n",
            "Traced<ShapedArray(float32[998])>with<DynamicJaxprTrace(level=0/1)>\n",
            "Traced<ShapedArray(float32[998,2])>with<DynamicJaxprTrace(level=0/1)> (998, 2)\n"
          ]
        },
        {
          "output_type": "display_data",
          "data": {
            "text/plain": [
              "<Figure size 432x288 with 1 Axes>"
            ],
            "image/png": "[encoded data removed]"
          },
          "metadata": {}
        }
      ]
    },
    {
      "cell_type": "code",
      "source": [
        "trained_score = lambda x, t: score_model.apply(params, x, t)\n",
        "rng, step_rng = jr.split(rng)\n",
        "samples = reverse_sde(step_rng, 2, 1000, drift, dispersion, trained_score)\n",
        "plot_heatmap(samples)"
      ],
      "metadata": {
        "colab": {
          "base_uri": "https://localhost:8080/",
          "height": 338
        },
        "id": "moEiU3_z82xX",
        "outputId": "fdd718b0-3b53-47c8-d5d2-e4b3ef3c9131"
      },
      "execution_count": 109,
      "outputs": [
        {
          "output_type": "stream",
          "name": "stdout",
          "text": [
            "Traced<ShapedArray(float32[1000,2])>with<DynamicJaxprTrace(level=0/1)> (1000, 2)\n",
            "Traced<ShapedArray(float32[998])>with<DynamicJaxprTrace(level=0/1)> (998,)\n",
            "Traced<ShapedArray(float32[998])>with<DynamicJaxprTrace(level=0/1)>\n",
            "Traced<ShapedArray(float32[998,2])>with<DynamicJaxprTrace(level=0/1)> (998, 2)\n"
          ]
        },
        {
          "output_type": "display_data",
          "data": {
            "text/plain": [
              "<Figure size 432x288 with 1 Axes>"
            ],
            "image/png": "[encoded data removed]"
          },
          "metadata": {}
        }
      ]
    }
  ]
}