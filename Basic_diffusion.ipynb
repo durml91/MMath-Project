{
  "cells": [
    {
      "cell_type": "markdown",
      "metadata": {
        "id": "view-in-github",
        "colab_type": "text"
      },
      "source": [
        "<a href=\"https://colab.research.google.com/github/durml91/MMath-Project/blob/main/Basic_diffusion.ipynb\" target=\"_parent\"><img src=\"https://colab.research.google.com/assets/colab-badge.svg\" alt=\"Open In Colab\"/></a>"
      ]
    },
    {
      "cell_type": "code",
      "execution_count": null,
      "metadata": {
        "id": "Fe39CCTTiyx-"
      },
      "outputs": [],
      "source": [
        "!pip install flax\n",
        "!pip install optax"
      ]
    },
    {
      "cell_type": "markdown",
      "metadata": {
        "id": "-mpKVXGaLyDm"
      },
      "source": [
        "### Imports"
      ]
    },
    {
      "cell_type": "code",
      "execution_count": 29,
      "metadata": {
        "id": "gd0Ufgfcc4-u"
      },
      "outputs": [],
      "source": [
        "import jax.numpy as jnp\n",
        "import jax\n",
        "from jax.experimental.host_callback import id_print\n",
        "import matplotlib.pyplot as plt\n",
        "from jax.lax import scan\n",
        "from jax import grad, jit, vmap\n",
        "import jax.random as  jr\n",
        "from functools import partial\n",
        "rng = jr.PRNGKey(2023)\n",
        "\n",
        "import scipy\n",
        "\n",
        "import seaborn as sns\n",
        "sns.set_style(\"darkgrid\")\n",
        "cm = sns.color_palette(\"mako_r\", as_cmap=True)"
      ]
    },
    {
      "cell_type": "code",
      "execution_count": 30,
      "metadata": {
        "colab": {
          "base_uri": "https://localhost:8080/"
        },
        "id": "AEQLggVhc9KS",
        "outputId": "76fa0adc-2d57-4858-a66c-c3413ffaa611"
      },
      "outputs": [
        {
          "output_type": "stream",
          "name": "stdout",
          "text": [
            "gpu\n"
          ]
        }
      ],
      "source": [
        "from jax.lib import xla_bridge\n",
        "print(xla_bridge.get_backend().platform)"
      ]
    },
    {
      "cell_type": "markdown",
      "metadata": {
        "id": "IqPzRvGsL3SS"
      },
      "source": [
        "### Data loading"
      ]
    },
    {
      "cell_type": "markdown",
      "metadata": {
        "id": "NqVb0ENANWO-"
      },
      "source": [
        "#### Circle"
      ]
    },
    {
      "cell_type": "code",
      "execution_count": 31,
      "metadata": {
        "id": "d2RjxmyUdB-H"
      },
      "outputs": [],
      "source": [
        "def sample_circle(J):\n",
        "    \n",
        "    alphas = jnp.linspace(0, 2*jnp.pi*(1-1/J), J)\n",
        "    xs = jnp.cos(alphas)\n",
        "    ys = jnp.sin(alphas)\n",
        "    mf = jnp.stack([xs,ys], axis=1) #.stack is the least \"intrusive of the concatenation type functions - just puts the two into a list\n",
        "    \n",
        "    return mf"
      ]
    },
    {
      "cell_type": "code",
      "execution_count": 32,
      "metadata": {
        "colab": {
          "base_uri": "https://localhost:8080/",
          "height": 283
        },
        "id": "Ksgy15Z0dFBL",
        "outputId": "1b2fb41d-a5d0-4011-f89f-4b58563bd008"
      },
      "outputs": [
        {
          "output_type": "execute_result",
          "data": {
            "text/plain": [
              "<matplotlib.collections.PathCollection at 0x7f7e403c44f0>"
            ]
          },
          "metadata": {},
          "execution_count": 32
        },
        {
          "output_type": "display_data",
          "data": {
            "text/plain": [
              "<Figure size 432x288 with 1 Axes>"
            ],
            "image/png": "[encoded data removed]"
          },
          "metadata": {}
        }
      ],
      "source": [
        "J=14\n",
        "mf = sample_circle(J)\n",
        "plt.scatter(mf[:,0], mf[:,1])"
      ]
    },
    {
      "cell_type": "markdown",
      "metadata": {
        "id": "ZwuB-paJNZPH"
      },
      "source": [
        "#### Spiral"
      ]
    },
    {
      "cell_type": "code",
      "execution_count": 33,
      "metadata": {
        "id": "hUA3HZ1y1vBq"
      },
      "outputs": [],
      "source": [
        "J1=10\n",
        "\n",
        "a = 1\n",
        "b = 0.1\n",
        "thetas = jnp.linspace(0, 2*jnp.pi,J1) #generates array of number from 0 to 2pi\n",
        "xs = a*jnp.cos(thetas)*jnp.exp(b*thetas)\n",
        "ys = a*jnp.sin(thetas)*jnp.exp(b*thetas)\n",
        "\n",
        "mf = jnp.stack([xs,ys],axis=1)\n",
        "###########################################\n",
        "J2=20\n",
        "thetas2 = jnp.linspace(2*jnp.pi, 4*jnp.pi,J2) #generates array of number from 0 to 2pi\n",
        "xs2 = a*jnp.cos(thetas2)*jnp.exp(b*thetas2)\n",
        "ys2 = a*jnp.sin(thetas2)*jnp.exp(b*thetas2)\n",
        "\n",
        "mf2 = jnp.stack([xs2,ys2],axis=1)\n",
        "###########################################\n",
        "J3=30\n",
        "thetas3 = jnp.linspace(4*jnp.pi, 6*jnp.pi,J3) #generates array of number from 0 to 2pi\n",
        "xs3 = a*jnp.cos(thetas3)*jnp.exp(b*thetas3)\n",
        "ys3 = a*jnp.sin(thetas3)*jnp.exp(b*thetas3)\n",
        "\n",
        "mf3 = jnp.stack([xs3,ys3] ,axis=1)\n",
        "##########################################\n",
        "mf = jnp.concatenate([mf,mf2, mf3], axis=0)"
      ]
    },
    {
      "cell_type": "code",
      "execution_count": 34,
      "metadata": {
        "id": "KfURyN-V5rk8",
        "colab": {
          "base_uri": "https://localhost:8080/",
          "height": 283
        },
        "outputId": "7d2e0c9c-d142-44ee-d0e9-9cba609eeeaa"
      },
      "outputs": [
        {
          "output_type": "execute_result",
          "data": {
            "text/plain": [
              "<matplotlib.collections.PathCollection at 0x7f7e401761f0>"
            ]
          },
          "metadata": {},
          "execution_count": 34
        },
        {
          "output_type": "display_data",
          "data": {
            "text/plain": [
              "<Figure size 432x288 with 1 Axes>"
            ],
            "image/png": "[encoded data removed]"
          },
          "metadata": {}
        }
      ],
      "source": [
        "plt.scatter(mf[:,0], mf[:,1])"
      ]
    },
    {
      "cell_type": "markdown",
      "metadata": {
        "id": "0WuAluSQdJW1"
      },
      "source": [
        "### Forward DE"
      ]
    },
    {
      "cell_type": "code",
      "execution_count": 35,
      "metadata": {
        "id": "U1IwrOGBdLIy"
      },
      "outputs": [],
      "source": [
        "beta_max=3\n",
        "beta_min=0.001\n",
        "\n",
        "\n",
        "def beta_t(t):\n",
        "    return beta_min + t*(beta_max - beta_min)\n",
        "def alpha_t(t):\n",
        "    return t*beta_min + 0.5*(t**2)*(beta_max - beta_min)\n",
        "def drift(x,t):\n",
        "    return -0.5*beta_t(t)*x\n",
        "def dispersion(t):\n",
        "    return jnp.sqrt(beta_t(t))\n",
        "def mean_factor(t):\n",
        "    return jnp.exp(-0.5*alpha_t(t))\n",
        "def var(t):\n",
        "    return 1- jnp.exp(-alpha_t(t))"
      ]
    },
    {
      "cell_type": "markdown",
      "metadata": {
        "id": "KxktH_GgdOBT"
      },
      "source": [
        "Monte carlo stuff with the marginals of the distribution"
      ]
    },
    {
      "cell_type": "markdown",
      "metadata": {
        "id": "PlRo_1YWdh9P"
      },
      "source": [
        "### Stein score function"
      ]
    },
    {
      "cell_type": "markdown",
      "metadata": {
        "id": "d6dr9PtW4vQ7"
      },
      "source": [
        "Important thing to note here is the transition kernel of the OH process, namely: $p_{t|0}(x_{t}|x_{0}) = \\mathcal{N}(\\exp(-\\frac{1}{2}t)\\boldsymbol{x}_{0}, (1-\\exp(-t))\\boldsymbol{I})$  - so we are just group mf together but think of the vector as in $\\mathbb{R}^2$. Here this is basically some weird sample marginalisation."
      ]
    },
    {
      "cell_type": "code",
      "execution_count": 36,
      "metadata": {
        "id": "j5CE55hQdfKZ"
      },
      "outputs": [],
      "source": [
        "from jax.scipy.special import logsumexp\n",
        "\n",
        "def log_hat_pt(x,t):\n",
        "    N = mf.shape[0] #get number of observations\n",
        "    \"\"\"calculate transition kernel\"\"\"\n",
        "    means = mf * mean_factor(t)\n",
        "    v = var(t)\n",
        "    #next bit comes from the inside of the normal distribution\n",
        "    exponent = jnp.sum(-(x - means)**2 / (2 * v), axis=1)\n",
        "    return logsumexp(exponent, axis =0, b=1/N) # b is the scaling factor for the exponential term"
      ]
    },
    {
      "cell_type": "code",
      "execution_count": 37,
      "metadata": {
        "id": "8wFyzdrDdmXI"
      },
      "outputs": [],
      "source": [
        "\"\"\"Get Stein score\"\"\"\n",
        "nabla_log_hat_pt = jit(vmap(grad(log_hat_pt), in_axes=(0, 0), out_axes=(0)))"
      ]
    },
    {
      "cell_type": "markdown",
      "metadata": {
        "id": "jtaXoc3adoSb"
      },
      "source": [
        "#### Plot vector field"
      ]
    },
    {
      "cell_type": "code",
      "execution_count": 38,
      "metadata": {
        "id": "Tos2WcAzdpqy"
      },
      "outputs": [],
      "source": [
        "\"\"\"helper function\"\"\"\n",
        "\n",
        "def plot_score(score, t, area_min=-1, area_max=1):\n",
        "    #this helper function is here so that we can jit it.\n",
        "    #We can not jit the whole function since plt.quiver cannot\n",
        "    #be jitted\n",
        "    @partial(jit, static_argnums=[0,])\n",
        "    def helper(score, t, area_min, area_max):\n",
        "        x = jnp.linspace(area_min, area_max, 16)\n",
        "        x, y = jnp.meshgrid(x, x)\n",
        "        grid = jnp.stack([x.flatten(), y.flatten()], axis=1)\n",
        "        t = jnp.ones((grid.shape[0], 1)) * t\n",
        "        scores = score(grid, t)\n",
        "        return grid, scores\n",
        "    grid, scores = helper(score, t, area_min, area_max)\n",
        "    plt.quiver(grid[:, 0], grid[:, 1], scores[:, 0], scores[:, 1])"
      ]
    },
    {
      "cell_type": "code",
      "execution_count": 39,
      "metadata": {
        "colab": {
          "base_uri": "https://localhost:8080/",
          "height": 265
        },
        "id": "pcBfNkmJEzV1",
        "outputId": "2af693e2-68be-46fa-f60b-69c58281f315"
      },
      "outputs": [
        {
          "output_type": "display_data",
          "data": {
            "text/plain": [
              "<Figure size 432x288 with 1 Axes>"
            ],
            "image/png": "[encoded data removed]"
          },
          "metadata": {}
        }
      ],
      "source": [
        "plot_score(nabla_log_hat_pt, 0.25, -5, 5)"
      ]
    },
    {
      "cell_type": "markdown",
      "metadata": {
        "id": "ec1Zpe2Ydsoa"
      },
      "source": [
        "### Reverse DE"
      ]
    },
    {
      "cell_type": "markdown",
      "metadata": {
        "id": "KbrKw-wfN1JT"
      },
      "source": [
        "Time-steps"
      ]
    },
    {
      "cell_type": "code",
      "execution_count": 40,
      "metadata": {
        "id": "bCWOxoKBdxYj"
      },
      "outputs": [],
      "source": [
        "R=1000\n",
        "train_ts = jnp.arange(1, R)/(R-1)"
      ]
    },
    {
      "cell_type": "markdown",
      "metadata": {
        "id": "d3Wtq2egfsDD"
      },
      "source": [
        "Reverse SDE"
      ]
    },
    {
      "cell_type": "code",
      "execution_count": 41,
      "metadata": {
        "id": "lrwwx3Z-drHZ"
      },
      "outputs": [],
      "source": [
        "@partial(jit, static_argnums=[1,2,3,4,5])\n",
        "def reverse_sde(rng, N, n_samples, forward_drift, dispersion, score, ts=train_ts):\n",
        "    \"\"\"\n",
        "    rng: random number generator (JAX rng)\n",
        "    N: dimension in which the reverse SDE runs\n",
        "    N_initial: How many samples from the initial distribution N(0, I), number\n",
        "    forward_drift: drift function of the forward SDE (we implemented it above)\n",
        "    disperion: dispersion function of the forward SDE (we implemented it above)\n",
        "    score: The score function to use as additional drift in the reverse SDE\n",
        "    ts: a discretization {t_i} of [0, T], shape 1d-array\n",
        "    \"\"\"\n",
        "    def f(carry, params): #this function computes the next random variable along the reverse SDE trajectory\n",
        "        t, dt = params\n",
        "        x, rng = carry\n",
        "        rng, step_rng = jr.split(rng)\n",
        "        disp = dispersion(1-t)\n",
        "      \n",
        "        t = jnp.ones((x.shape[0], 1)) * t\n",
        "        \n",
        "        drift = -forward_drift(x, 1-t) + disp**2 * score(x, 1-t)\n",
        "        noise = jr.normal(step_rng, x.shape)\n",
        "        x = x + dt * drift + jnp.sqrt(dt)*disp*noise #EM scheme\n",
        "        return (x, rng), ()\n",
        "    \n",
        "    rng, step_rng = jr.split(rng)\n",
        "    initial = jr.normal(step_rng, (n_samples, N)) #this generates the standard Gaussian that we sample from in order to start the reverse process\n",
        "    dts = ts[1:] - ts[:-1]\n",
        "    params = jnp.stack([ts[:-1], dts], axis=1)\n",
        "    (x, _), _ = scan(f, (initial, rng), params) \n",
        "    \n",
        "    #scan just iterates over a particular value whilst fixing a state - so here we fix (initial, rng) and apply function f on each element of params\n",
        "    #so it's almost as if we take one row at a time from the stack, hence t and dt will be singular values\n",
        "    #why do we have the weird x thing - I think it is because scan outputs the fixed state/carry so to be able to extract x we need to output scan like this\n",
        "    #(x, _), _ \n",
        "    return x\n",
        "\n",
        "#params are just a stack (side by side) of the first column being the times and"
      ]
    },
    {
      "cell_type": "code",
      "source": [
        "trained_score = lambda x, t: score_model.apply(params, x, t)"
      ],
      "metadata": {
        "id": "1c2dTtkL2PxG"
      },
      "execution_count": 42,
      "outputs": []
    },
    {
      "cell_type": "code",
      "source": [
        "t=jr.randint(rng, (1,),0,10)"
      ],
      "metadata": {
        "id": "b4XeDOOK3aWY"
      },
      "execution_count": null,
      "outputs": []
    },
    {
      "cell_type": "code",
      "source": [
        "t"
      ],
      "metadata": {
        "id": "fRHR8vRx3bOz"
      },
      "execution_count": null,
      "outputs": []
    },
    {
      "cell_type": "code",
      "source": [
        "t=jr.randint(rng, (10,2),0,10)\n",
        "x = jr.normal(rng, (10, 2))\n",
        "trained_score(x, 1-t)"
      ],
      "metadata": {
        "id": "WB_n4ytEw5Zs"
      },
      "execution_count": null,
      "outputs": []
    },
    {
      "cell_type": "markdown",
      "metadata": {
        "id": "oTrUKnjzfyHU"
      },
      "source": [
        "Reverse ODE"
      ]
    },
    {
      "cell_type": "code",
      "execution_count": null,
      "metadata": {
        "id": "W67ZzAHoJNeX"
      },
      "outputs": [],
      "source": [
        "\n",
        "def reverse_ode(rng, N, n_samples, beta_t, score, ts=train_ts):\n",
        "    def f(carry, params): #this function computes the next random variable along the reverse SDE trajectory\n",
        "        t, dt = params\n",
        "        x = carry\n",
        "        t = jnp.ones((x.shape[0], 1)) * t\n",
        "        x = x + dt*(-0.5*beta_t(1-t)*x + score(x,1-t))\n",
        "        return (x), ()\n",
        "    \n",
        "    initial = jr.normal(rng, (n_samples, N)) #this generates the standard Gaussian that we sample from in order to start the reverse process\n",
        "    dts = ts[1:] - ts[:-1]\n",
        "    params = jnp.stack([ts[:-1], dts], axis=1)\n",
        "    (x), _ = scan(f, initial, params) #scan just iterates over a particular value whilst fixing a state - so here we fix (initial, rng) and apply function f on each element of params\n",
        "    #why do we have the weird x thing - I think it is because scan outputs the fixed state/carry so to be able to extract x we need to output scan like this\n",
        "    #(x, _), _ \n",
        "    return x\n",
        "\n",
        "#params are just a stack (side by side) of the first column being the times and"
      ]
    },
    {
      "cell_type": "code",
      "execution_count": null,
      "metadata": {
        "id": "Kqw4HuZNMlj3"
      },
      "outputs": [],
      "source": [
        "# samples = reverse_ode(rng, 2, 5000, beta_t, nabla_log_hat_pt, train_ts)"
      ]
    },
    {
      "cell_type": "code",
      "execution_count": null,
      "metadata": {
        "id": "eocEuoipCvY9"
      },
      "outputs": [],
      "source": [
        "!pip install diffrax\n",
        "import diffrax as dfx"
      ]
    },
    {
      "cell_type": "code",
      "execution_count": null,
      "metadata": {
        "id": "fkQH8K6y_xcy"
      },
      "outputs": [],
      "source": [
        "def reverse_ODE(score, int_beta=alpha_t, data_shape=2, dt0=0.1, t1=R, key=rng):\n",
        "    def drift(t, y, args):\n",
        "        _, beta = jax.jvp(int_beta, (t,), (jnp.ones_like(t),))\n",
        "        return -0.5 * beta * (y + score(t, y))\n",
        "\n",
        "    term = dfx.ODETerm(drift)\n",
        "    solver = dfx.Tsit5()\n",
        "    t0 = 0\n",
        "    y1 = jr.normal(key, data_shape)\n",
        "    # reverse time, solve from t1 to t0\n",
        "    sol = dfx.diffeqsolve(term, solver, t1, t0, -dt0, y1, adjoint=dfx.NoAdjoint())\n",
        "    return sol.ys[0]"
      ]
    },
    {
      "cell_type": "code",
      "execution_count": null,
      "metadata": {
        "id": "ageQTiCnEMz8"
      },
      "outputs": [],
      "source": [
        "import functools as ft"
      ]
    },
    {
      "cell_type": "code",
      "execution_count": null,
      "metadata": {
        "id": "pnZXxKfhErI6"
      },
      "outputs": [],
      "source": [
        "sample_key = jr.split(sample_key, sample_size**2)"
      ]
    },
    {
      "cell_type": "markdown",
      "metadata": {
        "id": "lr9dXxd3f-Eo"
      },
      "source": [
        "#### Plot reverse trajectory"
      ]
    },
    {
      "cell_type": "code",
      "execution_count": null,
      "metadata": {
        "id": "9G6grGShdvVd"
      },
      "outputs": [],
      "source": [
        "#helper function\n",
        "\n",
        "def plot_heatmap(positions, area_min=-2, area_max=2):\n",
        "    \"\"\"\n",
        "    positions: locations of all particles in R^2, array (J, 2)\n",
        "    area_min: lowest x and y coordinate\n",
        "    area_max: highest x and y coordinate\n",
        "    \n",
        "    will plot a heatmap of all particles in the area [area_min, area_max] x [area_min, area_max]\n",
        "    \"\"\"\n",
        "    def small_kernel(z, area_min, area_max):\n",
        "        a = jnp.linspace(area_min, area_max, 512)\n",
        "        x, y = jnp.meshgrid(a, a)\n",
        "        dist = (x - z[0])**2 + (y - z[1])**2\n",
        "        hm = jnp.exp(-350*dist)\n",
        "        return hm\n",
        "\n",
        "    #again we try to jit most of the code, but use the helper functions\n",
        "    #since we cannot jit all of it because of the plt functions\n",
        "    @jit\n",
        "    def produce_heatmap(positions, area_min, area_max):\n",
        "        return jnp.sum(vmap(small_kernel, in_axes=(0, None, None))(positions, area_min, area_max), axis=0)\n",
        "\n",
        "    hm = produce_heatmap(positions, area_min, area_max) #np.sum(vmap(small_kernel)(to_plot), axis=0)\n",
        "    extent = [area_min, area_max, area_max, area_min]\n",
        "    plt.imshow(hm, cmap=cm, interpolation='nearest', extent=extent)\n",
        "    ax = plt.gca()\n",
        "    ax.invert_yaxis()"
      ]
    },
    {
      "cell_type": "code",
      "execution_count": null,
      "metadata": {
        "id": "HUBTuZfbdzTO"
      },
      "outputs": [],
      "source": [
        "rng, step_rng = jr.split(rng)\n",
        "samples = reverse_sde(step_rng, 2, 1000, drift, dispersion, nabla_log_hat_pt)\n",
        "plot_heatmap(samples[:, [0,1]], -5, 5)"
      ]
    },
    {
      "cell_type": "markdown",
      "metadata": {
        "id": "ubVrmXIMd5yA"
      },
      "source": [
        "Bounded perturbation - basically add 1 to the score"
      ]
    },
    {
      "cell_type": "code",
      "execution_count": null,
      "metadata": {
        "id": "O-CI_OSWd4_c"
      },
      "outputs": [],
      "source": [
        "perturbed_score = lambda x, t: nabla_log_hat_pt(x, t) + 1\n",
        "rng, step_rng = jr.split(rng)\n",
        "samples = reverse_sde(step_rng, 2, 1000, drift, dispersion, perturbed_score)\n",
        "plot_heatmap(samples[:, [0,1]], -5, 5)"
      ]
    },
    {
      "cell_type": "markdown",
      "metadata": {
        "id": "sEI79rRcd_Ue"
      },
      "source": [
        "### Training"
      ]
    },
    {
      "cell_type": "markdown",
      "metadata": {
        "id": "ZQdE2tI6gHeT"
      },
      "source": [
        "#### Equinox attempt"
      ]
    },
    {
      "cell_type": "code",
      "execution_count": null,
      "metadata": {
        "id": "xwF9ylAwnE3L"
      },
      "outputs": [],
      "source": [
        "!pip install equinox"
      ]
    },
    {
      "cell_type": "code",
      "execution_count": null,
      "metadata": {
        "id": "bNIwIAAwnPjz"
      },
      "outputs": [],
      "source": [
        "import equinox as eqx"
      ]
    },
    {
      "cell_type": "code",
      "execution_count": null,
      "metadata": {
        "id": "p8dXTHw9nJyu"
      },
      "outputs": [],
      "source": [
        "class ApproximateScore(eqx.Module):\n",
        "  layers: list\n",
        "\n",
        "\n",
        "  def __init__(self, in_size, out_size, key):\n",
        "    key1, key2, key3, key4, key5 = jr.split(key, 5)\n",
        "    self.layers = [eqx.nn.Linear(in_size, 256, key=key1),\n",
        "                   eqx.nn.Linear(256, 512, key=key2),\n",
        "                   eqx.nn.Linear(512,512, key=key3),\n",
        "                   eqx.nn.Linear(512,256, key=key4),\n",
        "                   eqx.nn.Linear(256, out_size, key=key5)]\n",
        "\n",
        "  def __call__(self, x, t):\n",
        "    t = jnp.concatenate([t-0.5, jnp.cos(2*jnp.pi*t)],axis=1)\n",
        "    x=jnp.concatenate([x,t], axis=1)\n",
        "    for layer in self.layers[:-1]:\n",
        "      x = jax.nn.gelu(layer(x))\n",
        "\n",
        "    return self.layers[-1](x)"
      ]
    },
    {
      "cell_type": "code",
      "execution_count": null,
      "metadata": {
        "id": "2bEHQRfhsNHy"
      },
      "outputs": [],
      "source": [
        "import optax\n",
        "\n",
        "batch_size = 200\n",
        "\n",
        "x = jnp.zeros(2*batch_size).reshape((batch_size, 2))\n",
        "time = jnp.ones((batch_size, 1))\n",
        "shap = x.shape[1]\n",
        "score_model = ApproximateScore(in_size = shap, out_size = shap, key=rng)\n",
        "\n",
        "\n",
        "lr = (1e-3)\n",
        "\n",
        "optimiser = optax.adabelief(lr)\n",
        "opt_state = optimiser.init(eqx.filter(score_model, eqx.is_inexact_array))"
      ]
    },
    {
      "cell_type": "code",
      "execution_count": null,
      "metadata": {
        "id": "IodCrOo0zpa-"
      },
      "outputs": [],
      "source": [
        "def loss_fn(model, rng, batch):\n",
        "  rng, step_rng = jr.split(rng)\n",
        "  N_batch = batch.shape[0]\n",
        "  t = jr.randint(step_rng, (N_batch,1), 1, R)/(R-1) #random uniform values\n",
        "  mean_coeff = mean_factor(t)\n",
        "  vs = var(t)\n",
        "  stds = jnp.sqrt(vs)\n",
        "  rng, step_rng = jr.split(rng)\n",
        "  noise = jr.normal(step_rng, batch.shape)\n",
        "  xt = batch * mean_coeff + noise *stds # here we only need the forward process so we calculate value\n",
        "  output = score_model.apply(params, xt,t)\n",
        "  loss = jnp.mean((noise + output*vs)**2) #weird noise loss from DDPMs\n",
        "  return loss\n"
      ]
    },
    {
      "cell_type": "code",
      "execution_count": null,
      "metadata": {
        "id": "XJ1L5bIxzDSs"
      },
      "outputs": [],
      "source": [
        "@partial(jit, static_argnums=[4])\n",
        "def update_step(rng, batch, opt_state, model):\n",
        "    loss_fn_new = eqx.filter_value_and_grad(loss_fn)\n",
        "    val, grads = loss_fn_new(model, rng, batch) #backprop step\n",
        "    updates, opt_state = optimiser.update(grads, opt_state)# equivalent to SGD step\n",
        "    score_model = eqx.apply_updates(score_model, updates) #update network's parameters\n",
        "    return score_model, opt_state"
      ]
    },
    {
      "cell_type": "markdown",
      "metadata": {
        "id": "1f2NV_bZgMfe"
      },
      "source": [
        "#### Flax NN"
      ]
    },
    {
      "cell_type": "code",
      "execution_count": null,
      "metadata": {
        "id": "eJNDGcGvd-Rn"
      },
      "outputs": [],
      "source": [
        "import flax.linen as nn\n",
        "\n",
        "class ApproximateScore(nn.Module):\n",
        "    \n",
        "    @nn.compact\n",
        "    def __call__(self,x,t):\n",
        "        in_size = x.shape[1]\n",
        "        #n_hidden = 256\n",
        "        act = nn.gelu\n",
        "        t = jnp.concatenate([t-0.5, jnp.cos(2*jnp.pi*t)],axis=1)\n",
        "        x=jnp.concatenate([x,t], axis=1)\n",
        "        x = nn.Dense(512)(x)\n",
        "        x = nn.gelu(x)\n",
        "        x = nn.Dense(512)(x)\n",
        "        x = nn.gelu(x)\n",
        "        x = nn.Dense(512)(x)\n",
        "        x = nn.gelu(x)\n",
        "        x = nn.Dense(512)(x)\n",
        "        x = nn.gelu(x)\n",
        "        x = nn.Dense(in_size)(x)\n",
        "\n",
        "        return x\n",
        "        "
      ]
    },
    {
      "cell_type": "markdown",
      "metadata": {
        "id": "UmZkrUTdzbDm"
      },
      "source": [
        "Initialise"
      ]
    },
    {
      "cell_type": "code",
      "execution_count": null,
      "metadata": {
        "id": "8zWI2sHPeJhl"
      },
      "outputs": [],
      "source": [
        "import optax\n",
        "\n",
        "batch_size = 60\n",
        "\n",
        "x = jnp.zeros(2*batch_size).reshape((batch_size, 2))\n",
        "time = jnp.ones((batch_size, 1))\n",
        "\n",
        "score_model = ApproximateScore()\n",
        "params = score_model.init(rng, x, time)\n",
        "\n",
        "optimiser = optax.adam(1e-3)\n",
        "opt_state = optimiser.init(params)"
      ]
    },
    {
      "cell_type": "markdown",
      "metadata": {
        "id": "A5yPLGunfKaw"
      },
      "source": [
        "Loss"
      ]
    },
    {
      "cell_type": "code",
      "execution_count": null,
      "metadata": {
        "id": "MMNLtxA0fMBc"
      },
      "outputs": [],
      "source": [
        "def loss_fn(params, model, rng, batch):\n",
        "  rng, step_rng = jr.split(rng)\n",
        "  N_batch = batch.shape[0]\n",
        "  t = jr.randint(step_rng, (N_batch,1), 1, R)/(R-1) #random uniform values\n",
        "  mean_coeff = mean_factor(t)\n",
        "  vs = var(t)\n",
        "  stds = jnp.sqrt(vs)\n",
        "  rng, step_rng = jr.split(rng)\n",
        "  noise = jr.normal(step_rng, batch.shape)\n",
        "  xt = batch * mean_coeff + noise *stds # here we only need the forward process so we calculate value\n",
        "  output = score_model.apply(params, xt,t)\n",
        "  loss = jnp.mean((noise + output*vs)**2) #weird noise loss from DDPMs\n",
        "  return loss\n"
      ]
    },
    {
      "cell_type": "markdown",
      "metadata": {
        "id": "tbv8rWCCzdBC"
      },
      "source": [
        "Update_step"
      ]
    },
    {
      "cell_type": "code",
      "execution_count": null,
      "metadata": {
        "id": "jfyumPHUzekv"
      },
      "outputs": [],
      "source": [
        "@partial(jit, static_argnums=[4])\n",
        "def update_step(params, rng, batch, opt_state, model):\n",
        "    val, grads = jax.value_and_grad(loss_fn)(params, model, rng, batch) #backprop step\n",
        "    updates, opt_state = optimiser.update(grads, opt_state)# equivalent to SGD step\n",
        "    params = optax.apply_updates(params, updates) #update network's parameters\n",
        "    return val, params, opt_state"
      ]
    },
    {
      "cell_type": "markdown",
      "metadata": {
        "id": "MAxqFN68ytm3"
      },
      "source": [
        "### Main() run"
      ]
    },
    {
      "cell_type": "code",
      "execution_count": null,
      "metadata": {
        "id": "f0uWjzZByr_q"
      },
      "outputs": [],
      "source": [
        "N_epochs = 10_001\n",
        "train_size = mf.shape[0]\n",
        "batch_size = 5\n",
        "batch_size = min(train_size, batch_size)\n",
        "steps_per_epoch = train_size // batch_size\n",
        "for k in range(N_epochs):\n",
        "    rng, step_rng = jr.split(rng)\n",
        "    perms = jr.permutation(step_rng, train_size)\n",
        "    perms = perms[:steps_per_epoch * batch_size]  # skip incomplete batch\n",
        "    perms = perms.reshape((steps_per_epoch, batch_size))\n",
        "    losses = []\n",
        "    for perm in perms:\n",
        "        batch = mf[perm, :]\n",
        "        rng, step_rng = jr.split(rng)\n",
        "        loss, params, opt_state = update_step(params, step_rng, batch, opt_state, score_model)\n",
        "        losses.append(loss)\n",
        "    mean_loss = jnp.mean(jnp.array(losses))\n",
        "    if k % 1000 == 0:\n",
        "        print(\"Epoch %d \\t, Loss %f \" % (k, mean_loss))"
      ]
    },
    {
      "cell_type": "markdown",
      "metadata": {
        "id": "MhjnvO470bn0"
      },
      "source": [
        "### Plot results"
      ]
    },
    {
      "cell_type": "code",
      "execution_count": null,
      "metadata": {
        "id": "4mhJhsw-ysC2"
      },
      "outputs": [],
      "source": [
        "trained_score = lambda x, t: score_model.apply(params, x, t)\n",
        "rng, step_rng = jr.split(rng)\n",
        "samples = reverse_sde(step_rng, 2, 100, drift, dispersion, trained_score)\n",
        "plot_heatmap(samples)"
      ]
    },
    {
      "cell_type": "code",
      "execution_count": null,
      "metadata": {
        "id": "moEiU3_z82xX"
      },
      "outputs": [],
      "source": [
        "trained_score = lambda x, t: score_model.apply(params, x, t)\n",
        "rng, step_rng = jr.split(rng)\n",
        "samples = reverse_sde(step_rng, 2, 10000, drift, dispersion, trained_score)\n",
        "plot_heatmap(samples,-5, 5)\n",
        "#plot.scatter(samples[:,0], samples[:,1])"
      ]
    },
    {
      "cell_type": "markdown",
      "metadata": {
        "id": "T0Sh8Bvgxbme"
      },
      "source": [
        "## MNIST attempt\n"
      ]
    },
    {
      "cell_type": "code",
      "execution_count": null,
      "metadata": {
        "id": "wxZxVC_1xiLg"
      },
      "outputs": [],
      "source": [
        "!pip install einops\n",
        "!pip install equinox\n",
        "!pip install optax\n",
        "!pip install diffrax"
      ]
    },
    {
      "cell_type": "code",
      "execution_count": null,
      "metadata": {
        "id": "0iqjYAJjxem9"
      },
      "outputs": [],
      "source": [
        "import array\n",
        "import functools as ft\n",
        "import gzip\n",
        "import os\n",
        "import struct\n",
        "import urllib.request\n",
        "\n",
        "import diffrax as dfx  # https://github.com/patrick-kidger/diffrax\n",
        "import einops  # https://github.com/arogozhnikov/einops\n",
        "import jax\n",
        "import jax.numpy as jnp\n",
        "import jax.random as jr\n",
        "import matplotlib.pyplot as plt\n",
        "import optax  # https://github.com/deepmind/optax\n",
        "\n",
        "import equinox as eqx"
      ]
    },
    {
      "cell_type": "markdown",
      "metadata": {
        "id": "dWt1LsLMpIiu"
      },
      "source": [
        "Load MNIST dataset & data shuffling helper function"
      ]
    },
    {
      "cell_type": "code",
      "execution_count": null,
      "metadata": {
        "id": "1FZGSd2uxvNE"
      },
      "outputs": [],
      "source": [
        "def mnist():\n",
        "    filename = \"train-images-idx3-ubyte.gz\"\n",
        "    url_dir = \"https://storage.googleapis.com/cvdf-datasets/mnist\"\n",
        "    target_dir = os.getcwd() + \"/data/mnist\"\n",
        "    url = f\"{url_dir}/{filename}\"\n",
        "    target = f\"{target_dir}/{filename}\"\n",
        "\n",
        "    if not os.path.exists(target):\n",
        "        os.makedirs(target_dir, exist_ok=True)\n",
        "        urllib.request.urlretrieve(url, target)\n",
        "        print(f\"Downloaded {url} to {target}\")\n",
        "\n",
        "    with gzip.open(target, \"rb\") as fh:\n",
        "        _, batch, rows, cols = struct.unpack(\">IIII\", fh.read(16))\n",
        "        shape = (batch, 1, rows, cols)\n",
        "        return jnp.array(array.array(\"B\", fh.read()), dtype=jnp.uint8).reshape(shape)\n",
        "\n",
        "\n",
        "def dataloader(data, batch_size, *, key):\n",
        "    dataset_size = data.shape[0]   #60000 MNIST digits\n",
        "    indices = jnp.arange(dataset_size) #get index from 0 to 59,999\n",
        "    while True:  #run loop until it \"breaks\"\n",
        "        perm = jr.permutation(key, indices) #shuffle index\n",
        "        (key,) = jr.split(key, 1) #just generate a single key\n",
        "        start = 0\n",
        "        end = batch_size \n",
        "        while end < dataset_size:\n",
        "            batch_perm = perm[start:end] #get first number of indices from 0 to batch_size\n",
        "            yield data[batch_perm]  #extract those images\n",
        "            start = end  #switch to the next batchsize\n",
        "            end = start + batch_size\n",
        "\n",
        "\n",
        "          #basically cycle through the dataset of batch_size size of randomly permuted dataset"
      ]
    },
    {
      "cell_type": "code",
      "execution_count": null,
      "metadata": {
        "id": "slumhvbix0W8"
      },
      "outputs": [],
      "source": [
        "data = mnist()"
      ]
    },
    {
      "cell_type": "code",
      "execution_count": null,
      "metadata": {
        "id": "Vg2lbP3lyRrv"
      },
      "outputs": [],
      "source": [
        "data.shape"
      ]
    },
    {
      "cell_type": "markdown",
      "metadata": {
        "id": "cOCi43zEpPAd"
      },
      "source": [
        "MLP Mixer NN"
      ]
    },
    {
      "cell_type": "code",
      "execution_count": null,
      "metadata": {
        "id": "h6O5Qhgxwadr"
      },
      "outputs": [],
      "source": [
        "class MixerBlock(eqx.Module):\n",
        "    patch_mixer: eqx.nn.MLP\n",
        "    hidden_mixer: eqx.nn.MLP\n",
        "    norm1: eqx.nn.LayerNorm\n",
        "    norm2: eqx.nn.LayerNorm\n",
        "\n",
        "    def __init__(\n",
        "        self, num_patches, hidden_size, mix_patch_size, mix_hidden_size, *, key\n",
        "    ):\n",
        "        tkey, ckey = jr.split(key, 2)\n",
        "        self.patch_mixer = eqx.nn.MLP(\n",
        "            num_patches, num_patches, mix_patch_size, depth=1, key=tkey\n",
        "        )\n",
        "        self.hidden_mixer = eqx.nn.MLP(\n",
        "            hidden_size, hidden_size, mix_hidden_size, depth=1, key=ckey\n",
        "        )\n",
        "        self.norm1 = eqx.nn.LayerNorm((hidden_size, num_patches))\n",
        "        self.norm2 = eqx.nn.LayerNorm((num_patches, hidden_size))\n",
        "\n",
        "    def __call__(self, y):\n",
        "        y = y + jax.vmap(self.patch_mixer)(self.norm1(y))\n",
        "        y = einops.rearrange(y, \"c p -> p c\")\n",
        "        y = y + jax.vmap(self.hidden_mixer)(self.norm2(y))\n",
        "        y = einops.rearrange(y, \"p c -> c p\")\n",
        "        return y\n",
        "\n",
        "\n",
        "class Mixer2d(eqx.Module):\n",
        "    conv_in: eqx.nn.Conv2d\n",
        "    conv_out: eqx.nn.ConvTranspose2d\n",
        "    blocks: list\n",
        "    norm: eqx.nn.LayerNorm\n",
        "    t1: float\n",
        "\n",
        "    def __init__(\n",
        "        self,\n",
        "        img_size,\n",
        "        patch_size,\n",
        "        hidden_size,\n",
        "        mix_patch_size,\n",
        "        mix_hidden_size,\n",
        "        num_blocks,\n",
        "        t1,\n",
        "        *,\n",
        "        key,\n",
        "    ):\n",
        "        input_size, height, width = img_size\n",
        "        assert (height % patch_size) == 0\n",
        "        assert (width % patch_size) == 0\n",
        "        num_patches = (height // patch_size) * (width // patch_size)\n",
        "        inkey, outkey, *bkeys = jr.split(key, 2 + num_blocks)\n",
        "\n",
        "        self.conv_in = eqx.nn.Conv2d(\n",
        "            input_size + 1, hidden_size, patch_size, stride=patch_size, key=inkey\n",
        "        )\n",
        "        self.conv_out = eqx.nn.ConvTranspose2d(\n",
        "            hidden_size, input_size, patch_size, stride=patch_size, key=outkey\n",
        "        )\n",
        "        self.blocks = [\n",
        "            MixerBlock(\n",
        "                num_patches, hidden_size, mix_patch_size, mix_hidden_size, key=bkey\n",
        "            )\n",
        "            for bkey in bkeys\n",
        "        ]\n",
        "        self.norm = eqx.nn.LayerNorm((hidden_size, num_patches))\n",
        "        self.t1 = t1\n",
        "\n",
        "    def __call__(self, t, y):\n",
        "        t = t / self.t1\n",
        "        _, height, width = y.shape\n",
        "        t = einops.repeat(t, \"-> 1 h w\", h=height, w=width)\n",
        "        y = jnp.concatenate([y, t])\n",
        "        y = self.conv_in(y)\n",
        "        _, patch_height, patch_width = y.shape\n",
        "        y = einops.rearrange(y, \"c h w -> c (h w)\")\n",
        "        for block in self.blocks:\n",
        "            y = block(y)\n",
        "        y = self.norm(y)\n",
        "        y = einops.rearrange(y, \"c (h w) -> c h w\", h=patch_height, w=patch_width)\n",
        "        return self.conv_out(y)"
      ]
    },
    {
      "cell_type": "markdown",
      "metadata": {
        "id": "GgMjcEOdpTYu"
      },
      "source": [
        "Loss function"
      ]
    },
    {
      "cell_type": "code",
      "execution_count": null,
      "metadata": {
        "id": "IAmW4htraW_i"
      },
      "outputs": [],
      "source": [
        "def main_loss_fn(model, key, data):\n",
        "    batch_size = data.shape[0] #256\n",
        "    tkey, losskey = jr.split(key)\n",
        "    losskey = jr.split(losskey, batch_size)\n",
        "    # Low-discrepancy sampling over t to reduce variance\n",
        "    t = jr.randint(tkey, (batch_size,), 1, 1000)\n",
        "\n",
        "\n",
        "\n",
        "    def f(model, data, t, key):\n",
        "      mean = mean_factor(t)\n",
        "      vr = var(t)\n",
        "      std = jnp.sqrt(vr)\n",
        "      noise = jr.normal(key, data.shape)\n",
        "      y = (data * mean) + (std * noise)\n",
        "      pred = model(t, y)\n",
        "      loss = jnp.mean((pred + noise / std) ** 2)\n",
        "      return loss\n",
        "\n",
        "\n",
        "    loss_fn = ft.partial(f, model) # this fixes the single loss fn and iterates the below with model, weight, int_beta fixed\n",
        "    loss_fn = jax.vmap(loss_fn)\n",
        "    return jnp.mean(loss_fn(data, t, losskey))"
      ]
    },
    {
      "cell_type": "code",
      "execution_count": null,
      "metadata": {
        "id": "OAv3PJdPqIJT"
      },
      "outputs": [],
      "source": [
        "# t = jr.uniform(key, (256,), minval=0, maxval=10 / 256)\n",
        "# t = t + (10 / 256) * jnp.arange(256)"
      ]
    },
    {
      "cell_type": "code",
      "execution_count": null,
      "metadata": {
        "id": "rDcjlZmDhFkJ"
      },
      "outputs": [],
      "source": [
        "# main_loss_fn(score_model, rng, data[:256])"
      ]
    },
    {
      "cell_type": "markdown",
      "metadata": {
        "id": "4rABrktCpWKC"
      },
      "source": [
        "Parameter update"
      ]
    },
    {
      "cell_type": "code",
      "execution_count": null,
      "metadata": {
        "id": "MM_OsTMRwNqU"
      },
      "outputs": [],
      "source": [
        "#model, weight, int_beta, data, t1, key, opt_state, opt_update\n",
        "\n",
        "@eqx.filter_jit\n",
        "def eqx_update_step(rng, batch, opt_state, model):\n",
        "    loss_fn = eqx.filter_value_and_grad(main_loss_fn)\n",
        "    loss, grads = loss_fn(model, rng, batch)\n",
        "    updates, opt_state = opt.update(grads, opt_state)# equivalent to SGD step\n",
        "    model = eqx.apply_updates(model, updates) #update network's parameters\n",
        "    key = jr.split(rng, 1)[0]\n",
        "\n",
        "    return loss, model, key ,opt_state"
      ]
    },
    {
      "cell_type": "code",
      "execution_count": null,
      "metadata": {
        "id": "vWco_i_AsQxq"
      },
      "outputs": [],
      "source": [
        "# eqx_update_step(rng, data[:256], opt_state,score_model)"
      ]
    },
    {
      "cell_type": "markdown",
      "metadata": {
        "id": "nzMd1iyspbZd"
      },
      "source": [
        "Parameter/hyperparameter setup"
      ]
    },
    {
      "cell_type": "code",
      "execution_count": null,
      "metadata": {
        "id": "eWJVOAdby0nh"
      },
      "outputs": [],
      "source": [
        "patch_size=4\n",
        "hidden_size=64\n",
        "mix_patch_size=512\n",
        "mix_hidden_size=512\n",
        "num_blocks=4\n",
        "t1=10.0\n",
        "# Optimisation hyperparameters\n",
        "num_steps=1_000_000\n",
        "lr=3e-4\n",
        "batch_size=256\n",
        "print_every=10_000\n",
        "# Sampling hyperparameters\n",
        "dt0=0.1\n",
        "sample_size=10"
      ]
    },
    {
      "cell_type": "markdown",
      "metadata": {
        "id": "QNb3LpL-gEQL"
      },
      "source": [
        "Data Normalisation (get data in [-1,1]) and summary statistics for sampling "
      ]
    },
    {
      "cell_type": "code",
      "execution_count": null,
      "metadata": {
        "id": "FKAxjRc9e0NF"
      },
      "outputs": [],
      "source": [
        "data_mean = jnp.mean(data)\n",
        "data_std = jnp.std(data)\n",
        "data_max = jnp.max(data)\n",
        "data_min = jnp.min(data)"
      ]
    },
    {
      "cell_type": "code",
      "execution_count": null,
      "metadata": {
        "id": "Lf6Rm3m8f6J1"
      },
      "outputs": [],
      "source": [
        "data = (data - data_mean) / data_std"
      ]
    },
    {
      "cell_type": "markdown",
      "metadata": {
        "id": "s43th0kuo1Cp"
      },
      "source": [
        "Get shape of each image"
      ]
    },
    {
      "cell_type": "code",
      "execution_count": null,
      "metadata": {
        "id": "14t5JIZVe4vT"
      },
      "outputs": [],
      "source": [
        "data_shape = data.shape[1:]"
      ]
    },
    {
      "cell_type": "code",
      "execution_count": null,
      "metadata": {
        "id": "SdyaKK8lHqJC"
      },
      "outputs": [],
      "source": [
        "data_shape"
      ]
    },
    {
      "cell_type": "markdown",
      "metadata": {
        "id": "7CynSSvLo4j6"
      },
      "source": [
        "Define NN and optimiser"
      ]
    },
    {
      "cell_type": "code",
      "execution_count": null,
      "metadata": {
        "id": "_J9fj_ZxmvTA"
      },
      "outputs": [],
      "source": [
        "# (model_key,) = jr.split(rng, 1)"
      ]
    },
    {
      "cell_type": "code",
      "execution_count": null,
      "metadata": {
        "id": "YDYvbUZfommW"
      },
      "outputs": [],
      "source": [
        "load_key, train_key, model_key, sample_key = jr.split(rng, 4)"
      ]
    },
    {
      "cell_type": "code",
      "execution_count": null,
      "metadata": {
        "id": "vAmqGcaUgSRe"
      },
      "outputs": [],
      "source": [
        "score_model = Mixer2d(\n",
        "        data_shape,\n",
        "        patch_size,\n",
        "        hidden_size,\n",
        "        mix_patch_size,\n",
        "        mix_hidden_size,\n",
        "        num_blocks,\n",
        "        t1,\n",
        "        key=model_key,\n",
        "    )"
      ]
    },
    {
      "cell_type": "code",
      "execution_count": null,
      "metadata": {
        "id": "EDaOZXCqjtan"
      },
      "outputs": [],
      "source": [
        "opt = optax.adabelief(lr)\n",
        "opt_state = opt.init(eqx.filter(score_model, eqx.is_inexact_array))"
      ]
    },
    {
      "cell_type": "markdown",
      "metadata": {
        "id": "axufPtC4prbm"
      },
      "source": [
        "Run training"
      ]
    },
    {
      "cell_type": "code",
      "execution_count": null,
      "metadata": {
        "id": "ELB9Xjzq7QX4"
      },
      "outputs": [],
      "source": [
        "#roughly 6mins 20secs for 10,000 epochs"
      ]
    },
    {
      "cell_type": "code",
      "execution_count": null,
      "metadata": {
        "id": "aO2cQNV3lbqg"
      },
      "outputs": [],
      "source": [
        "total_value=0\n",
        "total_size=0\n",
        "for step, data in zip(range(num_steps),  dataloader(data, batch_size, key=load_key)):\n",
        "  value, model, train_key, opt_state = eqx_update_step(train_key, data, opt_state, score_model)\n",
        "  total_value += value.item()\n",
        "  total_size += 1\n",
        "  if (step % print_every) == 0 or step == num_steps - 1:\n",
        "            print(f\"Step={step} Loss={total_value / total_size}\")\n",
        "            total_value = 0\n",
        "            total_size = 0"
      ]
    },
    {
      "cell_type": "code",
      "execution_count": null,
      "metadata": {
        "id": "7Zf14a0yXLBs"
      },
      "outputs": [],
      "source": [
        "# int_beta = lambda t: t  # Try experimenting with other options here!\n",
        "# weight = lambda t: 1 - jnp.exp(-int_beta(t))  # Just chosen to upweight the region near t=0."
      ]
    },
    {
      "cell_type": "markdown",
      "metadata": {
        "id": "G2Hq3c_SydHO"
      },
      "source": [
        "Reverse SDE: $dY_{t} = \\frac{1}{2}\\beta_{1-t}(Y_{t}+2s_{\\theta}(Y_{t},t))dt + \\sqrt{\\beta_{1-t}}dB_{t}$"
      ]
    },
    {
      "cell_type": "code",
      "source": [
        "from diffrax import diffeqsolve, ControlTerm, Euler, MultiTerm, ODETerm, SaveAt, VirtualBrownianTree"
      ],
      "metadata": {
        "id": "Hp8gwtAwvYcN"
      },
      "execution_count": null,
      "outputs": []
    },
    {
      "cell_type": "code",
      "source": [
        "#image shape of 60,0000, 1, 28,28\n",
        "\n",
        "#think of this from right to left- we looks at each row one by one and we have 28 columns and then have 28 of them to represent the rows"
      ],
      "metadata": {
        "id": "d2TWKAMwVjrK"
      },
      "execution_count": null,
      "outputs": []
    },
    {
      "cell_type": "code",
      "source": [
        "# test = jnp.array([ \n",
        "#         [ [ [1,1,1,1,1], [1,1,1,1,1], [1,1,1,1,1], [1,1,1,1,1], [1,1,1,1,1] ] ], \n",
        "#         [ [ [1,1,1,1,1], [1,1,1,1,1], [1,1,1,1,1], [1,1,1,1,1], [1,1,1,1,1] ] ] \n",
        "#     ]\n",
        "#     )"
      ],
      "metadata": {
        "id": "KAlWdgSXTo1f"
      },
      "execution_count": null,
      "outputs": []
    },
    {
      "cell_type": "code",
      "source": [
        "# test.shape"
      ],
      "metadata": {
        "colab": {
          "base_uri": "https://localhost:8080/"
        },
        "id": "y-f6U76VUIg3",
        "outputId": "eceb18ef-030a-442e-d543-9ef6304bcf9e"
      },
      "execution_count": null,
      "outputs": [
        {
          "output_type": "execute_result",
          "data": {
            "text/plain": [
              "(2, 1, 5, 5)"
            ]
          },
          "metadata": {},
          "execution_count": 176
        }
      ]
    },
    {
      "cell_type": "code",
      "execution_count": null,
      "metadata": {
        "id": "91g7WyIOxwSy"
      },
      "outputs": [],
      "source": [
        "@eqx.filter_jit\n",
        "def single_sample_fn(model, data_shape, beta_t, dt0, t1, key):\n",
        "  \n",
        "  def drift(t, y, args):\n",
        "    _, beta = jax.jvp(beta_t, (t,), (jnp.ones_like(t),))\n",
        "    -0.5*beta*(y+2*model(t,y))\n",
        "    return -0.5*beta*(y+2*model(t,y))\n",
        "\n",
        "  def diffusion(t, y, args):\n",
        "    _, beta = jax.jvp(beta_t, (t,), (jnp.ones_like(t),)) # gets an array of beta_t applied to an array of shape t\n",
        "    diff= jnp.sqrt(beta)\n",
        "    return diff\n",
        "  \n",
        "  t0=0\n",
        "  brownian_motion = VirtualBrownianTree(t0, t1, tol=1e-3, shape = (28,), key=key)\n",
        "  y1 = jr.normal(key, data_shape)\n",
        "  terms = MultiTerm(ODETerm(drift), ControlTerm(diffusion, brownian_motion))\n",
        "  solver = Euler()\n",
        "\n",
        "  sol = diffeqsolve(terms, solver, t1, t0, -dt0, y1)\n",
        "  return sol.ys[0]"
      ]
    },
    {
      "cell_type": "code",
      "execution_count": null,
      "metadata": {
        "id": "D7gUQv-Q4nwW"
      },
      "outputs": [],
      "source": [
        "#sample_key1 = jr.split(sample_key, sample_size**2)\n",
        "sample_fn = ft.partial(single_sample_fn, model, beta_t, data_shape, dt0, t1)\n",
        "sample = jax.vmap(sample_fn)(sample_key1)\n",
        "sample = data_mean + data_std * sample\n",
        "sample = jnp.clip(sample, data_min, data_max)\n",
        "sample = einops.rearrange(sample, \"(n1 n2) 1 h w -> (n1 h) (n2 w)\", n1=sample_size, n2=sample_size)"
      ]
    },
    {
      "cell_type": "code",
      "source": [
        "plt.imshow(sample, cmap=\"Greys\")\n",
        "plt.axis(\"off\")\n",
        "plt.tight_layout()\n",
        "plt.show()"
      ],
      "metadata": {
        "colab": {
          "base_uri": "https://localhost:8080/",
          "height": 297
        },
        "id": "gWBdc_sws8_s",
        "outputId": "91b4b077-a91d-4db4-a783-4a04e9b976ef"
      },
      "execution_count": null,
      "outputs": [
        {
          "output_type": "display_data",
          "data": {
            "text/plain": [
              "<Figure size 432x288 with 1 Axes>"
            ],
            "image/png": "[encoded data removed]"
          },
          "metadata": {}
        }
      ]
    },
    {
      "cell_type": "markdown",
      "source": [
        "Save"
      ],
      "metadata": {
        "id": "Wd1ge3XRsJA4"
      }
    },
    {
      "cell_type": "code",
      "source": [
        "from google.colab import drive\n",
        "drive.mount('/content/gdrive')"
      ],
      "metadata": {
        "colab": {
          "base_uri": "https://localhost:8080/"
        },
        "id": "PSIeY1Q6sIZk",
        "outputId": "8d8799ac-45d1-4d46-e5c6-64f5a9b3fa40"
      },
      "execution_count": 14,
      "outputs": [
        {
          "output_type": "stream",
          "name": "stdout",
          "text": [
            "Mounted at /content/gdrive\n"
          ]
        }
      ]
    },
    {
      "cell_type": "code",
      "source": [
        "eqx.tree_serialise_leaves(\"test_model2.eqx\", score_model)"
      ],
      "metadata": {
        "id": "tuJOE4pEtDA8"
      },
      "execution_count": 25,
      "outputs": []
    },
    {
      "cell_type": "code",
      "source": [
        "import shutil\n",
        "shutil.copy('/content/test_model2.eqx','/content/gdrive/MyDrive/Colab Notebooks')"
      ],
      "metadata": {
        "colab": {
          "base_uri": "https://localhost:8080/",
          "height": 36
        },
        "id": "U3uMgcO5zzji",
        "outputId": "b1d8a6ce-e5f6-423d-d367-5103b9d23123"
      },
      "execution_count": 26,
      "outputs": [
        {
          "output_type": "execute_result",
          "data": {
            "text/plain": [
              "'/content/gdrive/MyDrive/Colab Notebooks/test_model2.eqx'"
            ],
            "application/vnd.google.colaboratory.intrinsic+json": {
              "type": "string"
            }
          },
          "metadata": {},
          "execution_count": 26
        }
      ]
    },
    {
      "cell_type": "code",
      "source": [
        "# model_loaded = eqx.tree_deserialise_leaves(\"/content/gdrive/MyDrive/Colab Notebooks/test_model.eqx\", score_model)"
      ],
      "metadata": {
        "id": "mp0LyFVlvAUK"
      },
      "execution_count": 16,
      "outputs": []
    }
  ],
  "metadata": {
    "accelerator": "GPU",
    "colab": {
      "provenance": [],
      "collapsed_sections": [
        "ZQdE2tI6gHeT"
      ],
      "authorship_tag": "ABX9TyNHFd24wN1rzbYjdZHYrqq6",
      "include_colab_link": true
    },
    "gpuClass": "standard",
    "kernelspec": {
      "display_name": "Python 3",
      "name": "python3"
    },
    "language_info": {
      "name": "python"
    }
  },
  "nbformat": 4,
  "nbformat_minor": 0
}